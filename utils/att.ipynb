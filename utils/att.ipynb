{
 "cells": [
  {
   "cell_type": "code",
   "execution_count": 42,
   "id": "e665c00a-ac0c-47ab-a466-790e76cc2d44",
   "metadata": {},
   "outputs": [],
   "source": [
    "import tensorflow as tf\n",
    "import numpy as np\n",
    "from tensorflow.keras.layers import Layer, Dense"
   ]
  },
  {
   "cell_type": "code",
   "execution_count": 15,
   "id": "9712211b-f8a9-400b-bad3-4f6ab8ad4117",
   "metadata": {},
   "outputs": [],
   "source": [
    "batch = 128\n",
    "seq_q = 10\n",
    "seq_len = 10\n",
    "d_k = 512\n",
    "q = tf.constant(np.random.randn(batch, seq_q, d_k))\n",
    "k, v = tf.constant(np.random.randn(batch, seq_len, d_k)), tf.constant(np.random.randn(batch, seq_len, d_k))\n",
    "mask = tf.constant(np.random.randint(2, size=(batch, seq_q, seq_len)))"
   ]
  },
  {
   "cell_type": "code",
   "execution_count": 65,
   "id": "0afc5ee6-d527-42e8-9fe1-08e1f27b978a",
   "metadata": {},
   "outputs": [],
   "source": [
    "def attention(q, k, v, mask=None):\n",
    "    # q: [batch, seq_q, d_k]\n",
    "    # k, v: [batch, seq_len, d_k]\n",
    "    # mask: [batch, seq_q, seq_len]\n",
    "    # output: [batch, seq_q, d_k]\n",
    "    d_k = q.shape[-1]\n",
    "    # tf.einsum 交换最后两个纬度\n",
    "    scores = tf.matmul(q, tf.einsum('...ij->...ji', k)) / np.sqrt(d_k) # batch, seq_q, seq_len\n",
    "    if mask is not None:\n",
    "        scores = tf.where(tf.equal(mask, 0), 1e-9, scores)\n",
    "    att_scores = tf.nn.softmax(scores) # batch, seq_q, seq_len\n",
    "    output = tf.matmul(att_scores, v)\n",
    "    return output"
   ]
  },
  {
   "cell_type": "code",
   "execution_count": 66,
   "id": "bd8e2f6a-580e-4650-8329-cab2b51d9e3b",
   "metadata": {},
   "outputs": [
    {
     "data": {
      "text/plain": [
       "TensorShape([128, 10, 512])"
      ]
     },
     "execution_count": 66,
     "metadata": {},
     "output_type": "execute_result"
    }
   ],
   "source": [
    "attention(q, k, v, mask=mask).shape"
   ]
  },
  {
   "cell_type": "code",
   "execution_count": 70,
   "id": "730f5668-2d6e-48c1-b2e2-ff651af1181d",
   "metadata": {},
   "outputs": [],
   "source": [
    "class MultiHeadedAttention(Layer):\n",
    "    def __init__(self, h, d_model):\n",
    "        super(MultiHeadedAttention, self).__init__()\n",
    "        assert d_model % h == 0\n",
    "        # We assume d_v always equals d_k\n",
    "        self.d_k = d_model // h\n",
    "        self.h = h\n",
    "        self.linears = [Dense(d_model) for _ in range(4)]\n",
    "\n",
    "    def call(self, query, key, value, mask=None):\n",
    "        \n",
    "        batch = query.shape[0]\n",
    "        # 1) Do all the linear projections in batch from d_model => h x d_k\n",
    "        # batch, h, seq_len, d_k\n",
    "        q, k, v = [\n",
    "            tf.transpose(tf.reshape(dense(x), shape=[batch, -1, self.h, self.d_k]), [0, 2, 1, 3])\n",
    "            for dense, x in zip(self.linears[:3], (query, key, value))]\n",
    "\n",
    "        # 2) Apply attention on all the projected vectors in batch.\n",
    "        out = attention(q, k, v, mask=mask) # batch, h, seq_len, d_k\n",
    "        print(out.shape)\n",
    "        # 3) \"Concat\" using a view and apply a final linear.\n",
    "        x = tf.reshape(tf.transpose(out, [0, 2, 1, 3]), shape=[batch, -1, self.h * self.d_k])\n",
    "        return self.linears[-1](x)"
   ]
  },
  {
   "cell_type": "code",
   "execution_count": 71,
   "id": "b7c2b992-f2c6-4c13-9ec3-ead672f04809",
   "metadata": {},
   "outputs": [],
   "source": [
    "multiheadatt = MultiHeadedAttention(8, 512)"
   ]
  },
  {
   "cell_type": "code",
   "execution_count": 74,
   "id": "55c468dd-0ef9-4dd3-b50e-44c1dca066e5",
   "metadata": {},
   "outputs": [
    {
     "name": "stdout",
     "output_type": "stream",
     "text": [
      "(128, 8, 10, 64)\n"
     ]
    },
    {
     "data": {
      "text/plain": [
       "TensorShape([128, 10, 512])"
      ]
     },
     "execution_count": 74,
     "metadata": {},
     "output_type": "execute_result"
    }
   ],
   "source": [
    "multiheadatt(q, k, v).shape"
   ]
  },
  {
   "cell_type": "code",
   "execution_count": null,
   "id": "9fc7e3dd-f074-4b82-b25e-71497bf895e2",
   "metadata": {},
   "outputs": [],
   "source": []
  },
  {
   "cell_type": "code",
   "execution_count": null,
   "id": "5a19558c-ede0-4bea-bd79-a6da2b0ed767",
   "metadata": {},
   "outputs": [],
   "source": []
  }
 ],
 "metadata": {
  "kernelspec": {
   "display_name": "Python 3",
   "language": "python",
   "name": "python3"
  },
  "language_info": {
   "codemirror_mode": {
    "name": "ipython",
    "version": 3
   },
   "file_extension": ".py",
   "mimetype": "text/x-python",
   "name": "python",
   "nbconvert_exporter": "python",
   "pygments_lexer": "ipython3",
   "version": "3.6.5"
  }
 },
 "nbformat": 4,
 "nbformat_minor": 5
}
