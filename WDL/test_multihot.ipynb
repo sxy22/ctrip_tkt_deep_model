{
 "cells": [
  {
   "cell_type": "code",
   "execution_count": null,
   "id": "6f00e5a1-409c-4dc9-b0e8-88ea597292e1",
   "metadata": {},
   "outputs": [],
   "source": [
    "# from pyspark.sql import SparkSession\n",
    "# import os\n",
    "# os.environ[\"PYSPARK_PYTHON\"] = \"/usr/bin/python3.6\"\n",
    "# spark = SparkSession.builder.appName(\"tkt_kwd_model\").enableHiveSupport().getOrCreate()\n",
    "# train_sql_query = \"\"\n",
    "# spark_df = spark.sql(sql_query)\n",
    "# data = spark_df.toPandas()"
   ]
  },
  {
   "cell_type": "code",
   "execution_count": null,
   "id": "498a23ad-5217-4e2c-9914-8e2b330f6043",
   "metadata": {},
   "outputs": [],
   "source": []
  },
  {
   "cell_type": "code",
   "execution_count": 165,
   "id": "42f95017-7106-4b51-9bfb-9fa10dc0cc71",
   "metadata": {},
   "outputs": [
    {
     "name": "stdout",
     "output_type": "stream",
     "text": [
      "The autoreload extension is already loaded. To reload it, use:\n",
      "  %reload_ext autoreload\n"
     ]
    }
   ],
   "source": [
    "%load_ext autoreload\n",
    "%autoreload 2"
   ]
  },
  {
   "cell_type": "code",
   "execution_count": 166,
   "id": "9dc4c354-ee1a-4691-af69-230312a69e07",
   "metadata": {},
   "outputs": [],
   "source": [
    "def vocab_size_mask(data, sparse_features, sparse_feature_vocab_size):\n",
    "    for feat in sparse_features:\n",
    "        data[feat] = np.where(data[feat] <= sparse_feature_vocab_size[feat], data[feat], 0)"
   ]
  },
  {
   "cell_type": "code",
   "execution_count": 167,
   "id": "f515bc38-74f0-4286-8273-977d13d03c73",
   "metadata": {},
   "outputs": [],
   "source": [
    "def get_model_input(data, all_feature_list, target='isorder', over_sample_rate=-1, task='train', multi_list=[]):\n",
    "    df = data[[feat['feat_name'] for feat in all_feature_list + multi_list]]\n",
    "    target = data[target]\n",
    "    y = target.values.astype('int32')\n",
    "    if over_sample_rate > 0:\n",
    "        pos = df[y == 1]\n",
    "        neg = df[y == 0]\n",
    "        X = pd.concat([pos for _ in range(over_sample_rate)] + [neg], axis=0)\n",
    "        y = np.array([1] * (len(pos) * over_sample_rate) + [0] * len(neg))\n",
    "    else:\n",
    "        X = df\n",
    "    if task == 'train': # shuffle the dataset when training\n",
    "        idx = [i for i in range(len(y))]\n",
    "        random.shuffle(idx)\n",
    "        X = X.iloc[idx]\n",
    "        y = y[idx]\n",
    "    multi_inputs = []\n",
    "    for feat in multi_list:\n",
    "        inp = X[feat['feat_name']]\n",
    "        inp = inp.fillna('0').str.split(',', n=5, expand=True).iloc[:, :5].fillna(0).values.astype('int32')\n",
    "        inp = tf.keras.preprocessing.sequence.pad_sequences(inp, padding='post', maxlen=5)\n",
    "        multi_inputs.append(inp)\n",
    "    X = X.drop([feat['feat_name'] for feat in multi_list], axis=1).values.astype('float32')\n",
    "    return [X[:, i] for i in range(X.shape[1])], y, multi_inputs"
   ]
  },
  {
   "cell_type": "code",
   "execution_count": 168,
   "id": "4650babf-a331-44d1-a5ad-f325a25b79fb",
   "metadata": {
    "tags": []
   },
   "outputs": [],
   "source": [
    "import sys\n",
    "import os \n",
    "sys.path.append(\"..\")\n",
    "sys.path.append(\".\")\n",
    "import random\n",
    "import numpy as np \n",
    "import pandas as pd \n",
    "import tensorflow as tf\n",
    "from tensorflow.keras.layers import Input, Embedding, Dense, Dropout\n",
    "from sklearn.model_selection import train_test_split\n",
    "\n",
    "from tensorflow.keras.callbacks import EarlyStopping\n",
    "from tensorflow.keras.losses import binary_crossentropy\n",
    "from tensorflow.keras.optimizers import Adam\n",
    "from tensorflow.keras.metrics import AUC, Accuracy, BinaryAccuracy\n",
    "# from tensorflow.python.client import device_lib\n",
    "# device_lib.list_local_devices()\n",
    "from WDL.model_multi import WideDeep_multi\n",
    "from WDL.modules import sparseFeature, denseFeature"
   ]
  },
  {
   "cell_type": "code",
   "execution_count": 169,
   "id": "bbc5e97e-c607-4b8b-982f-7bc6a7f8eb8f",
   "metadata": {},
   "outputs": [],
   "source": [
    "from utils.get_metrics import get_topn, get_gauc# , get_topn_v2, get_gauc_v2"
   ]
  },
  {
   "cell_type": "code",
   "execution_count": 170,
   "id": "8f922316-e682-42d5-8f0e-2cb9d6eb21d0",
   "metadata": {},
   "outputs": [
    {
     "name": "stdout",
     "output_type": "stream",
     "text": [
      "Num GPUs Available:  1\n"
     ]
    }
   ],
   "source": [
    "os.environ['CUDA_VISIBLE_DEVICES'] = '0'\n",
    "print(\"Num GPUs Available: \", len(tf.config.list_physical_devices('GPU')))"
   ]
  },
  {
   "cell_type": "code",
   "execution_count": 27,
   "id": "4ef83941-6992-485c-9a33-03162d5723bc",
   "metadata": {},
   "outputs": [],
   "source": [
    "# sample = -1\n",
    "# train_file = '../dataset/tkt_kwd_train_721_727.csv'\n",
    "# data = pd.read_csv(train_file)\n",
    "# print('train samples:', len(data))\n",
    "# if sample == -1:\n",
    "#     data = pd.read_csv(file)\n",
    "# else:\n",
    "#     data = pd.read_csv(file, iterator=True)\n",
    "#     data = data.get_chunk(sample)"
   ]
  },
  {
   "cell_type": "markdown",
   "id": "85f2acc5-2f94-42f9-8b2e-885047741382",
   "metadata": {},
   "source": [
    "## 特征"
   ]
  },
  {
   "cell_type": "code",
   "execution_count": 7,
   "id": "c472359f-23d7-40a1-b218-c67a92e0f065",
   "metadata": {},
   "outputs": [],
   "source": [
    "# wide_dense_features = [x.strip() for x in 'around_tour, isholiday, hot_p1m, ctr_p1m, order_p1m, gmv_p1m, unitgmv_p1m, comment_p, comment_pl2m, hot_pla1m, ctr_pla1m, order_pla1m, gmv_pla1m, unitgmv_pla1m, queryctr_pldk1m, new_p1m, season_p, basic_p, kwdcoeff_p, text_score, local_poi_distance, local_district_distance, poi_district_distance, businessstatus, dat, date_type, holiday_type, day_of_week, week_of_year, month, isheat, imquality_score, ishighqualitypoi, iscoverimage, hasticket, inchina, isfree'.split(',')]\n",
    "# deep_dense_features = [x.strip() for x in 'order_cnt_3m_p, order_cnt_1m_p, order_cnt_15d_p, order_cnt_7d_p, order_cnt_3d_p, gmv_3m_p, gmv_1m_p, gmv_15d_p, gmv_7d_p, gmv_3d_p, expos_uv_3m_p, expos_uv_1m_p, expos_uv_15d_p, expos_uv_7d_p, expos_uv_3d_p, click_uv_3m_p, click_uv_1m_p, click_uv_15d_p, click_uv_7d_p, click_uv_3d_p, ctr_3m_p, ctr_1m_p, ctr_15d_p, ctr_7d_p, ctr_3d_p, unit_decay_gmv_3m_p, unit_decay_gmv_1m_p, unit_decay_gmv_15d_p, unit_decay_gmv_7d_p, unit_decay_gmv_3d_p, ctcvr_3m_p, ctcvr_1m_p, ctcvr_15d_p, ctcvr_7d_p, ctcvr_3d_p, cvr_3m_p, cvr_1m_p, cvr_15d_p, cvr_7d_p, cvr_3d_p, detail_uv_3m_p, detail_uv_1m_p, detail_uv_15d_p, detail_uv_7d_p, detail_uv_3d_p, order_cnt_3m_pl, order_cnt_1m_pl, order_cnt_15d_pl, order_cnt_7d_pl, order_cnt_3d_pl, gmv_3m_pl, gmv_1m_pl, gmv_15d_pl, gmv_7d_pl, gmv_3d_pl, expos_uv_3m_pl, expos_uv_1m_pl, expos_uv_15d_pl, expos_uv_7d_pl, expos_uv_3d_pl, click_uv_3m_pl, click_uv_1m_pl, click_uv_15d_pl, click_uv_7d_pl, click_uv_3d_pl, ctr_3m_pl, ctr_1m_pl, ctr_15d_pl, ctr_7d_pl, ctr_3d_pl, unit_decay_gmv_3m_pl, unit_decay_gmv_1m_pl, unit_decay_gmv_15d_pl, unit_decay_gmv_7d_pl, unit_decay_gmv_3d_pl, ctcvr_3m_pl, ctcvr_1m_pl, ctcvr_15d_pl, ctcvr_7d_pl, ctcvr_3d_pl, cvr_3m_pl, cvr_1m_pl, cvr_15d_pl, cvr_7d_pl, cvr_3d_pl, detail_uv_3m_pl, detail_uv_1m_pl, detail_uv_15d_pl, detail_uv_7d_pl, detail_uv_3d_pl, order_cnt_3m_pdk, order_cnt_1m_pdk, order_cnt_15d_pdk, order_cnt_7d_pdk, order_cnt_3d_pdk, gmv_3m_pdk, gmv_1m_pdk, gmv_15d_pdk, gmv_7d_pdk, gmv_3d_pdk, expos_uv_3m_pdk, expos_uv_1m_pdk, expos_uv_15d_pdk, expos_uv_7d_pdk, expos_uv_3d_pdk, click_uv_3m_pdk, click_uv_1m_pdk, click_uv_15d_pdk, click_uv_7d_pdk, click_uv_3d_pdk, ctr_3m_pdk, ctr_1m_pdk, ctr_15d_pdk, ctr_7d_pdk, ctr_3d_pdk, unit_decay_gmv_3m_pdk, unit_decay_gmv_1m_pdk, unit_decay_gmv_15d_pdk, unit_decay_gmv_7d_pdk, unit_decay_gmv_3d_pdk, ctcvr_3m_pdk, ctcvr_1m_pdk, ctcvr_15d_pdk, ctcvr_7d_pdk, ctcvr_3d_pdk, cvr_3m_pdk, cvr_1m_pdk, cvr_15d_pdk, cvr_7d_pdk, cvr_3d_pdk, order_cnt_3m_u, order_cnt_1m_u, order_cnt_15d_u, order_cnt_7d_u, order_cnt_3d_u, gmv_3m_u, gmv_1m_u, gmv_15d_u, gmv_7d_u, gmv_3d_u, expos_uv_3m_u, expos_uv_1m_u, expos_uv_15d_u, expos_uv_7d_u, expos_uv_3d_u, click_uv_3m_u, click_uv_1m_u, click_uv_15d_u, click_uv_7d_u, click_uv_3d_u, ctr_3m_u, ctr_1m_u, ctr_15d_u, ctr_7d_u, ctr_3d_u, unit_decay_gmv_3m_u, unit_decay_gmv_1m_u, unit_decay_gmv_15d_u, unit_decay_gmv_7d_u, unit_decay_gmv_3d_u, ctcvr_3m_u, ctcvr_1m_u, ctcvr_15d_u, ctcvr_7d_u, ctcvr_3d_u, cvr_3m_u, cvr_1m_u, cvr_15d_u, cvr_7d_u, cvr_3d_u, order_cnt_3m_uk, order_cnt_1m_uk, order_cnt_15d_uk, order_cnt_7d_uk, order_cnt_3d_uk, gmv_3m_uk, gmv_1m_uk, gmv_15d_uk, gmv_7d_uk, gmv_3d_uk, expos_uv_3m_uk, expos_uv_1m_uk, expos_uv_15d_uk, expos_uv_7d_uk, expos_uv_3d_uk, click_uv_3m_uk, click_uv_1m_uk, click_uv_15d_uk, click_uv_7d_uk, click_uv_3d_uk, ctr_3m_uk, ctr_1m_uk, ctr_15d_uk, ctr_7d_uk, ctr_3d_uk, unit_decay_gmv_3m_uk, unit_decay_gmv_1m_uk, unit_decay_gmv_15d_uk, unit_decay_gmv_7d_uk, unit_decay_gmv_3d_uk, ctcvr_3m_uk, ctcvr_1m_uk, ctcvr_15d_uk, ctcvr_7d_uk, ctcvr_3d_uk, cvr_3m_uk, cvr_1m_uk, cvr_15d_uk, cvr_7d_uk, cvr_3d_uk, order_cnt_3m_puk, order_cnt_1m_puk, order_cnt_15d_puk, order_cnt_7d_puk, order_cnt_3d_puk, gmv_3m_puk, gmv_1m_puk, gmv_15d_puk, gmv_7d_puk, gmv_3d_puk, expos_uv_3m_puk, expos_uv_1m_puk, expos_uv_15d_puk, expos_uv_7d_puk, expos_uv_3d_puk, click_uv_3m_puk, click_uv_1m_puk, click_uv_15d_puk, click_uv_7d_puk, click_uv_3d_puk, ctr_3m_puk, ctr_1m_puk, ctr_15d_puk, ctr_7d_puk, ctr_3d_puk, unit_decay_gmv_3m_puk, unit_decay_gmv_1m_puk, unit_decay_gmv_15d_puk, unit_decay_gmv_7d_puk, unit_decay_gmv_3d_puk, ctcvr_3m_puk, ctcvr_1m_puk, ctcvr_15d_puk, ctcvr_7d_puk, ctcvr_3d_puk, cvr_3m_puk, cvr_1m_puk, cvr_15d_puk, cvr_7d_puk, cvr_3d_puk, order_cnt_3m_k, order_cnt_1m_k, order_cnt_15d_k, order_cnt_7d_k, order_cnt_3d_k, gmv_3m_k, gmv_1m_k, gmv_15d_k, gmv_7d_k, gmv_3d_k, expos_uv_3m_k, expos_uv_1m_k, expos_uv_15d_k, expos_uv_7d_k, expos_uv_3d_k, click_uv_3m_k, click_uv_1m_k, click_uv_15d_k, click_uv_7d_k, click_uv_3d_k, ctr_3m_k, ctr_1m_k, ctr_15d_k, ctr_7d_k, ctr_3d_k, unit_decay_gmv_3m_k, unit_decay_gmv_1m_k, unit_decay_gmv_15d_k, unit_decay_gmv_7d_k, unit_decay_gmv_3d_k, ctcvr_3m_k, ctcvr_1m_k, ctcvr_15d_k, ctcvr_7d_k, ctcvr_3d_k, cvr_3m_k, cvr_1m_k, cvr_15d_k, cvr_7d_k, cvr_3d_k, order_cnt_3m_pu, order_cnt_1m_pu, order_cnt_15d_pu, order_cnt_7d_pu, order_cnt_3d_pu, gmv_3m_pu, gmv_1m_pu, gmv_15d_pu, gmv_7d_pu, gmv_3d_pu, expos_uv_3m_pu, expos_uv_1m_pu, expos_uv_15d_pu, expos_uv_7d_pu, expos_uv_3d_pu, click_uv_3m_pu, click_uv_1m_pu, click_uv_15d_pu, click_uv_7d_pu, click_uv_3d_pu, ctr_3m_pu, ctr_1m_pu, ctr_15d_pu, ctr_7d_pu, ctr_3d_pu, unit_decay_gmv_3m_pu, unit_decay_gmv_1m_pu, unit_decay_gmv_15d_pu, unit_decay_gmv_7d_pu, unit_decay_gmv_3d_pu, ctcvr_3m_pu, ctcvr_1m_pu, ctcvr_15d_pu, ctcvr_7d_pu, ctcvr_3d_pu, cvr_3m_pu, cvr_1m_pu, cvr_15d_pu, cvr_7d_pu, cvr_3d_pu'.split(',')]\n",
    "# deep_sparse_features = [x.strip() for x in 'districtid_enc_index, user_residgscityid_enc_index, localdistrictid_enc_index, userlocaltype_enc_index, district_userlocaltype_enc_index, age_enc_index, gender_enc_index, star_enc_index, member_level_enc_index, crown_enc_index, user_value_enc_index, themeid_enc_index'.split(',')]"
   ]
  },
  {
   "cell_type": "code",
   "execution_count": 8,
   "id": "45c7ecba-0eb0-4f5a-ba1d-4ba6d0ca75f4",
   "metadata": {},
   "outputs": [],
   "source": [
    "# v1特征\n",
    "# holiday, 长时间周期暂时不加\n",
    "# 只用15d统计特征\n",
    "\n",
    "# # wide_dense\n",
    "# wide_dense_str = 'around_tour,isholiday,hot_p1m,ctr_p1m,order_p1m,gmv_p1m,unitgmv_p1m,comment_p,comment_pl2m,hot_pla1m,\\\n",
    "# ctr_pla1m,order_pla1m,gmv_pla1m,unitgmv_pla1m,queryctr_pldk1m,new_p1m,season_p,basic_p,kwdcoeff_p,text_score,\\\n",
    "# businessstatus,isheat,imquality_score,ishighqualitypoi,isfree'\n",
    "\n",
    "# # wide_sparse\n",
    "# wide_sparse_str = 'date_type'\n",
    "\n",
    "# # deep_dense\n",
    "# deep_dense_str = 'around_tour,isholiday,hot_p1m,ctr_p1m,order_p1m,gmv_p1m,unitgmv_p1m,comment_p,comment_pl2m,hot_pla1m,\\\n",
    "# ctr_pla1m,order_pla1m,gmv_pla1m,unitgmv_pla1m,queryctr_pldk1m,new_p1m,season_p,basic_p,kwdcoeff_p,text_score,\\\n",
    "# businessstatus,isheat,imquality_score,ishighqualitypoi,isfree,\\\n",
    "# order_cnt_15d_p,gmv_15d_p,expos_uv_15d_p,click_uv_15d_p,ctr_15d_p,unit_decay_gmv_15d_p,ctcvr_15d_p,cvr_15d_p,\\\n",
    "# detail_uv_15d_p,order_cnt_15d_pl,gmv_15d_pl,expos_uv_15d_pl,click_uv_15d_pl,ctr_15d_pl,unit_decay_gmv_15d_pl,\\\n",
    "# ctcvr_15d_pl,cvr_15d_pl,detail_uv_15d_pl,order_cnt_15d_pdk,gmv_15d_pdk,expos_uv_15d_pdk,click_uv_15d_pdk,ctr_15d_pdk,\\\n",
    "# unit_decay_gmv_15d_pdk,ctcvr_15d_pdk,cvr_15d_pdk,order_cnt_15d_u,gmv_15d_u,expos_uv_15d_u,click_uv_15d_u,ctr_15d_u,\\\n",
    "# unit_decay_gmv_15d_u,ctcvr_15d_u,cvr_15d_u,order_cnt_15d_uk,gmv_15d_uk,expos_uv_15d_uk,click_uv_15d_uk,ctr_15d_uk,\\\n",
    "# unit_decay_gmv_15d_uk,ctcvr_15d_uk,cvr_15d_uk,order_cnt_15d_puk,gmv_15d_puk,expos_uv_15d_puk,click_uv_15d_puk,ctr_15d_puk,\\\n",
    "# unit_decay_gmv_15d_puk,ctcvr_15d_puk,cvr_15d_puk,order_cnt_15d_k,gmv_15d_k,expos_uv_15d_k,click_uv_15d_k,ctr_15d_k,\\\n",
    "# unit_decay_gmv_15d_k,ctcvr_15d_k,cvr_15d_k,order_cnt_15d_pu,gmv_15d_pu,expos_uv_15d_pu,click_uv_15d_pu,ctr_15d_pu,\\\n",
    "# unit_decay_gmv_15d_pu,ctcvr_15d_pu,cvr_15d_pu'\n",
    "\n",
    "# # deep_sparse\n",
    "# deep_sparse_str = 'date_type,\\\n",
    "# userlocaltype_enc_index,district_userlocaltype_enc_index,age_enc_index,gender_enc_index,\\\n",
    "# star_enc_index,member_level_enc_index,crown_enc_index,user_value_enc_index,\\\n",
    "# viewspotid_enc_index'\n",
    "\n",
    "# # deep_sparse\n",
    "# deep_sparse_str = 'date_type,\\\n",
    "# userlocaltype_enc_index,district_userlocaltype_enc_index,age_enc_index,gender_enc_index,\\\n",
    "# star_enc_index,member_level_enc_index,crown_enc_index,user_value_enc_index'"
   ]
  },
  {
   "cell_type": "code",
   "execution_count": 171,
   "id": "f00f1167-d71f-4efc-85b2-e52fffd282f5",
   "metadata": {},
   "outputs": [],
   "source": [
    "# kwd 取前10000\n",
    "# 站点取前1000\n",
    "# 景点id 取前100000\n",
    "sparse_feature_vocab_size = {'kwd_enc_index': 10000, \n",
    "                             'districtid_enc_index': 2000, 'user_residgscityid_enc_index': 2000, 'localdistrictid_enc_index': 2000,\n",
    "                            'userlocaltype_enc_index': 3-1,\n",
    "                            'district_userlocaltype_enc_index': 3-1,\n",
    "                            'age_enc_index': 101-1,\n",
    "                            'gender_enc_index': 3-1,\n",
    "                            'star_enc_index': 8-1,\n",
    "                            'member_level_enc_index': 7-1,\n",
    "                            'crown_enc_index': 3-1,\n",
    "                            'user_value_enc_index': 101-1,\n",
    "                            'viewspotid_enc_index': 100000}"
   ]
  },
  {
   "cell_type": "code",
   "execution_count": 173,
   "id": "3d30bd04-f156-464b-accd-a3640fdc7b49",
   "metadata": {},
   "outputs": [],
   "source": [
    "# v2特征, +距离，kwd_enc_index, themeid_enc_index主题multihot特征\n",
    "# holiday, 长时间周期暂时不加\n",
    "# 只用15d统计特征\n",
    "\n",
    "# wide_dense\n",
    "wide_dense_str = 'text_score,isheat,ishighqualitypoi'\n",
    "\n",
    "# wide_sparse\n",
    "wide_sparse_str = ''\n",
    "\n",
    "# # deep_dense\n",
    "deep_dense_str = 'around_tour,isholiday,hot_p1m,ctr_p1m,order_p1m,gmv_p1m,unitgmv_p1m,comment_p,comment_pl2m,hot_pla1m,\\\n",
    "ctr_pla1m,order_pla1m,gmv_pla1m,unitgmv_pla1m,queryctr_pldk1m,new_p1m,season_p,basic_p,kwdcoeff_p,text_score,\\\n",
    "businessstatus,isheat,imquality_score,ishighqualitypoi,isfree,local_poi_distance,local_district_distance,poi_district_distance,\\\n",
    "order_cnt_15d_p,gmv_15d_p,expos_uv_15d_p,click_uv_15d_p,ctr_15d_p,unit_decay_gmv_15d_p,ctcvr_15d_p,cvr_15d_p,\\\n",
    "detail_uv_15d_p,order_cnt_15d_pl,gmv_15d_pl,expos_uv_15d_pl,click_uv_15d_pl,ctr_15d_pl,unit_decay_gmv_15d_pl,\\\n",
    "ctcvr_15d_pl,cvr_15d_pl,detail_uv_15d_pl,order_cnt_15d_pdk,gmv_15d_pdk,expos_uv_15d_pdk,click_uv_15d_pdk,ctr_15d_pdk,\\\n",
    "unit_decay_gmv_15d_pdk,ctcvr_15d_pdk,cvr_15d_pdk,order_cnt_15d_u,gmv_15d_u,expos_uv_15d_u,click_uv_15d_u,ctr_15d_u,\\\n",
    "unit_decay_gmv_15d_u,ctcvr_15d_u,cvr_15d_u,order_cnt_15d_uk,gmv_15d_uk,expos_uv_15d_uk,click_uv_15d_uk,ctr_15d_uk,\\\n",
    "unit_decay_gmv_15d_uk,ctcvr_15d_uk,cvr_15d_uk,order_cnt_15d_puk,gmv_15d_puk,expos_uv_15d_puk,click_uv_15d_puk,ctr_15d_puk,\\\n",
    "unit_decay_gmv_15d_puk,ctcvr_15d_puk,cvr_15d_puk,order_cnt_15d_k,gmv_15d_k,expos_uv_15d_k,click_uv_15d_k,ctr_15d_k,\\\n",
    "unit_decay_gmv_15d_k,ctcvr_15d_k,cvr_15d_k,order_cnt_15d_pu,gmv_15d_pu,expos_uv_15d_pu,click_uv_15d_pu,ctr_15d_pu,\\\n",
    "unit_decay_gmv_15d_pu,ctcvr_15d_pu,cvr_15d_pu'\n",
    "\n",
    "# deep_sparse\n",
    "deep_sparse_str = 'kwd_enc_index,districtid_enc_index,user_residgscityid_enc_index,localdistrictid_enc_index,\\\n",
    "userlocaltype_enc_index,district_userlocaltype_enc_index,age_enc_index,gender_enc_index,\\\n",
    "star_enc_index,member_level_enc_index,crown_enc_index,user_value_enc_index,\\\n",
    "viewspotid_enc_index'\n",
    "\n",
    "# multi_features\n",
    "multi_str = 'themeid_enc_index'\n",
    "\n",
    "# share_embed\n",
    "cityid_str = 'districtid_enc_index,user_residgscityid_enc_index,localdistrictid_enc_index'"
   ]
  },
  {
   "cell_type": "code",
   "execution_count": 11,
   "id": "8e4d0829-8d58-410d-afde-d749a899380f",
   "metadata": {},
   "outputs": [
    {
     "name": "stderr",
     "output_type": "stream",
     "text": [
      "/opt/app/conda/lib/python3.6/site-packages/IPython/core/interactiveshell.py:3072: DtypeWarning: Columns (51) have mixed types.Specify dtype option on import or set low_memory=False.\n",
      "  interactivity=interactivity, compiler=compiler, result=result)\n"
     ]
    },
    {
     "name": "stdout",
     "output_type": "stream",
     "text": [
      "train samples: 97995\n"
     ]
    }
   ],
   "source": [
    "# 只取前100,000的景点id\n",
    "sample = -1\n",
    "train_file = '../dataset/tkt_kwd_train_721_727.csv'\n",
    "data = pd.read_csv(train_file)\n",
    "print('train samples:', len(data))"
   ]
  },
  {
   "cell_type": "code",
   "execution_count": null,
   "id": "0235047e-5d43-4ab4-abfd-98ea7f811492",
   "metadata": {},
   "outputs": [],
   "source": []
  },
  {
   "cell_type": "code",
   "execution_count": 174,
   "id": "fd9c4335-1aed-4009-a01e-2d4f4f183f14",
   "metadata": {},
   "outputs": [
    {
     "name": "stdout",
     "output_type": "stream",
     "text": [
      "连续特征个数:  94\n",
      "离散特征个数:  13\n",
      "wide部分特征个数:  3\n",
      "deep部分特征个数:  107\n"
     ]
    }
   ],
   "source": [
    "# features\n",
    "wide_dense_features = [x.strip() for x in wide_dense_str.split(',')]\n",
    "wide_sparse_features = [x.strip() for x in wide_sparse_str.split(',')] if len(wide_sparse_str) > 0 else []\n",
    "deep_dense_features = [x.strip() for x in deep_dense_str.split(',')]\n",
    "deep_sparse_features = [x.strip() for x in deep_sparse_str.split(',')]\n",
    "\n",
    "multi_features = [x.strip() for x in multi_str.split(',')] if len(multi_str) > 0 else []\n",
    "\n",
    "cityid_features = [x.strip() for x in cityid_str.split(',')]\n",
    "\n",
    "# 所有dense和sparse\n",
    "dense_features = list(set(wide_dense_features + deep_dense_features))\n",
    "sparse_features = list(set(wide_sparse_features + deep_sparse_features))\n",
    "print('连续特征个数: ', len(dense_features))\n",
    "print('离散特征个数: ', len(sparse_features))\n",
    "print('wide部分特征个数: ', len(wide_dense_features) + len(wide_sparse_features))\n",
    "print('deep部分特征个数: ', len(deep_dense_features) + len(deep_sparse_features))\n",
    "\n",
    "# index超过size的mask0\n",
    "vocab_size_mask(data, deep_sparse_features, sparse_feature_vocab_size)"
   ]
  },
  {
   "cell_type": "code",
   "execution_count": 177,
   "id": "9ab4429e-70d1-48df-ad36-132022f2edf3",
   "metadata": {},
   "outputs": [
    {
     "data": {
      "text/plain": [
       "['themeid_enc_index']"
      ]
     },
     "execution_count": 177,
     "metadata": {},
     "output_type": "execute_result"
    }
   ],
   "source": [
    "multi_features"
   ]
  },
  {
   "cell_type": "code",
   "execution_count": 178,
   "id": "f13e101f-eab7-4356-a90f-081e9d4cebf9",
   "metadata": {},
   "outputs": [
    {
     "name": "stdout",
     "output_type": "stream",
     "text": [
      "wide部分特征个数:  3\n",
      "deep部分特征个数:  107\n"
     ]
    }
   ],
   "source": [
    "embed_dim = 16\n",
    "\n",
    "dense_feature_list = [denseFeature(feat) for feat in dense_features] # 所有连续特征\n",
    "sparse_feature_list = [sparseFeature(feat, feat_num=sparse_feature_vocab_size[feat], embed_dim=embed_dim) for feat in sparse_features] # 所有离散特征\n",
    "all_feature_list = dense_feature_list + sparse_feature_list # 所有特征list\n",
    "# 分别指定wide  deep侧特征\n",
    "wide_feature_list = [denseFeature(feat) for feat in wide_dense_features] + \\\n",
    "                    [sparseFeature(feat, feat_num=sparse_feature_vocab_size[feat], embed_dim=embed_dim) for feat in wide_sparse_features]# 指定wide侧的特征，不指定则默认所有\n",
    "deep_feature_list = [denseFeature(feat) for feat in deep_dense_features] + \\\n",
    "                    [sparseFeature(feat, feat_num=sparse_feature_vocab_size[feat], embed_dim=embed_dim) for feat in deep_sparse_features]# 指定deep侧的特征，不指定则默认所有\n",
    "print('wide部分特征个数: ', len(wide_feature_list))\n",
    "print('deep部分特征个数: ', len(deep_feature_list))\n",
    "\n",
    "# 主题特征单独写\n",
    "multi_feature_list = [sparseFeature(feat, feat_num=13, embed_dim=embed_dim) for feat in multi_features]\n",
    "\n",
    "shared_list = [sparseFeature(feat, feat_num=sparse_feature_vocab_size[feat], embed_dim=embed_dim) for feat in cityid_features]"
   ]
  },
  {
   "cell_type": "code",
   "execution_count": 154,
   "id": "94ff7043-4f5f-4b51-95b5-2471701e9dbd",
   "metadata": {},
   "outputs": [
    {
     "data": {
      "text/plain": [
       "[{'feat_name': 'themeid_enc_index',\n",
       "  'feat_num': 13,\n",
       "  'embed_dim': 16,\n",
       "  'type': 'sparse'}]"
      ]
     },
     "execution_count": 154,
     "metadata": {},
     "output_type": "execute_result"
    }
   ],
   "source": [
    "multi_feature_list"
   ]
  },
  {
   "cell_type": "code",
   "execution_count": 179,
   "id": "a981f2c5-3010-47d6-a9f6-86abfe1e447d",
   "metadata": {},
   "outputs": [
    {
     "data": {
      "text/plain": [
       "[{'feat_name': 'districtid_enc_index',\n",
       "  'feat_num': 2000,\n",
       "  'embed_dim': 16,\n",
       "  'type': 'sparse'},\n",
       " {'feat_name': 'user_residgscityid_enc_index',\n",
       "  'feat_num': 2000,\n",
       "  'embed_dim': 16,\n",
       "  'type': 'sparse'},\n",
       " {'feat_name': 'localdistrictid_enc_index',\n",
       "  'feat_num': 2000,\n",
       "  'embed_dim': 16,\n",
       "  'type': 'sparse'}]"
      ]
     },
     "execution_count": 179,
     "metadata": {},
     "output_type": "execute_result"
    }
   ],
   "source": [
    "shared_list"
   ]
  },
  {
   "cell_type": "markdown",
   "id": "d64ca05c-3a7b-454d-91f7-bdd032b854bb",
   "metadata": {},
   "source": [
    "## model"
   ]
  },
  {
   "cell_type": "code",
   "execution_count": 202,
   "id": "aae72980-bc9d-4c2d-bd46-08777822e5c3",
   "metadata": {
    "scrolled": true,
    "tags": []
   },
   "outputs": [
    {
     "name": "stdout",
     "output_type": "stream",
     "text": [
      "wide side featrues:  text_score,isheat,ishighqualitypoi\n",
      "deep side featrues:  around_tour,isholiday,hot_p1m,ctr_p1m,order_p1m,gmv_p1m,unitgmv_p1m,comment_p,comment_pl2m,hot_pla1m,ctr_pla1m,order_pla1m,gmv_pla1m,unitgmv_pla1m,queryctr_pldk1m,new_p1m,season_p,basic_p,kwdcoeff_p,text_score,businessstatus,isheat,imquality_score,ishighqualitypoi,isfree,local_poi_distance,local_district_distance,poi_district_distance,order_cnt_15d_p,gmv_15d_p,expos_uv_15d_p,click_uv_15d_p,ctr_15d_p,unit_decay_gmv_15d_p,ctcvr_15d_p,cvr_15d_p,detail_uv_15d_p,order_cnt_15d_pl,gmv_15d_pl,expos_uv_15d_pl,click_uv_15d_pl,ctr_15d_pl,unit_decay_gmv_15d_pl,ctcvr_15d_pl,cvr_15d_pl,detail_uv_15d_pl,order_cnt_15d_pdk,gmv_15d_pdk,expos_uv_15d_pdk,click_uv_15d_pdk,ctr_15d_pdk,unit_decay_gmv_15d_pdk,ctcvr_15d_pdk,cvr_15d_pdk,order_cnt_15d_u,gmv_15d_u,expos_uv_15d_u,click_uv_15d_u,ctr_15d_u,unit_decay_gmv_15d_u,ctcvr_15d_u,cvr_15d_u,order_cnt_15d_uk,gmv_15d_uk,expos_uv_15d_uk,click_uv_15d_uk,ctr_15d_uk,unit_decay_gmv_15d_uk,ctcvr_15d_uk,cvr_15d_uk,order_cnt_15d_puk,gmv_15d_puk,expos_uv_15d_puk,click_uv_15d_puk,ctr_15d_puk,unit_decay_gmv_15d_puk,ctcvr_15d_puk,cvr_15d_puk,order_cnt_15d_k,gmv_15d_k,expos_uv_15d_k,click_uv_15d_k,ctr_15d_k,unit_decay_gmv_15d_k,ctcvr_15d_k,cvr_15d_k,order_cnt_15d_pu,gmv_15d_pu,expos_uv_15d_pu,click_uv_15d_pu,ctr_15d_pu,unit_decay_gmv_15d_pu,ctcvr_15d_pu,cvr_15d_pu,kwd_enc_index,districtid_enc_index,user_residgscityid_enc_index,localdistrictid_enc_index,userlocaltype_enc_index,district_userlocaltype_enc_index,age_enc_index,gender_enc_index,star_enc_index,member_level_enc_index,crown_enc_index,user_value_enc_index,viewspotid_enc_index\n",
      "(None, 1)\n",
      "Model: \"model_14\"\n",
      "__________________________________________________________________________________________________\n",
      "Layer (type)                    Output Shape         Param #     Connected to                     \n",
      "==================================================================================================\n",
      "input_1586 (InputLayer)         [(None, 5)]          0                                            \n",
      "__________________________________________________________________________________________________\n",
      "tf.cast_40 (TFOpLambda)         (None, 5)            0           input_1586[0][0]                 \n",
      "__________________________________________________________________________________________________\n",
      "tf.math.not_equal_13 (TFOpLambd (None, 5)            0           tf.cast_40[0][0]                 \n",
      "__________________________________________________________________________________________________\n",
      "input_1479 (InputLayer)         [(None, 1)]          0                                            \n",
      "__________________________________________________________________________________________________\n",
      "input_1480 (InputLayer)         [(None, 1)]          0                                            \n",
      "__________________________________________________________________________________________________\n",
      "input_1481 (InputLayer)         [(None, 1)]          0                                            \n",
      "__________________________________________________________________________________________________\n",
      "input_1482 (InputLayer)         [(None, 1)]          0                                            \n",
      "__________________________________________________________________________________________________\n",
      "input_1483 (InputLayer)         [(None, 1)]          0                                            \n",
      "__________________________________________________________________________________________________\n",
      "input_1484 (InputLayer)         [(None, 1)]          0                                            \n",
      "__________________________________________________________________________________________________\n",
      "input_1485 (InputLayer)         [(None, 1)]          0                                            \n",
      "__________________________________________________________________________________________________\n",
      "input_1486 (InputLayer)         [(None, 1)]          0                                            \n",
      "__________________________________________________________________________________________________\n",
      "input_1487 (InputLayer)         [(None, 1)]          0                                            \n",
      "__________________________________________________________________________________________________\n",
      "input_1488 (InputLayer)         [(None, 1)]          0                                            \n",
      "__________________________________________________________________________________________________\n",
      "input_1489 (InputLayer)         [(None, 1)]          0                                            \n",
      "__________________________________________________________________________________________________\n",
      "input_1490 (InputLayer)         [(None, 1)]          0                                            \n",
      "__________________________________________________________________________________________________\n",
      "input_1491 (InputLayer)         [(None, 1)]          0                                            \n",
      "__________________________________________________________________________________________________\n",
      "input_1492 (InputLayer)         [(None, 1)]          0                                            \n",
      "__________________________________________________________________________________________________\n",
      "input_1493 (InputLayer)         [(None, 1)]          0                                            \n",
      "__________________________________________________________________________________________________\n",
      "input_1494 (InputLayer)         [(None, 1)]          0                                            \n",
      "__________________________________________________________________________________________________\n",
      "input_1495 (InputLayer)         [(None, 1)]          0                                            \n",
      "__________________________________________________________________________________________________\n",
      "input_1496 (InputLayer)         [(None, 1)]          0                                            \n",
      "__________________________________________________________________________________________________\n",
      "input_1497 (InputLayer)         [(None, 1)]          0                                            \n",
      "__________________________________________________________________________________________________\n",
      "input_1498 (InputLayer)         [(None, 1)]          0                                            \n",
      "__________________________________________________________________________________________________\n",
      "input_1499 (InputLayer)         [(None, 1)]          0                                            \n",
      "__________________________________________________________________________________________________\n",
      "input_1500 (InputLayer)         [(None, 1)]          0                                            \n",
      "__________________________________________________________________________________________________\n",
      "input_1501 (InputLayer)         [(None, 1)]          0                                            \n",
      "__________________________________________________________________________________________________\n",
      "input_1502 (InputLayer)         [(None, 1)]          0                                            \n",
      "__________________________________________________________________________________________________\n",
      "input_1503 (InputLayer)         [(None, 1)]          0                                            \n",
      "__________________________________________________________________________________________________\n",
      "input_1504 (InputLayer)         [(None, 1)]          0                                            \n",
      "__________________________________________________________________________________________________\n",
      "input_1505 (InputLayer)         [(None, 1)]          0                                            \n",
      "__________________________________________________________________________________________________\n",
      "input_1506 (InputLayer)         [(None, 1)]          0                                            \n",
      "__________________________________________________________________________________________________\n",
      "input_1507 (InputLayer)         [(None, 1)]          0                                            \n",
      "__________________________________________________________________________________________________\n",
      "input_1508 (InputLayer)         [(None, 1)]          0                                            \n",
      "__________________________________________________________________________________________________\n",
      "input_1509 (InputLayer)         [(None, 1)]          0                                            \n",
      "__________________________________________________________________________________________________\n",
      "input_1510 (InputLayer)         [(None, 1)]          0                                            \n",
      "__________________________________________________________________________________________________\n",
      "input_1511 (InputLayer)         [(None, 1)]          0                                            \n",
      "__________________________________________________________________________________________________\n",
      "input_1512 (InputLayer)         [(None, 1)]          0                                            \n",
      "__________________________________________________________________________________________________\n",
      "input_1513 (InputLayer)         [(None, 1)]          0                                            \n",
      "__________________________________________________________________________________________________\n",
      "input_1514 (InputLayer)         [(None, 1)]          0                                            \n",
      "__________________________________________________________________________________________________\n",
      "input_1515 (InputLayer)         [(None, 1)]          0                                            \n",
      "__________________________________________________________________________________________________\n",
      "input_1516 (InputLayer)         [(None, 1)]          0                                            \n",
      "__________________________________________________________________________________________________\n",
      "input_1517 (InputLayer)         [(None, 1)]          0                                            \n",
      "__________________________________________________________________________________________________\n",
      "input_1518 (InputLayer)         [(None, 1)]          0                                            \n",
      "__________________________________________________________________________________________________\n",
      "input_1519 (InputLayer)         [(None, 1)]          0                                            \n",
      "__________________________________________________________________________________________________\n",
      "input_1520 (InputLayer)         [(None, 1)]          0                                            \n",
      "__________________________________________________________________________________________________\n",
      "input_1521 (InputLayer)         [(None, 1)]          0                                            \n",
      "__________________________________________________________________________________________________\n",
      "input_1522 (InputLayer)         [(None, 1)]          0                                            \n",
      "__________________________________________________________________________________________________\n",
      "input_1523 (InputLayer)         [(None, 1)]          0                                            \n",
      "__________________________________________________________________________________________________\n",
      "input_1524 (InputLayer)         [(None, 1)]          0                                            \n",
      "__________________________________________________________________________________________________\n",
      "input_1525 (InputLayer)         [(None, 1)]          0                                            \n",
      "__________________________________________________________________________________________________\n",
      "input_1526 (InputLayer)         [(None, 1)]          0                                            \n",
      "__________________________________________________________________________________________________\n",
      "input_1527 (InputLayer)         [(None, 1)]          0                                            \n",
      "__________________________________________________________________________________________________\n",
      "input_1528 (InputLayer)         [(None, 1)]          0                                            \n",
      "__________________________________________________________________________________________________\n",
      "input_1529 (InputLayer)         [(None, 1)]          0                                            \n",
      "__________________________________________________________________________________________________\n",
      "input_1530 (InputLayer)         [(None, 1)]          0                                            \n",
      "__________________________________________________________________________________________________\n",
      "input_1531 (InputLayer)         [(None, 1)]          0                                            \n",
      "__________________________________________________________________________________________________\n",
      "input_1532 (InputLayer)         [(None, 1)]          0                                            \n",
      "__________________________________________________________________________________________________\n",
      "input_1533 (InputLayer)         [(None, 1)]          0                                            \n",
      "__________________________________________________________________________________________________\n",
      "input_1534 (InputLayer)         [(None, 1)]          0                                            \n",
      "__________________________________________________________________________________________________\n",
      "input_1535 (InputLayer)         [(None, 1)]          0                                            \n",
      "__________________________________________________________________________________________________\n",
      "input_1536 (InputLayer)         [(None, 1)]          0                                            \n",
      "__________________________________________________________________________________________________\n",
      "input_1537 (InputLayer)         [(None, 1)]          0                                            \n",
      "__________________________________________________________________________________________________\n",
      "input_1538 (InputLayer)         [(None, 1)]          0                                            \n",
      "__________________________________________________________________________________________________\n",
      "input_1539 (InputLayer)         [(None, 1)]          0                                            \n",
      "__________________________________________________________________________________________________\n",
      "input_1540 (InputLayer)         [(None, 1)]          0                                            \n",
      "__________________________________________________________________________________________________\n",
      "input_1541 (InputLayer)         [(None, 1)]          0                                            \n",
      "__________________________________________________________________________________________________\n",
      "input_1542 (InputLayer)         [(None, 1)]          0                                            \n",
      "__________________________________________________________________________________________________\n",
      "input_1543 (InputLayer)         [(None, 1)]          0                                            \n",
      "__________________________________________________________________________________________________\n",
      "input_1544 (InputLayer)         [(None, 1)]          0                                            \n",
      "__________________________________________________________________________________________________\n",
      "input_1545 (InputLayer)         [(None, 1)]          0                                            \n",
      "__________________________________________________________________________________________________\n",
      "input_1546 (InputLayer)         [(None, 1)]          0                                            \n",
      "__________________________________________________________________________________________________\n",
      "input_1547 (InputLayer)         [(None, 1)]          0                                            \n",
      "__________________________________________________________________________________________________\n",
      "input_1548 (InputLayer)         [(None, 1)]          0                                            \n",
      "__________________________________________________________________________________________________\n",
      "input_1549 (InputLayer)         [(None, 1)]          0                                            \n",
      "__________________________________________________________________________________________________\n",
      "input_1550 (InputLayer)         [(None, 1)]          0                                            \n",
      "__________________________________________________________________________________________________\n",
      "input_1551 (InputLayer)         [(None, 1)]          0                                            \n",
      "__________________________________________________________________________________________________\n",
      "input_1552 (InputLayer)         [(None, 1)]          0                                            \n",
      "__________________________________________________________________________________________________\n",
      "input_1553 (InputLayer)         [(None, 1)]          0                                            \n",
      "__________________________________________________________________________________________________\n",
      "input_1554 (InputLayer)         [(None, 1)]          0                                            \n",
      "__________________________________________________________________________________________________\n",
      "input_1555 (InputLayer)         [(None, 1)]          0                                            \n",
      "__________________________________________________________________________________________________\n",
      "input_1556 (InputLayer)         [(None, 1)]          0                                            \n",
      "__________________________________________________________________________________________________\n",
      "input_1557 (InputLayer)         [(None, 1)]          0                                            \n",
      "__________________________________________________________________________________________________\n",
      "input_1558 (InputLayer)         [(None, 1)]          0                                            \n",
      "__________________________________________________________________________________________________\n",
      "input_1559 (InputLayer)         [(None, 1)]          0                                            \n",
      "__________________________________________________________________________________________________\n",
      "input_1560 (InputLayer)         [(None, 1)]          0                                            \n",
      "__________________________________________________________________________________________________\n",
      "input_1561 (InputLayer)         [(None, 1)]          0                                            \n",
      "__________________________________________________________________________________________________\n",
      "input_1562 (InputLayer)         [(None, 1)]          0                                            \n",
      "__________________________________________________________________________________________________\n",
      "input_1563 (InputLayer)         [(None, 1)]          0                                            \n",
      "__________________________________________________________________________________________________\n",
      "input_1564 (InputLayer)         [(None, 1)]          0                                            \n",
      "__________________________________________________________________________________________________\n",
      "input_1565 (InputLayer)         [(None, 1)]          0                                            \n",
      "__________________________________________________________________________________________________\n",
      "input_1566 (InputLayer)         [(None, 1)]          0                                            \n",
      "__________________________________________________________________________________________________\n",
      "input_1567 (InputLayer)         [(None, 1)]          0                                            \n",
      "__________________________________________________________________________________________________\n",
      "input_1568 (InputLayer)         [(None, 1)]          0                                            \n",
      "__________________________________________________________________________________________________\n",
      "input_1569 (InputLayer)         [(None, 1)]          0                                            \n",
      "__________________________________________________________________________________________________\n",
      "input_1570 (InputLayer)         [(None, 1)]          0                                            \n",
      "__________________________________________________________________________________________________\n",
      "input_1571 (InputLayer)         [(None, 1)]          0                                            \n",
      "__________________________________________________________________________________________________\n",
      "input_1572 (InputLayer)         [(None, 1)]          0                                            \n",
      "__________________________________________________________________________________________________\n",
      "input_1573 (InputLayer)         [(None, 1)]          0                                            \n",
      "__________________________________________________________________________________________________\n",
      "input_1574 (InputLayer)         [(None, 1)]          0                                            \n",
      "__________________________________________________________________________________________________\n",
      "input_1575 (InputLayer)         [(None, 1)]          0                                            \n",
      "__________________________________________________________________________________________________\n",
      "input_1576 (InputLayer)         [(None, 1)]          0                                            \n",
      "__________________________________________________________________________________________________\n",
      "input_1577 (InputLayer)         [(None, 1)]          0                                            \n",
      "__________________________________________________________________________________________________\n",
      "input_1578 (InputLayer)         [(None, 1)]          0                                            \n",
      "__________________________________________________________________________________________________\n",
      "input_1579 (InputLayer)         [(None, 1)]          0                                            \n",
      "__________________________________________________________________________________________________\n",
      "input_1580 (InputLayer)         [(None, 1)]          0                                            \n",
      "__________________________________________________________________________________________________\n",
      "input_1581 (InputLayer)         [(None, 1)]          0                                            \n",
      "__________________________________________________________________________________________________\n",
      "input_1582 (InputLayer)         [(None, 1)]          0                                            \n",
      "__________________________________________________________________________________________________\n",
      "input_1583 (InputLayer)         [(None, 1)]          0                                            \n",
      "__________________________________________________________________________________________________\n",
      "input_1584 (InputLayer)         [(None, 1)]          0                                            \n",
      "__________________________________________________________________________________________________\n",
      "input_1585 (InputLayer)         [(None, 1)]          0                                            \n",
      "__________________________________________________________________________________________________\n",
      "tf.cast_41 (TFOpLambda)         (None, 5)            0           tf.math.not_equal_13[0][0]       \n",
      "__________________________________________________________________________________________________\n",
      "tf.concat_55 (TFOpLambda)       (None, 107)          0           input_1479[0][0]                 \n",
      "                                                                 input_1480[0][0]                 \n",
      "                                                                 input_1481[0][0]                 \n",
      "                                                                 input_1482[0][0]                 \n",
      "                                                                 input_1483[0][0]                 \n",
      "                                                                 input_1484[0][0]                 \n",
      "                                                                 input_1485[0][0]                 \n",
      "                                                                 input_1486[0][0]                 \n",
      "                                                                 input_1487[0][0]                 \n",
      "                                                                 input_1488[0][0]                 \n",
      "                                                                 input_1489[0][0]                 \n",
      "                                                                 input_1490[0][0]                 \n",
      "                                                                 input_1491[0][0]                 \n",
      "                                                                 input_1492[0][0]                 \n",
      "                                                                 input_1493[0][0]                 \n",
      "                                                                 input_1494[0][0]                 \n",
      "                                                                 input_1495[0][0]                 \n",
      "                                                                 input_1496[0][0]                 \n",
      "                                                                 input_1497[0][0]                 \n",
      "                                                                 input_1498[0][0]                 \n",
      "                                                                 input_1499[0][0]                 \n",
      "                                                                 input_1500[0][0]                 \n",
      "                                                                 input_1501[0][0]                 \n",
      "                                                                 input_1502[0][0]                 \n",
      "                                                                 input_1503[0][0]                 \n",
      "                                                                 input_1504[0][0]                 \n",
      "                                                                 input_1505[0][0]                 \n",
      "                                                                 input_1506[0][0]                 \n",
      "                                                                 input_1507[0][0]                 \n",
      "                                                                 input_1508[0][0]                 \n",
      "                                                                 input_1509[0][0]                 \n",
      "                                                                 input_1510[0][0]                 \n",
      "                                                                 input_1511[0][0]                 \n",
      "                                                                 input_1512[0][0]                 \n",
      "                                                                 input_1513[0][0]                 \n",
      "                                                                 input_1514[0][0]                 \n",
      "                                                                 input_1515[0][0]                 \n",
      "                                                                 input_1516[0][0]                 \n",
      "                                                                 input_1517[0][0]                 \n",
      "                                                                 input_1518[0][0]                 \n",
      "                                                                 input_1519[0][0]                 \n",
      "                                                                 input_1520[0][0]                 \n",
      "                                                                 input_1521[0][0]                 \n",
      "                                                                 input_1522[0][0]                 \n",
      "                                                                 input_1523[0][0]                 \n",
      "                                                                 input_1524[0][0]                 \n",
      "                                                                 input_1525[0][0]                 \n",
      "                                                                 input_1526[0][0]                 \n",
      "                                                                 input_1527[0][0]                 \n",
      "                                                                 input_1528[0][0]                 \n",
      "                                                                 input_1529[0][0]                 \n",
      "                                                                 input_1530[0][0]                 \n",
      "                                                                 input_1531[0][0]                 \n",
      "                                                                 input_1532[0][0]                 \n",
      "                                                                 input_1533[0][0]                 \n",
      "                                                                 input_1534[0][0]                 \n",
      "                                                                 input_1535[0][0]                 \n",
      "                                                                 input_1536[0][0]                 \n",
      "                                                                 input_1537[0][0]                 \n",
      "                                                                 input_1538[0][0]                 \n",
      "                                                                 input_1539[0][0]                 \n",
      "                                                                 input_1540[0][0]                 \n",
      "                                                                 input_1541[0][0]                 \n",
      "                                                                 input_1542[0][0]                 \n",
      "                                                                 input_1543[0][0]                 \n",
      "                                                                 input_1544[0][0]                 \n",
      "                                                                 input_1545[0][0]                 \n",
      "                                                                 input_1546[0][0]                 \n",
      "                                                                 input_1547[0][0]                 \n",
      "                                                                 input_1548[0][0]                 \n",
      "                                                                 input_1549[0][0]                 \n",
      "                                                                 input_1550[0][0]                 \n",
      "                                                                 input_1551[0][0]                 \n",
      "                                                                 input_1552[0][0]                 \n",
      "                                                                 input_1553[0][0]                 \n",
      "                                                                 input_1554[0][0]                 \n",
      "                                                                 input_1555[0][0]                 \n",
      "                                                                 input_1556[0][0]                 \n",
      "                                                                 input_1557[0][0]                 \n",
      "                                                                 input_1558[0][0]                 \n",
      "                                                                 input_1559[0][0]                 \n",
      "                                                                 input_1560[0][0]                 \n",
      "                                                                 input_1561[0][0]                 \n",
      "                                                                 input_1562[0][0]                 \n",
      "                                                                 input_1563[0][0]                 \n",
      "                                                                 input_1564[0][0]                 \n",
      "                                                                 input_1565[0][0]                 \n",
      "                                                                 input_1566[0][0]                 \n",
      "                                                                 input_1567[0][0]                 \n",
      "                                                                 input_1568[0][0]                 \n",
      "                                                                 input_1569[0][0]                 \n",
      "                                                                 input_1570[0][0]                 \n",
      "                                                                 input_1571[0][0]                 \n",
      "                                                                 input_1572[0][0]                 \n",
      "                                                                 input_1573[0][0]                 \n",
      "                                                                 input_1574[0][0]                 \n",
      "                                                                 input_1575[0][0]                 \n",
      "                                                                 input_1576[0][0]                 \n",
      "                                                                 input_1577[0][0]                 \n",
      "                                                                 input_1578[0][0]                 \n",
      "                                                                 input_1579[0][0]                 \n",
      "                                                                 input_1580[0][0]                 \n",
      "                                                                 input_1581[0][0]                 \n",
      "                                                                 input_1582[0][0]                 \n",
      "                                                                 input_1583[0][0]                 \n",
      "                                                                 input_1584[0][0]                 \n",
      "                                                                 input_1585[0][0]                 \n",
      "__________________________________________________________________________________________________\n",
      "tf.math.reduce_sum_26 (TFOpLamb (None, 1)            0           tf.cast_41[0][0]                 \n",
      "__________________________________________________________________________________________________\n",
      "tf.compat.v1.gather_44 (TFOpLam (None, 13)           0           tf.concat_55[0][0]               \n",
      "__________________________________________________________________________________________________\n",
      "tf.__operators__.add_27 (TFOpLa (None, 1)            0           tf.math.reduce_sum_26[0][0]      \n",
      "__________________________________________________________________________________________________\n",
      "tf.cast_42 (TFOpLambda)         (None, 13)           0           tf.compat.v1.gather_44[0][0]     \n",
      "__________________________________________________________________________________________________\n",
      "tf.math.truediv_13 (TFOpLambda) (None, 5)            0           tf.cast_41[0][0]                 \n",
      "                                                                 tf.__operators__.add_27[0][0]    \n",
      "__________________________________________________________________________________________________\n",
      "tf.__operators__.getitem_149 (S (None,)              0           tf.cast_42[0][0]                 \n",
      "__________________________________________________________________________________________________\n",
      "tf.__operators__.getitem_150 (S (None,)              0           tf.cast_42[0][0]                 \n",
      "__________________________________________________________________________________________________\n",
      "tf.__operators__.getitem_151 (S (None,)              0           tf.cast_42[0][0]                 \n",
      "__________________________________________________________________________________________________\n",
      "tf.__operators__.getitem_152 (S (None,)              0           tf.cast_42[0][0]                 \n",
      "__________________________________________________________________________________________________\n",
      "tf.__operators__.getitem_153 (S (None,)              0           tf.cast_42[0][0]                 \n",
      "__________________________________________________________________________________________________\n",
      "tf.__operators__.getitem_154 (S (None,)              0           tf.cast_42[0][0]                 \n",
      "__________________________________________________________________________________________________\n",
      "tf.__operators__.getitem_155 (S (None,)              0           tf.cast_42[0][0]                 \n",
      "__________________________________________________________________________________________________\n",
      "tf.__operators__.getitem_156 (S (None,)              0           tf.cast_42[0][0]                 \n",
      "__________________________________________________________________________________________________\n",
      "tf.__operators__.getitem_157 (S (None,)              0           tf.cast_42[0][0]                 \n",
      "__________________________________________________________________________________________________\n",
      "tf.__operators__.getitem_158 (S (None,)              0           tf.cast_42[0][0]                 \n",
      "__________________________________________________________________________________________________\n",
      "tf.__operators__.getitem_159 (S (None,)              0           tf.cast_42[0][0]                 \n",
      "__________________________________________________________________________________________________\n",
      "tf.__operators__.getitem_160 (S (None,)              0           tf.cast_42[0][0]                 \n",
      "__________________________________________________________________________________________________\n",
      "tf.__operators__.getitem_161 (S (None,)              0           tf.cast_42[0][0]                 \n",
      "__________________________________________________________________________________________________\n",
      "tf.expand_dims_13 (TFOpLambda)  (None, 5, 1)         0           tf.math.truediv_13[0][0]         \n",
      "__________________________________________________________________________________________________\n",
      "embedding_169 (Embedding)       (None, 5, 16)        224         tf.cast_40[0][0]                 \n",
      "__________________________________________________________________________________________________\n",
      "embedding_159 (Embedding)       (None, 16)           160016      tf.__operators__.getitem_149[0][0\n",
      "__________________________________________________________________________________________________\n",
      "embedding_158 (Embedding)       (None, 16)           32016       tf.__operators__.getitem_150[0][0\n",
      "                                                                 tf.__operators__.getitem_151[0][0\n",
      "                                                                 tf.__operators__.getitem_152[0][0\n",
      "__________________________________________________________________________________________________\n",
      "embedding_160 (Embedding)       (None, 16)           48          tf.__operators__.getitem_153[0][0\n",
      "__________________________________________________________________________________________________\n",
      "embedding_161 (Embedding)       (None, 16)           48          tf.__operators__.getitem_154[0][0\n",
      "__________________________________________________________________________________________________\n",
      "embedding_162 (Embedding)       (None, 16)           1616        tf.__operators__.getitem_155[0][0\n",
      "__________________________________________________________________________________________________\n",
      "embedding_163 (Embedding)       (None, 16)           48          tf.__operators__.getitem_156[0][0\n",
      "__________________________________________________________________________________________________\n",
      "embedding_164 (Embedding)       (None, 16)           128         tf.__operators__.getitem_157[0][0\n",
      "__________________________________________________________________________________________________\n",
      "embedding_165 (Embedding)       (None, 16)           112         tf.__operators__.getitem_158[0][0\n",
      "__________________________________________________________________________________________________\n",
      "embedding_166 (Embedding)       (None, 16)           48          tf.__operators__.getitem_159[0][0\n",
      "__________________________________________________________________________________________________\n",
      "embedding_167 (Embedding)       (None, 16)           1616        tf.__operators__.getitem_160[0][0\n",
      "__________________________________________________________________________________________________\n",
      "embedding_168 (Embedding)       (None, 16)           1600016     tf.__operators__.getitem_161[0][0\n",
      "__________________________________________________________________________________________________\n",
      "tf.math.multiply_41 (TFOpLambda (None, 5, 16)        0           tf.expand_dims_13[0][0]          \n",
      "                                                                 embedding_169[0][0]              \n",
      "__________________________________________________________________________________________________\n",
      "tf.compat.v1.gather_43 (TFOpLam (None, 94)           0           tf.concat_55[0][0]               \n",
      "__________________________________________________________________________________________________\n",
      "tf.concat_56 (TFOpLambda)       (None, 208)          0           embedding_159[0][0]              \n",
      "                                                                 embedding_158[0][0]              \n",
      "                                                                 embedding_158[1][0]              \n",
      "                                                                 embedding_158[2][0]              \n",
      "                                                                 embedding_160[0][0]              \n",
      "                                                                 embedding_161[0][0]              \n",
      "                                                                 embedding_162[0][0]              \n",
      "                                                                 embedding_163[0][0]              \n",
      "                                                                 embedding_164[0][0]              \n",
      "                                                                 embedding_165[0][0]              \n",
      "                                                                 embedding_166[0][0]              \n",
      "                                                                 embedding_167[0][0]              \n",
      "                                                                 embedding_168[0][0]              \n",
      "__________________________________________________________________________________________________\n",
      "tf.math.reduce_sum_27 (TFOpLamb (None, 16)           0           tf.math.multiply_41[0][0]        \n",
      "__________________________________________________________________________________________________\n",
      "tf.concat_57 (TFOpLambda)       (None, 302)          0           tf.compat.v1.gather_43[0][0]     \n",
      "                                                                 tf.concat_56[0][0]               \n",
      "__________________________________________________________________________________________________\n",
      "tf.identity_13 (TFOpLambda)     (None, 16)           0           tf.math.reduce_sum_27[0][0]      \n",
      "__________________________________________________________________________________________________\n",
      "tf.concat_58 (TFOpLambda)       (None, 318)          0           tf.concat_57[0][0]               \n",
      "                                                                 tf.identity_13[0][0]             \n",
      "__________________________________________________________________________________________________\n",
      "tf.compat.v1.gather_42 (TFOpLam (None, 3)            0           tf.concat_55[0][0]               \n",
      "__________________________________________________________________________________________________\n",
      "dnn_14 (DNN)                    (None, 64)           122816      tf.concat_58[0][0]               \n",
      "__________________________________________________________________________________________________\n",
      "linear_14 (Linear)              (None, 1)            4           tf.compat.v1.gather_42[0][0]     \n",
      "__________________________________________________________________________________________________\n",
      "dense_72 (Dense)                (None, 1)            65          dnn_14[0][0]                     \n",
      "__________________________________________________________________________________________________\n",
      "tf.math.multiply_42 (TFOpLambda (None, 1)            0           linear_14[0][0]                  \n",
      "__________________________________________________________________________________________________\n",
      "tf.math.multiply_43 (TFOpLambda (None, 1)            0           dense_72[0][0]                   \n",
      "__________________________________________________________________________________________________\n",
      "tf.__operators__.add_28 (TFOpLa (None, 1)            0           tf.math.multiply_42[0][0]        \n",
      "                                                                 tf.math.multiply_43[0][0]        \n",
      "__________________________________________________________________________________________________\n",
      "tf.math.sigmoid_14 (TFOpLambda) (None, 1)            0           tf.__operators__.add_28[0][0]    \n",
      "==================================================================================================\n",
      "Total params: 1,918,821\n",
      "Trainable params: 1,918,821\n",
      "Non-trainable params: 0\n",
      "__________________________________________________________________________________________________\n"
     ]
    }
   ],
   "source": [
    "model = WideDeep_multi(dense_feature_list, sparse_feature_list, wide_feature_list, deep_feature_list,\n",
    "                hidden_units=[256, 128, 64], activation='relu', multihot_list=multi_feature_list, shared_list=shared_list,\n",
    "                 dnn_dropout=0.1, embed_reg=1e-3, w_reg=1e-4) \n",
    "model.summary()"
   ]
  },
  {
   "cell_type": "code",
   "execution_count": 183,
   "id": "610dbf67-b9d4-437d-bc45-8689551a0b01",
   "metadata": {},
   "outputs": [
    {
     "data": {
      "text/plain": [
       "4002.0"
      ]
     },
     "execution_count": 183,
     "metadata": {},
     "output_type": "execute_result"
    }
   ],
   "source": [
    "# (1982853 - 1918821) / 16"
   ]
  },
  {
   "cell_type": "code",
   "execution_count": 201,
   "id": "9a102096-4ff8-4aaf-8aef-b3fe0d7f87d0",
   "metadata": {},
   "outputs": [
    {
     "name": "stdout",
     "output_type": "stream",
     "text": [
      "正样本个数: 51531, 负样本个数: 80818, 总样本数: 132349\n"
     ]
    }
   ],
   "source": [
    "train_X, train_y, multi_input = get_model_input(data, all_feature_list=all_feature_list, target='isorder', \n",
    "                                   over_sample_rate=-1, task='train', multi_list=multi_feature_list)\n",
    "print('正样本个数: {}, 负样本个数: {}, 总样本数: {}'.format(train_y.sum(), len(train_y) - train_y.sum(), len(train_y)))"
   ]
  },
  {
   "cell_type": "code",
   "execution_count": 203,
   "id": "d9cfb0b9-4cef-4569-b79e-785797e21ebd",
   "metadata": {},
   "outputs": [],
   "source": [
    "class_weight = {0: (len(train_y) - train_y.sum()) / len(train_y), \n",
    "               1: train_y.sum() / len(train_y)}"
   ]
  },
  {
   "cell_type": "code",
   "execution_count": 204,
   "id": "fc9cdd2b-7926-47e2-a017-97316fd3ceaa",
   "metadata": {},
   "outputs": [],
   "source": [
    "learning_rate = 0.001\n",
    "batch_size = 1024\n",
    "epochs = 20\n",
    "# lr decay\n",
    "lr_schedule = tf.keras.optimizers.schedules.ExponentialDecay(\n",
    "    learning_rate,\n",
    "    decay_steps=100,\n",
    "    decay_rate=0.9,\n",
    "    staircase=True)\n",
    "\n",
    "model.compile(loss=binary_crossentropy, optimizer=Adam(learning_rate=lr_schedule),\n",
    "                      metrics=[AUC()]) # BinaryAccuracy(threshold=0.5)"
   ]
  },
  {
   "cell_type": "code",
   "execution_count": 205,
   "id": "77b1bf78-de3f-4474-ab9e-c4942ada10c1",
   "metadata": {
    "tags": []
   },
   "outputs": [
    {
     "name": "stdout",
     "output_type": "stream",
     "text": [
      "Epoch 1/20\n",
      "130/130 [==============================] - 8s 33ms/step - loss: 0.3437 - auc_19: 0.9368 - val_loss: 0.2019 - val_auc_19: 0.9612\n",
      "Epoch 2/20\n",
      "130/130 [==============================] - 3s 23ms/step - loss: 0.1337 - auc_19: 0.9650 - val_loss: 0.2059 - val_auc_19: 0.9638\n",
      "Epoch 3/20\n",
      "130/130 [==============================] - 3s 23ms/step - loss: 0.1256 - auc_19: 0.9701 - val_loss: 0.2024 - val_auc_19: 0.9647\n",
      "Epoch 4/20\n",
      "130/130 [==============================] - 3s 23ms/step - loss: 0.1195 - auc_19: 0.9735 - val_loss: 0.2111 - val_auc_19: 0.9644\n",
      "Epoch 5/20\n",
      "130/130 [==============================] - 3s 22ms/step - loss: 0.1157 - auc_19: 0.9753 - val_loss: 0.1935 - val_auc_19: 0.9640\n",
      "Epoch 6/20\n",
      "130/130 [==============================] - 3s 22ms/step - loss: 0.1123 - auc_19: 0.9768 - val_loss: 0.1961 - val_auc_19: 0.9629\n",
      "Epoch 7/20\n",
      "130/130 [==============================] - 3s 23ms/step - loss: 0.1095 - auc_19: 0.9781 - val_loss: 0.2040 - val_auc_19: 0.9638\n",
      "Epoch 8/20\n",
      "130/130 [==============================] - 3s 22ms/step - loss: 0.1071 - auc_19: 0.9792 - val_loss: 0.2026 - val_auc_19: 0.9636\n",
      "Epoch 9/20\n",
      "130/130 [==============================] - 3s 22ms/step - loss: 0.1051 - auc_19: 0.9801 - val_loss: 0.2003 - val_auc_19: 0.9634\n",
      "Epoch 10/20\n",
      "130/130 [==============================] - 3s 22ms/step - loss: 0.1032 - auc_19: 0.9810 - val_loss: 0.2109 - val_auc_19: 0.9633\n"
     ]
    },
    {
     "data": {
      "text/plain": [
       "<keras.callbacks.History at 0x7f5583c51828>"
      ]
     },
     "execution_count": 205,
     "metadata": {},
     "output_type": "execute_result"
    }
   ],
   "source": [
    "model.fit(\n",
    "    [train_X, multi_input],\n",
    "    train_y,\n",
    "    epochs=epochs,\n",
    "    callbacks=[EarlyStopping(monitor='val_loss', patience=5, restore_best_weights=True)],  # checkpoint\n",
    "    batch_size=batch_size,\n",
    "    validation_data=([test_X, test_multi_input], test_y),\n",
    "    class_weight=class_weight\n",
    ")"
   ]
  },
  {
   "cell_type": "markdown",
   "id": "15fad0fb-61cc-4933-859b-390c588cce50",
   "metadata": {},
   "source": [
    "## 测试集"
   ]
  },
  {
   "cell_type": "code",
   "execution_count": 159,
   "id": "cbaa64f8-5117-4e25-8cf9-1bc02c28b1e5",
   "metadata": {},
   "outputs": [
    {
     "name": "stderr",
     "output_type": "stream",
     "text": [
      "/opt/app/conda/lib/python3.6/site-packages/IPython/core/interactiveshell.py:3072: DtypeWarning: Columns (49,51) have mixed types.Specify dtype option on import or set low_memory=False.\n",
      "  interactivity=interactivity, compiler=compiler, result=result)\n"
     ]
    },
    {
     "name": "stdout",
     "output_type": "stream",
     "text": [
      "test samples: 53358\n"
     ]
    }
   ],
   "source": [
    "test_file = '../dataset/tkt_kwd_test_728_730.csv'\n",
    "# test_file = '../dataset/tkt_kwd_test_728_730_vid.csv'\n",
    "# test_file = '../dataset/tkt_kwd_test_728_730_order.csv'\n",
    "test_data = pd.read_csv(test_file)\n",
    "vocab_size_mask(test_data, deep_sparse_features, sparse_feature_vocab_size)\n",
    "print('test samples:', len(test_data))"
   ]
  },
  {
   "cell_type": "code",
   "execution_count": 187,
   "id": "bef7071f-30e1-4620-888c-19344904a27d",
   "metadata": {},
   "outputs": [],
   "source": [
    "test_X, test_y, test_multi_input = get_model_input(test_data, all_feature_list=all_feature_list, \n",
    "                                                   target='isorder', task='test', multi_list=multi_feature_list)"
   ]
  },
  {
   "cell_type": "code",
   "execution_count": 206,
   "id": "f82f76d3-a5cb-4808-a87c-7da86bdd69ad",
   "metadata": {},
   "outputs": [
    {
     "name": "stdout",
     "output_type": "stream",
     "text": [
      "53/53 [==============================] - 1s 14ms/step - loss: 0.1935 - auc_19: 0.9640\n",
      "test loss: 0.193482\n",
      "test AUC: 0.964046\n"
     ]
    }
   ],
   "source": [
    "loss = model.evaluate([test_X, test_multi_input], test_y, batch_size=batch_size)\n",
    "print('test loss: %f' % loss[0])\n",
    "print('test AUC: %f' % loss[1])\n",
    "# print('test accuracy: %f' % loss[2])"
   ]
  },
  {
   "cell_type": "code",
   "execution_count": 26,
   "id": "1c911484-ba45-44ae-b995-155253004be4",
   "metadata": {},
   "outputs": [],
   "source": [
    "# df_metric = test_data[['traceid', 'fine_rank', 'isorder']].copy()\n",
    "# df_metric['pred_score'] = 1 / df_metric['fine_rank']\n",
    "\n",
    "# gauc = get_gauc(df_metric,qid_col='traceid',label_col='isorder',y_pred_col='pred_score')\n",
    "# print('gauc: {}'.format(np.round(gauc, 4)))\n",
    "# n_list = [1,3,5,10,20,30]\n",
    "# for n in n_list:\n",
    "#     m = get_topn(df_metric,label_col='isorder',rank_col='fine_rank',n=n)\n",
    "#     print('top{}: {}'.format(n, np.round(m, 4)))"
   ]
  },
  {
   "cell_type": "code",
   "execution_count": 207,
   "id": "38c622c8-ebc2-487d-af14-c941f5ce049b",
   "metadata": {},
   "outputs": [],
   "source": [
    "pred = model.predict([test_X, test_multi_input], batch_size=1024)\n",
    "df_metric = test_data[['traceid', 'fine_rank', 'isorder']].copy()\n",
    "# df_metric['pred_score'] = 1 / df_metric['fine_rank']\n",
    "df_metric['pred_score_deep_model'] = pred\n",
    "df_metric['fine_rank_deep_model'] = df_metric.groupby(['traceid'])['pred_score_deep_model'].rank('dense', ascending=False).astype('int32')"
   ]
  },
  {
   "cell_type": "code",
   "execution_count": 191,
   "id": "c1800199-9283-4fd0-8ca6-84adff53aca3",
   "metadata": {},
   "outputs": [
    {
     "name": "stdout",
     "output_type": "stream",
     "text": [
      "gauc: 0.9123\n",
      "top1: 0.8363\n",
      "top3: 0.9513\n",
      "top5: 0.9777\n",
      "top10: 0.9935\n",
      "top20: 0.9988\n",
      "top30: 0.9995\n"
     ]
    }
   ],
   "source": [
    "gauc = get_gauc(df_metric,qid_col='traceid',label_col='isorder',y_pred_col='pred_score_deep_model')\n",
    "print('gauc: {}'.format(np.round(gauc, 4)))\n",
    "n_list = [1,3,5,10,20,30]\n",
    "for n in n_list:\n",
    "    m = get_topn(df_metric,label_col='isorder',rank_col='fine_rank_deep_model',n=n)\n",
    "    print('top{}: {}'.format(n, np.round(m, 4)))"
   ]
  },
  {
   "cell_type": "code",
   "execution_count": 208,
   "id": "c52141d9-ecb2-473d-a85a-98bd0a36c86d",
   "metadata": {},
   "outputs": [
    {
     "name": "stdout",
     "output_type": "stream",
     "text": [
      "gauc: 0.9112\n",
      "top1: 0.8376\n",
      "top3: 0.9486\n",
      "top5: 0.9773\n",
      "top10: 0.9926\n",
      "top20: 0.999\n",
      "top30: 0.9995\n"
     ]
    }
   ],
   "source": [
    "gauc = get_gauc(df_metric,qid_col='traceid',label_col='isorder',y_pred_col='pred_score_deep_model')\n",
    "print('gauc: {}'.format(np.round(gauc, 4)))\n",
    "n_list = [1,3,5,10,20,30]\n",
    "for n in n_list:\n",
    "    m = get_topn(df_metric,label_col='isorder',rank_col='fine_rank_deep_model',n=n)\n",
    "    print('top{}: {}'.format(n, np.round(m, 4)))"
   ]
  },
  {
   "cell_type": "code",
   "execution_count": null,
   "id": "f3c6e5aa-91c3-430c-9879-04c36374b3fb",
   "metadata": {},
   "outputs": [],
   "source": []
  },
  {
   "cell_type": "code",
   "execution_count": 49,
   "id": "e7cec482-1187-499f-91bf-b347b9796c33",
   "metadata": {},
   "outputs": [],
   "source": [
    "# model.save_weights('./checkpoints/widedeep_v1_6432_relu_dim8_drop02_lr0001_epoch15')"
   ]
  },
  {
   "cell_type": "code",
   "execution_count": 28,
   "id": "67ff2fcb-df11-482d-a322-7fc60bda475f",
   "metadata": {},
   "outputs": [
    {
     "name": "stderr",
     "output_type": "stream",
     "text": [
      "WARNING:absl:Found untraced functions such as dropout_1_layer_call_and_return_conditional_losses, dropout_1_layer_call_fn, dense_6_layer_call_and_return_conditional_losses, dense_6_layer_call_fn, dense_4_layer_call_and_return_conditional_losses while saving (showing 5 of 20). These functions will not be directly callable after loading.\n"
     ]
    },
    {
     "name": "stdout",
     "output_type": "stream",
     "text": [
      "INFO:tensorflow:Assets written to: saved_model/widedeep_v1_with_vid/assets\n"
     ]
    },
    {
     "name": "stderr",
     "output_type": "stream",
     "text": [
      "INFO:tensorflow:Assets written to: saved_model/widedeep_v1_with_vid/assets\n"
     ]
    }
   ],
   "source": [
    "model.save('saved_model/widedeep_v1_with_vid')"
   ]
  },
  {
   "cell_type": "code",
   "execution_count": 6,
   "id": "dee8a3bc-42fb-44c7-9a59-7204c35e0d5e",
   "metadata": {},
   "outputs": [],
   "source": [
    "# # example\n",
    "# # 两个 dense feature\n",
    "# dense_f1 = denseFeature('dense_feature_1')\n",
    "# dense_f2 = denseFeature('dense_feature_2')\n",
    "# # 两个 sparse feature\n",
    "# sparse_f1 = sparseFeature('sparse_feature_1', feat_num=2, embed_dim=8) \n",
    "# sparse_f2 = sparseFeature('sparse_feature_2', feat_num=5, embed_dim=8)\n",
    "# # \n",
    "# dense_feature_list = [dense_f1, dense_f2] # 所有连续特征\n",
    "# sparse_feature_list = [sparse_f1, sparse_f2] # 所有离散特征\n",
    "# # 分别指定wide  deep侧特征\n",
    "# wide_feature_list = [dense_f1, dense_f2] # 指定wide侧的特征，不指定则默认所有\n",
    "# deep_feature_list = [dense_f2, sparse_f1] # 指定deep侧的特征，不指定则默认所有\n",
    "\n",
    "\n",
    "# model = WideDeep(dense_feature_list, sparse_feature_list, wide_feature_list, deep_feature_list) \n",
    "# model.summary()\n",
    "\n",
    "# batch = 128\n",
    "# d_f1 = tf.constant(np.random.rand(batch, 1))\n",
    "# d_f2 = tf.constant(np.random.rand(batch, 1))\n",
    "# s_f1 = tf.constant(np.random.randint(2, size=(batch, 1)), dtype=tf.float32)\n",
    "# s_f2 = tf.constant(np.random.randint(5, size=(batch, 1)), dtype=tf.float32)\n",
    "# inputs = [d_f1, d_f2, s_f1, s_f2]\n",
    "# outputs = model(inputs)\n",
    "# print(outputs.shape)"
   ]
  },
  {
   "cell_type": "code",
   "execution_count": null,
   "id": "b50110ae-eed7-4f86-b55c-37146156d644",
   "metadata": {},
   "outputs": [],
   "source": []
  },
  {
   "cell_type": "code",
   "execution_count": 63,
   "id": "036a2d86-2fb1-4314-bc62-80d4b14c31f7",
   "metadata": {},
   "outputs": [],
   "source": [
    "# features = pd.DataFrame({'feature': wide_dense + deep_dense + sparse, \n",
    "#               'side': ['wide'] * len(wide_dense) + ['deep'] * len(deep_dense) + ['sparse'] * len(sparse)})\n",
    "\n",
    "# pd.merge(features, f_info, how='left', on=['feature']).to_csv('../dataset/model_feature_info.csv', index=False, encoding='utf-8')"
   ]
  },
  {
   "cell_type": "code",
   "execution_count": 9,
   "id": "2b3f7371-a1b8-492d-8b8a-c7ee2e1b6cdf",
   "metadata": {},
   "outputs": [],
   "source": [
    "sql = \"SELECT traceid, fine_rank, kwd_enc_index,\\ \n",
    "    viewspotid_enc_index, districtid_enc_index, user_residgscityid_enc_index, localdistrictid_enc_index, userlocaltype_enc_index\\\n",
    "    , around_tour, isholiday, isclick, isorder, is_unexposed_product\\\n",
    "    , district_userlocaltype_enc_index, age_enc_index, gender_enc_index, star_enc_index, member_level_enc_index\\\n",
    "    , crown_enc_index, user_value_enc_index, hot_p1m, ctr_p1m, order_p1m\\\n",
    "    , gmv_p1m, unitgmv_p1m, comment_p, comment_pl2m, hot_pla1m\\\n",
    "    , ctr_pla1m, order_pla1m, gmv_pla1m, unitgmv_pla1m, themeid_enc_index\\\n",
    "    , queryctr_pldk1m, new_p1m, season_p, basic_p, kwdcoeff_p\\\n",
    "    , text_score, local_poi_distance, local_district_distance, poi_district_distance, businessstatus\\\n",
    "    , dat, date_type, holiday_type, day_of_week, week_of_year\\\n",
    "    , month, pkgid_enc_index_click_pkgid_list_uk, click_seq_mask_uk, pkgid_enc_index_order_pkgid_list_uk, order_seq_mask_uk\\\n",
    "    , pkgid_enc_index_click_pkgid_list_u, click_seq_mask_u, pkgid_enc_index_order_pkgid_list_u, order_seq_mask_u, order_cnt_3m_p\\\n",
    "    , order_cnt_1m_p, order_cnt_15d_p, order_cnt_7d_p, order_cnt_3d_p, gmv_3m_p\\\n",
    "    , gmv_1m_p, gmv_15d_p, gmv_7d_p, gmv_3d_p, expos_uv_3m_p\\\n",
    "    , expos_uv_1m_p, expos_uv_15d_p, expos_uv_7d_p, expos_uv_3d_p, click_uv_3m_p\\\n",
    "    , click_uv_1m_p, click_uv_15d_p, click_uv_7d_p, click_uv_3d_p, ctr_3m_p\\\n",
    "    , ctr_1m_p, ctr_15d_p, ctr_7d_p, ctr_3d_p, unit_decay_gmv_3m_p\\\n",
    "    , unit_decay_gmv_1m_p, unit_decay_gmv_15d_p, unit_decay_gmv_7d_p, unit_decay_gmv_3d_p, ctcvr_3m_p\\\n",
    "    , ctcvr_1m_p, ctcvr_15d_p, ctcvr_7d_p, ctcvr_3d_p, cvr_3m_p\\\n",
    "    , cvr_1m_p, cvr_15d_p, cvr_7d_p, cvr_3d_p, detail_uv_3m_p\\\n",
    "    , detail_uv_1m_p, detail_uv_15d_p, detail_uv_7d_p, detail_uv_3d_p, isheat\\\n",
    "    , imquality_score, ishighqualitypoi, iscoverimage, hasticket, inchina\\\n",
    "    , isfree, order_cnt_3m_pl, order_cnt_1m_pl, order_cnt_15d_pl, order_cnt_7d_pl\\\n",
    "    , order_cnt_3d_pl, gmv_3m_pl, gmv_1m_pl, gmv_15d_pl, gmv_7d_pl\\\n",
    "    , gmv_3d_pl, expos_uv_3m_pl, expos_uv_1m_pl, expos_uv_15d_pl, expos_uv_7d_pl\\\n",
    "    , expos_uv_3d_pl, click_uv_3m_pl, click_uv_1m_pl, click_uv_15d_pl, click_uv_7d_pl\\\n",
    "    , click_uv_3d_pl, ctr_3m_pl, ctr_1m_pl, ctr_15d_pl, ctr_7d_pl\\\n",
    "    , ctr_3d_pl, unit_decay_gmv_3m_pl, unit_decay_gmv_1m_pl, unit_decay_gmv_15d_pl, unit_decay_gmv_7d_pl\\\n",
    "    , unit_decay_gmv_3d_pl, ctcvr_3m_pl, ctcvr_1m_pl, ctcvr_15d_pl, ctcvr_7d_pl\\\n",
    "    , ctcvr_3d_pl, cvr_3m_pl, cvr_1m_pl, cvr_15d_pl, cvr_7d_pl\\\n",
    "    , cvr_3d_pl, detail_uv_3m_pl, detail_uv_1m_pl, detail_uv_15d_pl, detail_uv_7d_pl\\\n",
    "    , detail_uv_3d_pl, order_cnt_3m_pdk, order_cnt_1m_pdk, order_cnt_15d_pdk, order_cnt_7d_pdk\\\n",
    "    , order_cnt_3d_pdk, gmv_3m_pdk, gmv_1m_pdk, gmv_15d_pdk, gmv_7d_pdk\\\n",
    "    , gmv_3d_pdk, expos_uv_3m_pdk, expos_uv_1m_pdk, expos_uv_15d_pdk, expos_uv_7d_pdk\\\n",
    "    , expos_uv_3d_pdk, click_uv_3m_pdk, click_uv_1m_pdk, click_uv_15d_pdk, click_uv_7d_pdk\\\n",
    "    , click_uv_3d_pdk, ctr_3m_pdk, ctr_1m_pdk, ctr_15d_pdk, ctr_7d_pdk\\\n",
    "    , ctr_3d_pdk, unit_decay_gmv_3m_pdk, unit_decay_gmv_1m_pdk, unit_decay_gmv_15d_pdk, unit_decay_gmv_7d_pdk\\\n",
    "    , unit_decay_gmv_3d_pdk, ctcvr_3m_pdk, ctcvr_1m_pdk, ctcvr_15d_pdk, ctcvr_7d_pdk\\\n",
    "    , ctcvr_3d_pdk, cvr_3m_pdk, cvr_1m_pdk, cvr_15d_pdk, cvr_7d_pdk\\\n",
    "    , cvr_3d_pdk, order_cnt_3m_u, order_cnt_1m_u, order_cnt_15d_u, order_cnt_7d_u\\\n",
    "    , order_cnt_3d_u, gmv_3m_u, gmv_1m_u, gmv_15d_u, gmv_7d_u\\\n",
    "    , gmv_3d_u, expos_uv_3m_u, expos_uv_1m_u, expos_uv_15d_u, expos_uv_7d_u\\\n",
    "    , expos_uv_3d_u, click_uv_3m_u, click_uv_1m_u, click_uv_15d_u, click_uv_7d_u\\\n",
    "    , click_uv_3d_u, ctr_3m_u, ctr_1m_u, ctr_15d_u, ctr_7d_u\\\n",
    "    , ctr_3d_u, unit_decay_gmv_3m_u, unit_decay_gmv_1m_u, unit_decay_gmv_15d_u, unit_decay_gmv_7d_u\\\n",
    "    , unit_decay_gmv_3d_u, ctcvr_3m_u, ctcvr_1m_u, ctcvr_15d_u, ctcvr_7d_u\\\n",
    "    , ctcvr_3d_u, cvr_3m_u, cvr_1m_u, cvr_15d_u, cvr_7d_u\\\n",
    "    , cvr_3d_u, order_cnt_3m_uk, order_cnt_1m_uk, order_cnt_15d_uk, order_cnt_7d_uk\\\n",
    "    , order_cnt_3d_uk, gmv_3m_uk, gmv_1m_uk, gmv_15d_uk, gmv_7d_uk\\\n",
    "    , gmv_3d_uk, expos_uv_3m_uk, expos_uv_1m_uk, expos_uv_15d_uk, expos_uv_7d_uk\\\n",
    "    , expos_uv_3d_uk, click_uv_3m_uk, click_uv_1m_uk, click_uv_15d_uk, click_uv_7d_uk\\\n",
    "    , click_uv_3d_uk, ctr_3m_uk, ctr_1m_uk, ctr_15d_uk, ctr_7d_uk\\\n",
    "    , ctr_3d_uk, unit_decay_gmv_3m_uk, unit_decay_gmv_1m_uk, unit_decay_gmv_15d_uk, unit_decay_gmv_7d_uk\\\n",
    "    , unit_decay_gmv_3d_uk, ctcvr_3m_uk, ctcvr_1m_uk, ctcvr_15d_uk, ctcvr_7d_uk\\\n",
    "    , ctcvr_3d_uk, cvr_3m_uk, cvr_1m_uk, cvr_15d_uk, cvr_7d_uk\\\n",
    "    , cvr_3d_uk, order_cnt_3m_puk, order_cnt_1m_puk, order_cnt_15d_puk, order_cnt_7d_puk\\\n",
    "    , order_cnt_3d_puk, gmv_3m_puk, gmv_1m_puk, gmv_15d_puk, gmv_7d_puk\\\n",
    "    , gmv_3d_puk, expos_uv_3m_puk, expos_uv_1m_puk, expos_uv_15d_puk, expos_uv_7d_puk\\\n",
    "    , expos_uv_3d_puk, click_uv_3m_puk, click_uv_1m_puk, click_uv_15d_puk, click_uv_7d_puk\\\n",
    "    , click_uv_3d_puk, ctr_3m_puk, ctr_1m_puk, ctr_15d_puk, ctr_7d_puk\\\n",
    "    , ctr_3d_puk, unit_decay_gmv_3m_puk, unit_decay_gmv_1m_puk, unit_decay_gmv_15d_puk, unit_decay_gmv_7d_puk\\\n",
    "    , unit_decay_gmv_3d_puk, ctcvr_3m_puk, ctcvr_1m_puk, ctcvr_15d_puk, ctcvr_7d_puk\\\n",
    "    , ctcvr_3d_puk, cvr_3m_puk, cvr_1m_puk, cvr_15d_puk, cvr_7d_puk\\\n",
    "    , cvr_3d_puk, order_cnt_3m_k, order_cnt_1m_k, order_cnt_15d_k, order_cnt_7d_k\\\n",
    "    , order_cnt_3d_k, gmv_3m_k, gmv_1m_k, gmv_15d_k, gmv_7d_k\\\n",
    "    , gmv_3d_k, expos_uv_3m_k, expos_uv_1m_k, expos_uv_15d_k, expos_uv_7d_k\\\n",
    "    , expos_uv_3d_k, click_uv_3m_k, click_uv_1m_k, click_uv_15d_k, click_uv_7d_k\\\n",
    "    , click_uv_3d_k, ctr_3m_k, ctr_1m_k, ctr_15d_k, ctr_7d_k\\\n",
    "    , ctr_3d_k, unit_decay_gmv_3m_k, unit_decay_gmv_1m_k, unit_decay_gmv_15d_k, unit_decay_gmv_7d_k\\\n",
    "    , unit_decay_gmv_3d_k, ctcvr_3m_k, ctcvr_1m_k, ctcvr_15d_k, ctcvr_7d_k\\\n",
    "    , ctcvr_3d_k, cvr_3m_k, cvr_1m_k, cvr_15d_k, cvr_7d_k\\\n",
    "    , cvr_3d_k, order_cnt_3m_pu, order_cnt_1m_pu, order_cnt_15d_pu, order_cnt_7d_pu\\\n",
    "    , order_cnt_3d_pu, gmv_3m_pu, gmv_1m_pu, gmv_15d_pu, gmv_7d_pu\\\n",
    "    , gmv_3d_pu, expos_uv_3m_pu, expos_uv_1m_pu, expos_uv_15d_pu, expos_uv_7d_pu\\\n",
    "    , expos_uv_3d_pu, click_uv_3m_pu, click_uv_1m_pu, click_uv_15d_pu, click_uv_7d_pu\\\n",
    "    , click_uv_3d_pu, ctr_3m_pu, ctr_1m_pu, ctr_15d_pu, ctr_7d_pu\\\n",
    "    , ctr_3d_pu, unit_decay_gmv_3m_pu, unit_decay_gmv_1m_pu, unit_decay_gmv_15d_pu, unit_decay_gmv_7d_pu\\\n",
    "    , unit_decay_gmv_3d_pu, ctcvr_3m_pu, ctcvr_1m_pu, ctcvr_15d_pu, ctcvr_7d_pu\\\n",
    "    , ctcvr_3d_pu, cvr_3m_pu, cvr_1m_pu, cvr_15d_pu, cvr_7d_pu\\\n",
    "    , cvr_3d_pu\\\n",
    "    , CASE WHEN order_cnts > 0 THEN 1 ELSE 0 END AS target \\\n",
    "FROM ods_actttdsearchdb.adm_srh_algo_ctrip_tkt_blackbox_ranking_sample_detail \\\n",
    "WHERE d BETWEEN '2022-07-28' AND '2022-07-30' \\\n",
    "    AND is_unexposed_product = 0 \\\n",
    "    AND order_in_trace > 0\""
   ]
  },
  {
   "cell_type": "code",
   "execution_count": 10,
   "id": "2d77c7b6-f758-46e7-8ec9-b64bb8003c14",
   "metadata": {},
   "outputs": [],
   "source": [
    "spark_df = spark.sql(sql)\n",
    "data = spark_df.toPandas()"
   ]
  },
  {
   "cell_type": "code",
   "execution_count": 11,
   "id": "e88a1693-a0c7-470e-acf3-f0029d126b03",
   "metadata": {},
   "outputs": [
    {
     "data": {
      "text/plain": [
       "(53358, 394)"
      ]
     },
     "execution_count": 11,
     "metadata": {},
     "output_type": "execute_result"
    }
   ],
   "source": [
    "data.shape"
   ]
  },
  {
   "cell_type": "code",
   "execution_count": 12,
   "id": "c2c1ec20-1123-45e4-ae54-72ad827057f6",
   "metadata": {},
   "outputs": [],
   "source": [
    "data.to_csv('../dataset/tkt_kwd_test_728_730.csv', index=False)"
   ]
  },
  {
   "cell_type": "code",
   "execution_count": null,
   "id": "bcc270ed-0d5c-4c20-bf19-a4709bb6decd",
   "metadata": {},
   "outputs": [],
   "source": []
  }
 ],
 "metadata": {
  "kernelspec": {
   "display_name": "Python 3",
   "language": "python",
   "name": "python3"
  },
  "language_info": {
   "codemirror_mode": {
    "name": "ipython",
    "version": 3
   },
   "file_extension": ".py",
   "mimetype": "text/x-python",
   "name": "python",
   "nbconvert_exporter": "python",
   "pygments_lexer": "ipython3",
   "version": "3.6.5"
  }
 },
 "nbformat": 4,
 "nbformat_minor": 5
}
