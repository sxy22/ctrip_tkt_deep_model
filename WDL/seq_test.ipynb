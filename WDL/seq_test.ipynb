{
 "cells": [
  {
   "cell_type": "code",
   "execution_count": null,
   "id": "104dec87-8aa4-4970-88a4-fab8262eea6f",
   "metadata": {},
   "outputs": [],
   "source": [
    "import sys\n",
    "import os \n",
    "sys.path.append(\"..\")\n",
    "sys.path.append(\".\")\n",
    "import random\n",
    "import numpy as np \n",
    "import pandas as pd \n",
    "import tensorflow as tf\n",
    "from tensorflow.keras.layers import Input, Embedding, Dense, Dropout\n",
    "from sklearn.model_selection import train_test_split\n",
    "\n",
    "from tensorflow.keras.callbacks import EarlyStopping\n",
    "from tensorflow.keras.losses import binary_crossentropy\n",
    "from tensorflow.keras.optimizers import Adam\n",
    "from tensorflow.keras.metrics import AUC, Accuracy, BinaryAccuracy\n",
    "# from tensorflow.python.client import device_lib\n",
    "# device_lib.list_local_devices()\n",
    "from WDL.model import WideDeep\n",
    "from WDL.model_with_seq import WideDeepDIN\n",
    "from WDL.modules import sparseFeature, denseFeature"
   ]
  },
  {
   "cell_type": "code",
   "execution_count": 2,
   "id": "bae76b1c-2832-427f-8f86-4a76f9fc222d",
   "metadata": {},
   "outputs": [],
   "source": [
    "dense_f1 = denseFeature('dense_f1')\n",
    "dense_f2 = denseFeature('dense_f1')\n",
    "sparse_f1 = sparseFeature('sparse_f1', feat_num=5, embed_dim=8)\n",
    "sparse_f2 = sparseFeature('sparse_f2', feat_num=15, embed_dim=8)\n",
    "item_f1 = sparseFeature('item_f1', feat_num=15, embed_dim=8)"
   ]
  },
  {
   "cell_type": "code",
   "execution_count": 3,
   "id": "55b2414f-05ab-4613-94b0-ed425e10b0e3",
   "metadata": {},
   "outputs": [],
   "source": [
    "dense_feature_list = [dense_f1, dense_f2]\n",
    "sparse_feature_list = [sparse_f1, sparse_f2]\n",
    "wide_feature_list = []\n",
    "deep_feature_list = []\n",
    "behavior_feature_list = [item_f1]"
   ]
  },
  {
   "cell_type": "code",
   "execution_count": 6,
   "id": "11b5408b-1577-4c83-8286-77b3e999e3cf",
   "metadata": {},
   "outputs": [
    {
     "data": {
      "text/plain": [
       "{'dense_f1': 1, 'sparse_f1': 2, 'sparse_f2': 3}"
      ]
     },
     "execution_count": 6,
     "metadata": {},
     "output_type": "execute_result"
    }
   ],
   "source": [
    "model.feature_idx"
   ]
  },
  {
   "cell_type": "code",
   "execution_count": 5,
   "id": "e1117412-b2e2-449e-bfce-e14b898c494e",
   "metadata": {},
   "outputs": [
    {
     "name": "stdout",
     "output_type": "stream",
     "text": [
      "wide side featrues:  dense_f1,dense_f1,sparse_f1,sparse_f2\n",
      "deep side featrues:  dense_f1,dense_f1,sparse_f1,sparse_f2\n",
      "(None, 8)\n",
      "(None, 1, 8)\n",
      "Model: \"model\"\n",
      "__________________________________________________________________________________________________\n",
      "Layer (type)                    Output Shape         Param #     Connected to                     \n",
      "==================================================================================================\n",
      "input_1 (InputLayer)            [(None, 1)]          0                                            \n",
      "__________________________________________________________________________________________________\n",
      "input_2 (InputLayer)            [(None, 1)]          0                                            \n",
      "__________________________________________________________________________________________________\n",
      "input_3 (InputLayer)            [(None, 1)]          0                                            \n",
      "__________________________________________________________________________________________________\n",
      "input_4 (InputLayer)            [(None, 1)]          0                                            \n",
      "__________________________________________________________________________________________________\n",
      "tf.concat (TFOpLambda)          (None, 4)            0           input_1[0][0]                    \n",
      "                                                                 input_2[0][0]                    \n",
      "                                                                 input_3[0][0]                    \n",
      "                                                                 input_4[0][0]                    \n",
      "__________________________________________________________________________________________________\n",
      "tf.compat.v1.gather_3 (TFOpLamb (None, 2)            0           tf.concat[0][0]                  \n",
      "__________________________________________________________________________________________________\n",
      "tf.cast_1 (TFOpLambda)          (None, 2)            0           tf.compat.v1.gather_3[0][0]      \n",
      "__________________________________________________________________________________________________\n",
      "input_6 (InputLayer)            [(None, 1)]          0                                            \n",
      "__________________________________________________________________________________________________\n",
      "input_5 (InputLayer)            [(None, 1, 1)]       0                                            \n",
      "__________________________________________________________________________________________________\n",
      "tf.__operators__.getitem (Slici (None,)              0           tf.cast_1[0][0]                  \n",
      "__________________________________________________________________________________________________\n",
      "tf.__operators__.getitem_1 (Sli (None,)              0           tf.cast_1[0][0]                  \n",
      "__________________________________________________________________________________________________\n",
      "tf.__operators__.getitem_4 (Sli (None,)              0           input_6[0][0]                    \n",
      "__________________________________________________________________________________________________\n",
      "tf.__operators__.getitem_3 (Sli (None, 1)            0           input_5[0][0]                    \n",
      "__________________________________________________________________________________________________\n",
      "tf.__operators__.getitem_2 (Sli (None, 1)            0           input_5[0][0]                    \n",
      "__________________________________________________________________________________________________\n",
      "embedding (Embedding)           (None, 8)            48          tf.__operators__.getitem[0][0]   \n",
      "__________________________________________________________________________________________________\n",
      "embedding_1 (Embedding)         (None, 8)            128         tf.__operators__.getitem_1[0][0] \n",
      "__________________________________________________________________________________________________\n",
      "embedding_2 (Embedding)         multiple             128         tf.__operators__.getitem_3[0][0] \n",
      "                                                                 tf.__operators__.getitem_4[0][0] \n",
      "__________________________________________________________________________________________________\n",
      "tf.math.not_equal (TFOpLambda)  (None, 1)            0           tf.__operators__.getitem_2[0][0] \n",
      "__________________________________________________________________________________________________\n",
      "tf.compat.v1.gather_2 (TFOpLamb (None, 2)            0           tf.concat[0][0]                  \n",
      "__________________________________________________________________________________________________\n",
      "tf.concat_1 (TFOpLambda)        (None, 16)           0           embedding[0][0]                  \n",
      "                                                                 embedding_1[0][0]                \n",
      "__________________________________________________________________________________________________\n",
      "tf.identity_1 (TFOpLambda)      (None, 8)            0           embedding_2[1][0]                \n",
      "__________________________________________________________________________________________________\n",
      "tf.identity (TFOpLambda)        (None, 1, 8)         0           embedding_2[0][0]                \n",
      "__________________________________________________________________________________________________\n",
      "tf.cast_2 (TFOpLambda)          (None, 1)            0           tf.math.not_equal[0][0]          \n",
      "__________________________________________________________________________________________________\n",
      "tf.compat.v1.gather_1 (TFOpLamb (None, 2)            0           tf.concat[0][0]                  \n",
      "__________________________________________________________________________________________________\n",
      "tf.concat_2 (TFOpLambda)        (None, 18)           0           tf.compat.v1.gather_2[0][0]      \n",
      "                                                                 tf.concat_1[0][0]                \n",
      "__________________________________________________________________________________________________\n",
      "attention__layer (Attention_Lay (None, 8)            2161        tf.identity_1[0][0]              \n",
      "                                                                 tf.identity[0][0]                \n",
      "                                                                 tf.identity[0][0]                \n",
      "                                                                 tf.cast_2[0][0]                  \n",
      "__________________________________________________________________________________________________\n",
      "tf.cast (TFOpLambda)            (None, 2)            0           tf.compat.v1.gather_1[0][0]      \n",
      "__________________________________________________________________________________________________\n",
      "tf.concat_3 (TFOpLambda)        (None, 26)           0           tf.concat_2[0][0]                \n",
      "                                                                 attention__layer[0][0]           \n",
      "__________________________________________________________________________________________________\n",
      "tf.compat.v1.gather (TFOpLambda (None, 2)            0           tf.concat[0][0]                  \n",
      "__________________________________________________________________________________________________\n",
      "tf.__operators__.add (TFOpLambd (None, 2)            0           tf.cast[0][0]                    \n",
      "__________________________________________________________________________________________________\n",
      "dnn (DNN)                       (None, 32)           3808        tf.concat_3[0][0]                \n",
      "__________________________________________________________________________________________________\n",
      "linear (Linear)                 (None, 1)            23          tf.compat.v1.gather[0][0]        \n",
      "                                                                 tf.__operators__.add[0][0]       \n",
      "__________________________________________________________________________________________________\n",
      "dense_6 (Dense)                 (None, 1)            33          dnn[0][0]                        \n",
      "__________________________________________________________________________________________________\n",
      "tf.math.multiply (TFOpLambda)   (None, 1)            0           linear[0][0]                     \n",
      "__________________________________________________________________________________________________\n",
      "tf.math.multiply_1 (TFOpLambda) (None, 1)            0           dense_6[0][0]                    \n",
      "__________________________________________________________________________________________________\n",
      "tf.__operators__.add_1 (TFOpLam (None, 1)            0           tf.math.multiply[0][0]           \n",
      "                                                                 tf.math.multiply_1[0][0]         \n",
      "__________________________________________________________________________________________________\n",
      "tf.math.sigmoid (TFOpLambda)    (None, 1)            0           tf.__operators__.add_1[0][0]     \n",
      "==================================================================================================\n",
      "Total params: 6,329\n",
      "Trainable params: 6,329\n",
      "Non-trainable params: 0\n",
      "__________________________________________________________________________________________________\n"
     ]
    }
   ],
   "source": [
    "model = WideDeepDIN(dense_feature_list, sparse_feature_list, behavior_feature_list=behavior_feature_list, seq_len=20)\n",
    "model.summary()"
   ]
  },
  {
   "cell_type": "code",
   "execution_count": 8,
   "id": "71f7f11a-4d31-4878-8368-44f94b3f2b08",
   "metadata": {},
   "outputs": [],
   "source": [
    "non_seq_inputs = [Input(shape=(1,), dtype=tf.float32) for _ in\n",
    "          range(model.len_dense_feature + model.len_sparse_feature)]\n",
    "\n",
    "seq_inputs = Input(shape=(20,1), dtype=tf.float32)\n",
    "item_inputs = Input(shape=(1,), dtype=tf.float32)"
   ]
  },
  {
   "cell_type": "code",
   "execution_count": null,
   "id": "3d14fc62-74c9-4aa6-b3c3-2f5e15cb01da",
   "metadata": {},
   "outputs": [],
   "source": []
  },
  {
   "cell_type": "code",
   "execution_count": null,
   "id": "2d0d27db-d394-4aa6-9bd9-9bf37d6b9428",
   "metadata": {},
   "outputs": [],
   "source": [
    "[wide deep inputs, seq_inputs, item_inputs]"
   ]
  },
  {
   "cell_type": "code",
   "execution_count": null,
   "id": "85cb7b82-de85-4089-a496-5944361d9d41",
   "metadata": {},
   "outputs": [],
   "source": []
  },
  {
   "cell_type": "code",
   "execution_count": 5,
   "id": "7e140d9a-2cfc-43c5-afb1-d9bf8dedee36",
   "metadata": {},
   "outputs": [
    {
     "name": "stdout",
     "output_type": "stream",
     "text": [
      "wide side featrues:  dense_f1,dense_f1,sparse_f1,sparse_f2\n",
      "deep side featrues:  dense_f1,dense_f1,sparse_f1,sparse_f2\n"
     ]
    },
    {
     "ename": "ValueError",
     "evalue": "too many values to unpack (expected 3)",
     "output_type": "error",
     "traceback": [
      "\u001b[0;31m---------------------------------------------------------------------------\u001b[0m",
      "\u001b[0;31mValueError\u001b[0m                                Traceback (most recent call last)",
      "\u001b[0;32m<ipython-input-5-5f15418b3570>\u001b[0m in \u001b[0;36m<module>\u001b[0;34m\u001b[0m\n\u001b[0;32m----> 1\u001b[0;31m \u001b[0mmodel\u001b[0m\u001b[0;34m.\u001b[0m\u001b[0msummary\u001b[0m\u001b[0;34m(\u001b[0m\u001b[0;34m)\u001b[0m\u001b[0;34m\u001b[0m\u001b[0m\n\u001b[0m",
      "\u001b[0;32m~/work/ctrip_tkt_deep_model/WDL/model_with_seq.py\u001b[0m in \u001b[0;36msummary\u001b[0;34m(self, **kwargs)\u001b[0m\n\u001b[1;32m    179\u001b[0m         inputs = [Input(shape=(1,), dtype=tf.float32) for _ in\n\u001b[1;32m    180\u001b[0m                   range(self.len_dense_feature + self.len_sparse_feature)]\n\u001b[0;32m--> 181\u001b[0;31m         \u001b[0mModel\u001b[0m\u001b[0;34m(\u001b[0m\u001b[0minputs\u001b[0m\u001b[0;34m=\u001b[0m\u001b[0minputs\u001b[0m\u001b[0;34m,\u001b[0m \u001b[0moutputs\u001b[0m\u001b[0;34m=\u001b[0m\u001b[0mself\u001b[0m\u001b[0;34m.\u001b[0m\u001b[0mcall\u001b[0m\u001b[0;34m(\u001b[0m\u001b[0minputs\u001b[0m\u001b[0;34m)\u001b[0m\u001b[0;34m)\u001b[0m\u001b[0;34m.\u001b[0m\u001b[0msummary\u001b[0m\u001b[0;34m(\u001b[0m\u001b[0;34m)\u001b[0m\u001b[0;34m\u001b[0m\u001b[0m\n\u001b[0m\u001b[1;32m    182\u001b[0m \u001b[0;34m\u001b[0m\u001b[0m\n\u001b[1;32m    183\u001b[0m \u001b[0;31m# class WideDeep(Model):\u001b[0m\u001b[0;34m\u001b[0m\u001b[0;34m\u001b[0m\u001b[0m\n",
      "\u001b[0;32m~/work/ctrip_tkt_deep_model/WDL/model_with_seq.py\u001b[0m in \u001b[0;36mcall\u001b[0;34m(self, inputs, **kwargs)\u001b[0m\n\u001b[1;32m     87\u001b[0m \u001b[0;34m\u001b[0m\u001b[0m\n\u001b[1;32m     88\u001b[0m     \u001b[0;32mdef\u001b[0m \u001b[0mcall\u001b[0m\u001b[0;34m(\u001b[0m\u001b[0mself\u001b[0m\u001b[0;34m,\u001b[0m \u001b[0minputs\u001b[0m\u001b[0;34m,\u001b[0m \u001b[0;34m**\u001b[0m\u001b[0mkwargs\u001b[0m\u001b[0;34m)\u001b[0m\u001b[0;34m:\u001b[0m\u001b[0;34m\u001b[0m\u001b[0m\n\u001b[0;32m---> 89\u001b[0;31m         \u001b[0mwide_dense_input\u001b[0m\u001b[0;34m,\u001b[0m \u001b[0mwide_sparse_input\u001b[0m\u001b[0;34m,\u001b[0m \u001b[0mdeep_dense_input\u001b[0m\u001b[0;34m,\u001b[0m \u001b[0mdeep_sparse_input\u001b[0m\u001b[0;34m,\u001b[0m \u001b[0mseq_input\u001b[0m\u001b[0;34m,\u001b[0m \u001b[0mitem_input\u001b[0m \u001b[0;34m=\u001b[0m \u001b[0mself\u001b[0m\u001b[0;34m.\u001b[0m\u001b[0m_get_input\u001b[0m\u001b[0;34m(\u001b[0m\u001b[0minputs\u001b[0m\u001b[0;34m)\u001b[0m\u001b[0;34m\u001b[0m\u001b[0m\n\u001b[0m\u001b[1;32m     90\u001b[0m         \u001b[0;31m# deep侧sparse embedding\u001b[0m\u001b[0;34m\u001b[0m\u001b[0;34m\u001b[0m\u001b[0m\n\u001b[1;32m     91\u001b[0m         \u001b[0;31m# batch, len * embed_dim\u001b[0m\u001b[0;34m\u001b[0m\u001b[0;34m\u001b[0m\u001b[0m\n",
      "\u001b[0;32m~/work/ctrip_tkt_deep_model/WDL/model_with_seq.py\u001b[0m in \u001b[0;36m_get_input\u001b[0;34m(self, inputs)\u001b[0m\n\u001b[1;32m    140\u001b[0m         \u001b[0;31m# inputs[2]是target item [batch, num]\u001b[0m\u001b[0;34m\u001b[0m\u001b[0;34m\u001b[0m\u001b[0m\n\u001b[1;32m    141\u001b[0m         \u001b[0;31m# return: wide_dense_input, wide_sparse_input, deep_dense_input, deep_sparse_input, seq_input, item_input\u001b[0m\u001b[0;34m\u001b[0m\u001b[0;34m\u001b[0m\u001b[0m\n\u001b[0;32m--> 142\u001b[0;31m         \u001b[0minputs\u001b[0m\u001b[0;34m,\u001b[0m \u001b[0mseq_inputs\u001b[0m\u001b[0;34m,\u001b[0m \u001b[0mitem_inputs\u001b[0m \u001b[0;34m=\u001b[0m \u001b[0minputs\u001b[0m\u001b[0;34m\u001b[0m\u001b[0m\n\u001b[0m\u001b[1;32m    143\u001b[0m         \u001b[0;31m# 非序列特征处理\u001b[0m\u001b[0;34m\u001b[0m\u001b[0;34m\u001b[0m\u001b[0m\n\u001b[1;32m    144\u001b[0m         \u001b[0minputs\u001b[0m \u001b[0;34m=\u001b[0m \u001b[0mtf\u001b[0m\u001b[0;34m.\u001b[0m\u001b[0mconcat\u001b[0m\u001b[0;34m(\u001b[0m\u001b[0minputs\u001b[0m\u001b[0;34m,\u001b[0m \u001b[0maxis\u001b[0m\u001b[0;34m=\u001b[0m\u001b[0;34m-\u001b[0m\u001b[0;36m1\u001b[0m\u001b[0;34m)\u001b[0m  \u001b[0;31m# batch, 特征个数\u001b[0m\u001b[0;34m\u001b[0m\u001b[0m\n",
      "\u001b[0;31mValueError\u001b[0m: too many values to unpack (expected 3)"
     ]
    }
   ],
   "source": [
    "model.summary()"
   ]
  },
  {
   "cell_type": "code",
   "execution_count": null,
   "id": "ce0b1f73-e1d4-45a0-9559-3e281a63f671",
   "metadata": {},
   "outputs": [],
   "source": []
  },
  {
   "cell_type": "code",
   "execution_count": null,
   "id": "89f47932-2bcf-4a7a-9236-8f4f88084f29",
   "metadata": {},
   "outputs": [],
   "source": []
  },
  {
   "cell_type": "code",
   "execution_count": null,
   "id": "2df8197d-001c-467e-b906-90240f430cdc",
   "metadata": {},
   "outputs": [],
   "source": []
  },
  {
   "cell_type": "code",
   "execution_count": null,
   "id": "fa02dfde-f21a-41b0-80c2-e8521eb677d2",
   "metadata": {},
   "outputs": [],
   "source": []
  }
 ],
 "metadata": {
  "kernelspec": {
   "display_name": "Python 3",
   "language": "python",
   "name": "python3"
  },
  "language_info": {
   "codemirror_mode": {
    "name": "ipython",
    "version": 3
   },
   "file_extension": ".py",
   "mimetype": "text/x-python",
   "name": "python",
   "nbconvert_exporter": "python",
   "pygments_lexer": "ipython3",
   "version": "3.6.5"
  }
 },
 "nbformat": 4,
 "nbformat_minor": 5
}
