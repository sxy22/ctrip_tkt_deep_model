{
 "cells": [
  {
   "cell_type": "code",
   "execution_count": 2,
   "id": "6f00e5a1-409c-4dc9-b0e8-88ea597292e1",
   "metadata": {},
   "outputs": [
    {
     "name": "stderr",
     "output_type": "stream",
     "text": [
      "/opt/app/spark-3.2.0/python/pyspark/context.py:238: FutureWarning: Python 3.6 support is deprecated in Spark 3.2.\n",
      "  FutureWarning\n"
     ]
    }
   ],
   "source": [
    "from pyspark.sql import SparkSession\n",
    "import os\n",
    "os.environ[\"PYSPARK_PYTHON\"] = \"/usr/bin/python3.6\"\n",
    "spark = SparkSession.builder.appName(\"tkt_kwd_model\").enableHiveSupport().getOrCreate()"
   ]
  },
  {
   "cell_type": "code",
   "execution_count": 17,
   "id": "54a29cde-a9f8-4a7f-8674-32cd72795c18",
   "metadata": {},
   "outputs": [],
   "source": [
    "import sys\n",
    "sys.path.append(\"..\")\n",
    "sys.path.append(\".\")\n",
    "import numpy as np \n",
    "import pandas as pd \n",
    "import tensorflow as tf\n",
    "from tensorflow.keras.layers import Input, Embedding, Dense, Dropout\n",
    "from sklearn.model_selection import train_test_split"
   ]
  },
  {
   "cell_type": "code",
   "execution_count": 21,
   "id": "c9a084e0-bd74-42e4-a65d-6b1cdb1e59e2",
   "metadata": {},
   "outputs": [],
   "source": [
    "from tensorflow.keras.callbacks import EarlyStopping\n",
    "from tensorflow.keras.losses import binary_crossentropy\n",
    "from tensorflow.keras.optimizers import Adam\n",
    "from tensorflow.keras.metrics import AUC, Accuracy, BinaryAccuracy"
   ]
  },
  {
   "cell_type": "code",
   "execution_count": 3,
   "id": "263090bf-60f8-4bbe-be97-a90a63585876",
   "metadata": {
    "tags": []
   },
   "outputs": [],
   "source": [
    "from WDL.model import WideDeep\n",
    "from WDL.modules import sparseFeature, denseFeature"
   ]
  },
  {
   "cell_type": "code",
   "execution_count": 4,
   "id": "4ef83941-6992-485c-9a33-03162d5723bc",
   "metadata": {},
   "outputs": [],
   "source": [
    "sample = -1\n",
    "file = '../dataset/tkt_kwd_train.csv'\n",
    "if sample == -1:\n",
    "    data = pd.read_csv(file)\n",
    "else:\n",
    "    data = pd.read_csv(file, iterator=True)\n",
    "    data = data.get_chunk(sample)"
   ]
  },
  {
   "cell_type": "code",
   "execution_count": 29,
   "id": "c472359f-23d7-40a1-b218-c67a92e0f065",
   "metadata": {},
   "outputs": [],
   "source": [
    "wide_dense_features = [x.strip() for x in 'around_tour, isholiday, is_unexposed_product, hot_p1m, ctr_p1m, order_p1m, gmv_p1m, unitgmv_p1m, comment_p, comment_pl2m, hot_pla1m, ctr_pla1m, order_pla1m, gmv_pla1m, unitgmv_pla1m, queryctr_pldk1m, new_p1m, season_p, basic_p, kwdcoeff_p, text_score, local_poi_distance, local_district_distance, poi_district_distance, businessstatus, dat, date_type, holiday_type, day_of_week, week_of_year, month, isheat, imquality_score, ishighqualitypoi, iscoverimage, hasticket, inchina, isfree'.split(',')]\n",
    "\n",
    "deep_dense_features = [x.strip() for x in 'order_cnt_3m_p, order_cnt_1m_p, order_cnt_15d_p, order_cnt_7d_p, order_cnt_3d_p, gmv_3m_p, gmv_1m_p, gmv_15d_p, gmv_7d_p, gmv_3d_p, expos_uv_3m_p, expos_uv_1m_p, expos_uv_15d_p, expos_uv_7d_p, expos_uv_3d_p, click_uv_3m_p, click_uv_1m_p, click_uv_15d_p, click_uv_7d_p, click_uv_3d_p, ctr_3m_p, ctr_1m_p, ctr_15d_p, ctr_7d_p, ctr_3d_p, unit_decay_gmv_3m_p, unit_decay_gmv_1m_p, unit_decay_gmv_15d_p, unit_decay_gmv_7d_p, unit_decay_gmv_3d_p, ctcvr_3m_p, ctcvr_1m_p, ctcvr_15d_p, ctcvr_7d_p, ctcvr_3d_p, cvr_3m_p, cvr_1m_p, cvr_15d_p, cvr_7d_p, cvr_3d_p, detail_uv_3m_p, detail_uv_1m_p, detail_uv_15d_p, detail_uv_7d_p, detail_uv_3d_p, order_cnt_3m_pl, order_cnt_1m_pl, order_cnt_15d_pl, order_cnt_7d_pl, order_cnt_3d_pl, gmv_3m_pl, gmv_1m_pl, gmv_15d_pl, gmv_7d_pl, gmv_3d_pl, expos_uv_3m_pl, expos_uv_1m_pl, expos_uv_15d_pl, expos_uv_7d_pl, expos_uv_3d_pl, click_uv_3m_pl, click_uv_1m_pl, click_uv_15d_pl, click_uv_7d_pl, click_uv_3d_pl, ctr_3m_pl, ctr_1m_pl, ctr_15d_pl, ctr_7d_pl, ctr_3d_pl, unit_decay_gmv_3m_pl, unit_decay_gmv_1m_pl, unit_decay_gmv_15d_pl, unit_decay_gmv_7d_pl, unit_decay_gmv_3d_pl, ctcvr_3m_pl, ctcvr_1m_pl, ctcvr_15d_pl, ctcvr_7d_pl, ctcvr_3d_pl, cvr_3m_pl, cvr_1m_pl, cvr_15d_pl, cvr_7d_pl, cvr_3d_pl, detail_uv_3m_pl, detail_uv_1m_pl, detail_uv_15d_pl, detail_uv_7d_pl, detail_uv_3d_pl, order_cnt_3m_pdk, order_cnt_1m_pdk, order_cnt_15d_pdk, order_cnt_7d_pdk, order_cnt_3d_pdk, gmv_3m_pdk, gmv_1m_pdk, gmv_15d_pdk, gmv_7d_pdk, gmv_3d_pdk, expos_uv_3m_pdk, expos_uv_1m_pdk, expos_uv_15d_pdk, expos_uv_7d_pdk, expos_uv_3d_pdk, click_uv_3m_pdk, click_uv_1m_pdk, click_uv_15d_pdk, click_uv_7d_pdk, click_uv_3d_pdk, ctr_3m_pdk, ctr_1m_pdk, ctr_15d_pdk, ctr_7d_pdk, ctr_3d_pdk, unit_decay_gmv_3m_pdk, unit_decay_gmv_1m_pdk, unit_decay_gmv_15d_pdk, unit_decay_gmv_7d_pdk, unit_decay_gmv_3d_pdk, ctcvr_3m_pdk, ctcvr_1m_pdk, ctcvr_15d_pdk, ctcvr_7d_pdk, ctcvr_3d_pdk, cvr_3m_pdk, cvr_1m_pdk, cvr_15d_pdk, cvr_7d_pdk, cvr_3d_pdk, order_cnt_3m_u, order_cnt_1m_u, order_cnt_15d_u, order_cnt_7d_u, order_cnt_3d_u, gmv_3m_u, gmv_1m_u, gmv_15d_u, gmv_7d_u, gmv_3d_u, expos_uv_3m_u, expos_uv_1m_u, expos_uv_15d_u, expos_uv_7d_u, expos_uv_3d_u, click_uv_3m_u, click_uv_1m_u, click_uv_15d_u, click_uv_7d_u, click_uv_3d_u, ctr_3m_u, ctr_1m_u, ctr_15d_u, ctr_7d_u, ctr_3d_u, unit_decay_gmv_3m_u, unit_decay_gmv_1m_u, unit_decay_gmv_15d_u, unit_decay_gmv_7d_u, unit_decay_gmv_3d_u, ctcvr_3m_u, ctcvr_1m_u, ctcvr_15d_u, ctcvr_7d_u, ctcvr_3d_u, cvr_3m_u, cvr_1m_u, cvr_15d_u, cvr_7d_u, cvr_3d_u, order_cnt_3m_uk, order_cnt_1m_uk, order_cnt_15d_uk, order_cnt_7d_uk, order_cnt_3d_uk, gmv_3m_uk, gmv_1m_uk, gmv_15d_uk, gmv_7d_uk, gmv_3d_uk, expos_uv_3m_uk, expos_uv_1m_uk, expos_uv_15d_uk, expos_uv_7d_uk, expos_uv_3d_uk, click_uv_3m_uk, click_uv_1m_uk, click_uv_15d_uk, click_uv_7d_uk, click_uv_3d_uk, ctr_3m_uk, ctr_1m_uk, ctr_15d_uk, ctr_7d_uk, ctr_3d_uk, unit_decay_gmv_3m_uk, unit_decay_gmv_1m_uk, unit_decay_gmv_15d_uk, unit_decay_gmv_7d_uk, unit_decay_gmv_3d_uk, ctcvr_3m_uk, ctcvr_1m_uk, ctcvr_15d_uk, ctcvr_7d_uk, ctcvr_3d_uk, cvr_3m_uk, cvr_1m_uk, cvr_15d_uk, cvr_7d_uk, cvr_3d_uk, order_cnt_3m_puk, order_cnt_1m_puk, order_cnt_15d_puk, order_cnt_7d_puk, order_cnt_3d_puk, gmv_3m_puk, gmv_1m_puk, gmv_15d_puk, gmv_7d_puk, gmv_3d_puk, expos_uv_3m_puk, expos_uv_1m_puk, expos_uv_15d_puk, expos_uv_7d_puk, expos_uv_3d_puk, click_uv_3m_puk, click_uv_1m_puk, click_uv_15d_puk, click_uv_7d_puk, click_uv_3d_puk, ctr_3m_puk, ctr_1m_puk, ctr_15d_puk, ctr_7d_puk, ctr_3d_puk, unit_decay_gmv_3m_puk, unit_decay_gmv_1m_puk, unit_decay_gmv_15d_puk, unit_decay_gmv_7d_puk, unit_decay_gmv_3d_puk, ctcvr_3m_puk, ctcvr_1m_puk, ctcvr_15d_puk, ctcvr_7d_puk, ctcvr_3d_puk, cvr_3m_puk, cvr_1m_puk, cvr_15d_puk, cvr_7d_puk, cvr_3d_puk, order_cnt_3m_k, order_cnt_1m_k, order_cnt_15d_k, order_cnt_7d_k, order_cnt_3d_k, gmv_3m_k, gmv_1m_k, gmv_15d_k, gmv_7d_k, gmv_3d_k, expos_uv_3m_k, expos_uv_1m_k, expos_uv_15d_k, expos_uv_7d_k, expos_uv_3d_k, click_uv_3m_k, click_uv_1m_k, click_uv_15d_k, click_uv_7d_k, click_uv_3d_k, ctr_3m_k, ctr_1m_k, ctr_15d_k, ctr_7d_k, ctr_3d_k, unit_decay_gmv_3m_k, unit_decay_gmv_1m_k, unit_decay_gmv_15d_k, unit_decay_gmv_7d_k, unit_decay_gmv_3d_k, ctcvr_3m_k, ctcvr_1m_k, ctcvr_15d_k, ctcvr_7d_k, ctcvr_3d_k, cvr_3m_k, cvr_1m_k, cvr_15d_k, cvr_7d_k, cvr_3d_k, order_cnt_3m_pu, order_cnt_1m_pu, order_cnt_15d_pu, order_cnt_7d_pu, order_cnt_3d_pu, gmv_3m_pu, gmv_1m_pu, gmv_15d_pu, gmv_7d_pu, gmv_3d_pu, expos_uv_3m_pu, expos_uv_1m_pu, expos_uv_15d_pu, expos_uv_7d_pu, expos_uv_3d_pu, click_uv_3m_pu, click_uv_1m_pu, click_uv_15d_pu, click_uv_7d_pu, click_uv_3d_pu, ctr_3m_pu, ctr_1m_pu, ctr_15d_pu, ctr_7d_pu, ctr_3d_pu, unit_decay_gmv_3m_pu, unit_decay_gmv_1m_pu, unit_decay_gmv_15d_pu, unit_decay_gmv_7d_pu, unit_decay_gmv_3d_pu, ctcvr_3m_pu, ctcvr_1m_pu, ctcvr_15d_pu, ctcvr_7d_pu, ctcvr_3d_pu, cvr_3m_pu, cvr_1m_pu, cvr_15d_pu, cvr_7d_pu, cvr_3d_pu'.split(',')]\n",
    "\n",
    "deep_sparse_features = [x.strip() for x in 'districtid_enc_index, user_residgscityid_enc_index, localdistrictid_enc_index, userlocaltype_enc_index, district_userlocaltype_enc_index, age_enc_index, gender_enc_index, star_enc_index, member_level_enc_index, crown_enc_index, user_value_enc_index, themeid_enc_index'.split(',')]"
   ]
  },
  {
   "cell_type": "code",
   "execution_count": 30,
   "id": "fd9c4335-1aed-4009-a01e-2d4f4f183f14",
   "metadata": {},
   "outputs": [],
   "source": [
    "#测试一下\n",
    "wide_dense_features = wide_dense_features[:5]\n",
    "deep_dense_features = deep_dense_features[:5]\n",
    "deep_sparse_features = deep_sparse_features[3:6]\n",
    "dense_features = wide_dense_features + deep_dense_features\n",
    "sparse_features = deep_sparse_features\n",
    "sparse_features_num = dict(data[sparse_features].max())"
   ]
  },
  {
   "cell_type": "code",
   "execution_count": 32,
   "id": "f13e101f-eab7-4356-a90f-081e9d4cebf9",
   "metadata": {},
   "outputs": [],
   "source": [
    "dense_feature_list = [denseFeature(feat) for feat in dense_features] # 所有连续特征\n",
    "sparse_feature_list = [sparseFeature(feat, feat_num=sparse_features_num[feat], embed_dim=8) for feat in sparse_features] # 所有离散特征\n",
    "all_feature_list = dense_feature_list + sparse_feature_list\n",
    "# 分别指定wide  deep侧特征\n",
    "wide_feature_list = [] # 指定wide侧的特征，不指定则默认所有\n",
    "deep_feature_list = [] # 指定deep侧的特征，不指定则默认所有\n",
    "model = WideDeep(dense_feature_list, sparse_feature_list, wide_feature_list, deep_feature_list,\n",
    "                hidden_units=[64, 32], activation='relu',\n",
    "                 dnn_dropout=0.2) \n",
    "# model.summary()"
   ]
  },
  {
   "cell_type": "code",
   "execution_count": null,
   "id": "aae72980-bc9d-4c2d-bd46-08777822e5c3",
   "metadata": {},
   "outputs": [],
   "source": [
    "model.summary()"
   ]
  },
  {
   "cell_type": "code",
   "execution_count": 34,
   "id": "e08a2fd9-d222-4333-923a-072142083c9e",
   "metadata": {},
   "outputs": [
    {
     "data": {
      "text/plain": [
       "[{'feat_name': 'around_tour', 'type': 'dense'},\n",
       " {'feat_name': 'isholiday', 'type': 'dense'},\n",
       " {'feat_name': 'is_unexposed_product', 'type': 'dense'},\n",
       " {'feat_name': 'hot_p1m', 'type': 'dense'},\n",
       " {'feat_name': 'ctr_p1m', 'type': 'dense'},\n",
       " {'feat_name': 'order_cnt_3m_p', 'type': 'dense'},\n",
       " {'feat_name': 'order_cnt_1m_p', 'type': 'dense'},\n",
       " {'feat_name': 'order_cnt_15d_p', 'type': 'dense'},\n",
       " {'feat_name': 'order_cnt_7d_p', 'type': 'dense'},\n",
       " {'feat_name': 'order_cnt_3d_p', 'type': 'dense'},\n",
       " {'feat_name': 'userlocaltype_enc_index',\n",
       "  'feat_num': 2,\n",
       "  'embed_dim': 8,\n",
       "  'type': 'sparse'},\n",
       " {'feat_name': 'district_userlocaltype_enc_index',\n",
       "  'feat_num': 2,\n",
       "  'embed_dim': 8,\n",
       "  'type': 'sparse'},\n",
       " {'feat_name': 'age_enc_index',\n",
       "  'feat_num': 84,\n",
       "  'embed_dim': 8,\n",
       "  'type': 'sparse'}]"
      ]
     },
     "execution_count": 34,
     "metadata": {},
     "output_type": "execute_result"
    }
   ],
   "source": [
    "all_feature_list"
   ]
  },
  {
   "cell_type": "code",
   "execution_count": 36,
   "id": "6e77201d-26b2-4855-a199-0ecdffaa396b",
   "metadata": {},
   "outputs": [],
   "source": [
    "data_df = data[[feat['feat_name'] for feat in all_feature_list]]\n",
    "target = data['isorder']\n",
    "train, test, train_y, test_y = train_test_split(data_df.values.astype('float32'), target.values.astype('int32'), test_size=0.2)"
   ]
  },
  {
   "cell_type": "code",
   "execution_count": 37,
   "id": "b71259a2-8d7f-475e-9d1f-142004bd86a0",
   "metadata": {},
   "outputs": [],
   "source": [
    "train_X = [train[:, i] for i in range(train.shape[1])]\n",
    "test_X = [test[:, i] for i in range(test.shape[1])]"
   ]
  },
  {
   "cell_type": "code",
   "execution_count": 38,
   "id": "d7935bf9-11b8-4595-9c93-2a3c2dced939",
   "metadata": {},
   "outputs": [
    {
     "name": "stdout",
     "output_type": "stream",
     "text": [
      "(101710,)\n",
      "(25428,)\n"
     ]
    }
   ],
   "source": [
    "print(train_X[0].shape)\n",
    "print(test_X[0].shape)"
   ]
  },
  {
   "cell_type": "code",
   "execution_count": 39,
   "id": "ca190360-35e5-4798-9c5c-8a5385946dfa",
   "metadata": {},
   "outputs": [],
   "source": [
    "learning_rate = 0.001\n",
    "batch_size = 128\n",
    "epochs = 8"
   ]
  },
  {
   "cell_type": "code",
   "execution_count": 40,
   "id": "291f856a-3404-4979-9c88-cfd11979814c",
   "metadata": {},
   "outputs": [],
   "source": [
    "model.compile(loss=binary_crossentropy, optimizer=Adam(learning_rate=learning_rate),\n",
    "                      metrics=[AUC(), BinaryAccuracy(threshold=0.5)])"
   ]
  },
  {
   "cell_type": "code",
   "execution_count": 41,
   "id": "77b1bf78-de3f-4474-ab9e-c4942ada10c1",
   "metadata": {},
   "outputs": [
    {
     "name": "stdout",
     "output_type": "stream",
     "text": [
      "Epoch 1/8\n",
      "716/716 [==============================] - 7s 8ms/step - loss: 0.3151 - auc_3: 0.8574 - binary_accuracy: 0.8891 - val_loss: 0.2744 - val_auc_3: 0.8996 - val_binary_accuracy: 0.8972\n",
      "Epoch 2/8\n",
      "716/716 [==============================] - 5s 7ms/step - loss: 0.2789 - auc_3: 0.8962 - binary_accuracy: 0.8969 - val_loss: 0.2719 - val_auc_3: 0.9030 - val_binary_accuracy: 0.8971\n",
      "Epoch 3/8\n",
      "716/716 [==============================] - 5s 7ms/step - loss: 0.2760 - auc_3: 0.8989 - binary_accuracy: 0.8976 - val_loss: 0.2700 - val_auc_3: 0.9042 - val_binary_accuracy: 0.8976\n",
      "Epoch 4/8\n",
      "716/716 [==============================] - 5s 7ms/step - loss: 0.2748 - auc_3: 0.9000 - binary_accuracy: 0.8975 - val_loss: 0.2709 - val_auc_3: 0.9045 - val_binary_accuracy: 0.8970\n",
      "Epoch 5/8\n",
      "716/716 [==============================] - 5s 7ms/step - loss: 0.2737 - auc_3: 0.9010 - binary_accuracy: 0.8976 - val_loss: 0.2698 - val_auc_3: 0.9033 - val_binary_accuracy: 0.8968\n",
      "Epoch 6/8\n",
      "716/716 [==============================] - 5s 6ms/step - loss: 0.2726 - auc_3: 0.9023 - binary_accuracy: 0.8975 - val_loss: 0.2695 - val_auc_3: 0.9045 - val_binary_accuracy: 0.8970\n",
      "Epoch 7/8\n",
      "716/716 [==============================] - 5s 6ms/step - loss: 0.2717 - auc_3: 0.9027 - binary_accuracy: 0.8982 - val_loss: 0.2692 - val_auc_3: 0.9045 - val_binary_accuracy: 0.8965\n",
      "Epoch 8/8\n",
      "716/716 [==============================] - 5s 6ms/step - loss: 0.2713 - auc_3: 0.9034 - binary_accuracy: 0.8981 - val_loss: 0.2706 - val_auc_3: 0.9050 - val_binary_accuracy: 0.8967\n"
     ]
    },
    {
     "data": {
      "text/plain": [
       "<keras.callbacks.History at 0x7f33c8468710>"
      ]
     },
     "execution_count": 41,
     "metadata": {},
     "output_type": "execute_result"
    }
   ],
   "source": [
    "model.fit(\n",
    "    train_X,\n",
    "    train_y,\n",
    "    epochs=epochs,\n",
    "    callbacks=[EarlyStopping(monitor='val_loss', patience=2, restore_best_weights=True)],  # checkpoint\n",
    "    batch_size=batch_size,\n",
    "    validation_split=0.1\n",
    ")"
   ]
  },
  {
   "cell_type": "code",
   "execution_count": 42,
   "id": "f82f76d3-a5cb-4808-a87c-7da86bdd69ad",
   "metadata": {},
   "outputs": [
    {
     "name": "stdout",
     "output_type": "stream",
     "text": [
      "199/199 [==============================] - 1s 4ms/step - loss: 0.2816 - auc_3: 0.8997 - binary_accuracy: 0.8944\n",
      "test loss: 0.281551\n",
      "test AUC: 0.899704\n",
      "test accuracy: 0.894447\n"
     ]
    }
   ],
   "source": [
    "loss = model.evaluate(test_X, test_y, batch_size=batch_size)\n",
    "print('test loss: %f' % loss[0])\n",
    "print('test AUC: %f' % loss[1])\n",
    "print('test accuracy: %f' % loss[2])"
   ]
  },
  {
   "cell_type": "code",
   "execution_count": null,
   "id": "2ee7ef6b-d73d-476f-af5f-15a889c4227b",
   "metadata": {},
   "outputs": [],
   "source": []
  },
  {
   "cell_type": "code",
   "execution_count": 6,
   "id": "dee8a3bc-42fb-44c7-9a59-7204c35e0d5e",
   "metadata": {},
   "outputs": [],
   "source": [
    "# # example\n",
    "# # 两个 dense feature\n",
    "# dense_f1 = denseFeature('dense_feature_1')\n",
    "# dense_f2 = denseFeature('dense_feature_2')\n",
    "# # 两个 sparse feature\n",
    "# sparse_f1 = sparseFeature('sparse_feature_1', feat_num=2, embed_dim=8) \n",
    "# sparse_f2 = sparseFeature('sparse_feature_2', feat_num=5, embed_dim=8)\n",
    "# # \n",
    "# dense_feature_list = [dense_f1, dense_f2] # 所有连续特征\n",
    "# sparse_feature_list = [sparse_f1, sparse_f2] # 所有离散特征\n",
    "# # 分别指定wide  deep侧特征\n",
    "# wide_feature_list = [dense_f1, dense_f2] # 指定wide侧的特征，不指定则默认所有\n",
    "# deep_feature_list = [dense_f2, sparse_f1] # 指定deep侧的特征，不指定则默认所有\n",
    "\n",
    "\n",
    "# model = WideDeep(dense_feature_list, sparse_feature_list, wide_feature_list, deep_feature_list) \n",
    "# model.summary()\n",
    "\n",
    "# batch = 128\n",
    "# d_f1 = tf.constant(np.random.rand(batch, 1))\n",
    "# d_f2 = tf.constant(np.random.rand(batch, 1))\n",
    "# s_f1 = tf.constant(np.random.randint(2, size=(batch, 1)), dtype=tf.float32)\n",
    "# s_f2 = tf.constant(np.random.randint(5, size=(batch, 1)), dtype=tf.float32)\n",
    "# inputs = [d_f1, d_f2, s_f1, s_f2]\n",
    "# outputs = model(inputs)\n",
    "# print(outputs.shape)"
   ]
  },
  {
   "cell_type": "code",
   "execution_count": null,
   "id": "b50110ae-eed7-4f86-b55c-37146156d644",
   "metadata": {},
   "outputs": [],
   "source": []
  },
  {
   "cell_type": "code",
   "execution_count": null,
   "id": "6316c8bb-96c3-40e3-814f-a7b82aee9219",
   "metadata": {},
   "outputs": [],
   "source": []
  }
 ],
 "metadata": {
  "kernelspec": {
   "display_name": "Python 3",
   "language": "python",
   "name": "python3"
  },
  "language_info": {
   "codemirror_mode": {
    "name": "ipython",
    "version": 3
   },
   "file_extension": ".py",
   "mimetype": "text/x-python",
   "name": "python",
   "nbconvert_exporter": "python",
   "pygments_lexer": "ipython3",
   "version": "3.6.5"
  }
 },
 "nbformat": 4,
 "nbformat_minor": 5
}
