{
 "cells": [
  {
   "cell_type": "code",
   "execution_count": null,
   "id": "6f00e5a1-409c-4dc9-b0e8-88ea597292e1",
   "metadata": {},
   "outputs": [],
   "source": [
    "# from pyspark.sql import SparkSession\n",
    "# import os\n",
    "# os.environ[\"PYSPARK_PYTHON\"] = \"/usr/bin/python3.6\"\n",
    "# spark = SparkSession.builder.appName(\"tkt_kwd_model\").enableHiveSupport().getOrCreate()"
   ]
  },
  {
   "cell_type": "code",
   "execution_count": null,
   "id": "54a29cde-a9f8-4a7f-8674-32cd72795c18",
   "metadata": {},
   "outputs": [],
   "source": [
    "import sys\n",
    "sys.path.append(\"..\")\n",
    "sys.path.append(\".\")\n",
    "import numpy as np \n",
    "import tensorflow as tf\n",
    "from tensorflow.keras.layers import Input, Embedding, Dense, Dropout"
   ]
  },
  {
   "cell_type": "code",
   "execution_count": 2,
   "id": "263090bf-60f8-4bbe-be97-a90a63585876",
   "metadata": {
    "tags": []
   },
   "outputs": [],
   "source": [
    "from WDL.model import WideDeep\n",
    "from WDL.modules import sparseFeature, denseFeature"
   ]
  },
  {
   "cell_type": "code",
   "execution_count": null,
   "id": "dee8a3bc-42fb-44c7-9a59-7204c35e0d5e",
   "metadata": {},
   "outputs": [],
   "source": [
    "# example\n",
    "# 两个 dense feature\n",
    "dense_f1 = denseFeature('dense_feature_1')\n",
    "dense_f2 = denseFeature('dense_feature_2')\n",
    "# 两个 sparse feature\n",
    "sparse_f1 = sparseFeature('sparse_feature_1', feat_num=2, embed_dim=8) \n",
    "sparse_f2 = sparseFeature('sparse_feature_2', feat_num=5, embed_dim=8)\n",
    "# \n",
    "dense_feature_list = [dense_f1, dense_f2] # 所有连续特征\n",
    "sparse_feature_list = [sparse_f1, sparse_f2] # 所有离散特征\n",
    "# 分别指定wide  deep侧特征\n",
    "wide_feature_list = [dense_f1, dense_f2] # 指定wide侧的特征，不指定则默认所有\n",
    "deep_feature_list = [dense_f2, sparse_f1] # 指定deep侧的特征，不指定则默认所有\n",
    "\n",
    "\n",
    "model = WideDeep(dense_feature_list, sparse_feature_list, wide_feature_list, deep_feature_list) "
   ]
  },
  {
   "cell_type": "code",
   "execution_count": null,
   "id": "8f3ee49c-e2b7-481c-8256-e68d55be5365",
   "metadata": {},
   "outputs": [],
   "source": [
    "model.summary()"
   ]
  },
  {
   "cell_type": "code",
   "execution_count": 22,
   "id": "95beed70-d96b-46e0-a359-4755aa218a78",
   "metadata": {},
   "outputs": [],
   "source": [
    "# # 模型输入，每个特征一个input组成list\n",
    "# inputs = [Input(shape=(1,), dtype=tf.float32) for _ in range(len(dense_feature_list) + len(sparse_feature_list))]\n",
    "# outputs = model(inputs)"
   ]
  },
  {
   "cell_type": "code",
   "execution_count": 12,
   "id": "ff20dfba-9cf5-445e-9f60-5eed92a15412",
   "metadata": {},
   "outputs": [
    {
     "name": "stdout",
     "output_type": "stream",
     "text": [
      "(128, 1)\n"
     ]
    }
   ],
   "source": [
    "batch = 128\n",
    "d_f1 = tf.constant(np.random.rand(batch, 1))\n",
    "d_f2 = tf.constant(np.random.rand(batch, 1))\n",
    "s_f1 = tf.constant(np.random.randint(2, size=(batch, 1)), dtype=tf.float32)\n",
    "s_f2 = tf.constant(np.random.randint(5, size=(batch, 1)), dtype=tf.float32)\n",
    "inputs = [d_f1, d_f2, s_f1, s_f2]\n",
    "outputs = model(inputs)\n",
    "print(outputs.shape)"
   ]
  },
  {
   "cell_type": "code",
   "execution_count": null,
   "id": "6316c8bb-96c3-40e3-814f-a7b82aee9219",
   "metadata": {},
   "outputs": [],
   "source": []
  }
 ],
 "metadata": {
  "kernelspec": {
   "display_name": "Python 3",
   "language": "python",
   "name": "python3"
  },
  "language_info": {
   "codemirror_mode": {
    "name": "ipython",
    "version": 3
   },
   "file_extension": ".py",
   "mimetype": "text/x-python",
   "name": "python",
   "nbconvert_exporter": "python",
   "pygments_lexer": "ipython3",
   "version": "3.6.5"
  }
 },
 "nbformat": 4,
 "nbformat_minor": 5
}
