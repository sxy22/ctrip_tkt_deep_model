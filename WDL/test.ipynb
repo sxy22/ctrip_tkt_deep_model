{
 "cells": [
  {
   "cell_type": "code",
   "execution_count": 1,
   "id": "6f00e5a1-409c-4dc9-b0e8-88ea597292e1",
   "metadata": {},
   "outputs": [
    {
     "name": "stderr",
     "output_type": "stream",
     "text": [
      "/opt/app/spark-3.2.0/python/pyspark/context.py:238: FutureWarning: Python 3.6 support is deprecated in Spark 3.2.\n",
      "  FutureWarning\n"
     ]
    }
   ],
   "source": [
    "from pyspark.sql import SparkSession\n",
    "import os\n",
    "os.environ[\"PYSPARK_PYTHON\"] = \"/usr/bin/python3.6\"\n",
    "spark = SparkSession.builder.appName(\"tkt_kwd_model\").enableHiveSupport().getOrCreate()\n",
    "# train_sql_query = \"\"\n",
    "# spark_df = spark.sql(sql_query)\n",
    "# data = spark_df.toPandas()"
   ]
  },
  {
   "cell_type": "code",
   "execution_count": null,
   "id": "42f95017-7106-4b51-9bfb-9fa10dc0cc71",
   "metadata": {},
   "outputs": [],
   "source": [
    "%load_ext autoreload\n",
    "%autoreload 2"
   ]
  },
  {
   "cell_type": "code",
   "execution_count": 2,
   "id": "42b3757c-3297-4d6a-a7af-59a68689db14",
   "metadata": {},
   "outputs": [],
   "source": [
    "def get_model_input(data, all_feature_list, target='isorder', over_sample_rate=-1, task='train'):\n",
    "    df = data[[feat['feat_name'] for feat in all_feature_list]]\n",
    "    target = data[target]\n",
    "    X = df.values.astype('float32')\n",
    "    y = target.values.astype('int32')\n",
    "    if over_sample_rate > 0:\n",
    "        pos = X[y == 1]\n",
    "        neg = X[y == 0]\n",
    "        X = np.concatenate([pos for _ in range(over_sample_rate)] + [neg], axis=0)\n",
    "        y = np.array([1] * (len(pos) * over_sample_rate) + [0] * len(neg))\n",
    "    if task == 'train': # shuffle the dataset when training\n",
    "        idx = [i for i in range(len(y))]\n",
    "        random.shuffle(idx)\n",
    "        X = X[idx]\n",
    "        y = y[idx]\n",
    "    return [X[:, i] for i in range(X.shape[1])], y"
   ]
  },
  {
   "cell_type": "code",
   "execution_count": 3,
   "id": "4650babf-a331-44d1-a5ad-f325a25b79fb",
   "metadata": {
    "tags": []
   },
   "outputs": [],
   "source": [
    "import sys\n",
    "import os \n",
    "sys.path.append(\"..\")\n",
    "sys.path.append(\".\")\n",
    "import random\n",
    "import numpy as np \n",
    "import pandas as pd \n",
    "import tensorflow as tf\n",
    "from tensorflow.keras.layers import Input, Embedding, Dense, Dropout\n",
    "from sklearn.model_selection import train_test_split\n",
    "\n",
    "from tensorflow.keras.callbacks import EarlyStopping\n",
    "from tensorflow.keras.losses import binary_crossentropy\n",
    "from tensorflow.keras.optimizers import Adam\n",
    "from tensorflow.keras.metrics import AUC, Accuracy, BinaryAccuracy\n",
    "# from tensorflow.python.client import device_lib\n",
    "# device_lib.list_local_devices()\n",
    "from WDL.model import WideDeep\n",
    "from WDL.modules import sparseFeature, denseFeature"
   ]
  },
  {
   "cell_type": "code",
   "execution_count": 4,
   "id": "bbc5e97e-c607-4b8b-982f-7bc6a7f8eb8f",
   "metadata": {},
   "outputs": [],
   "source": [
    "from utils.get_metrics import get_topn, get_gauc# , get_topn_v2, get_gauc_v2"
   ]
  },
  {
   "cell_type": "code",
   "execution_count": 5,
   "id": "8f922316-e682-42d5-8f0e-2cb9d6eb21d0",
   "metadata": {},
   "outputs": [
    {
     "name": "stdout",
     "output_type": "stream",
     "text": [
      "Num GPUs Available:  1\n"
     ]
    }
   ],
   "source": [
    "os.environ['CUDA_VISIBLE_DEVICES'] = '0'\n",
    "print(\"Num GPUs Available: \", len(tf.config.list_physical_devices('GPU')))"
   ]
  },
  {
   "cell_type": "code",
   "execution_count": 6,
   "id": "4ef83941-6992-485c-9a33-03162d5723bc",
   "metadata": {},
   "outputs": [],
   "source": [
    "# sample = -1\n",
    "# train_file = '../dataset/tkt_kwd_train_721_727.csv'\n",
    "# data = pd.read_csv(train_file)\n",
    "# print('train samples:', len(data))\n",
    "# if sample == -1:\n",
    "#     data = pd.read_csv(file)\n",
    "# else:\n",
    "#     data = pd.read_csv(file, iterator=True)\n",
    "#     data = data.get_chunk(sample)"
   ]
  },
  {
   "cell_type": "markdown",
   "id": "85f2acc5-2f94-42f9-8b2e-885047741382",
   "metadata": {},
   "source": [
    "## 特征"
   ]
  },
  {
   "cell_type": "code",
   "execution_count": 6,
   "id": "c472359f-23d7-40a1-b218-c67a92e0f065",
   "metadata": {},
   "outputs": [],
   "source": [
    "# wide_dense_features = [x.strip() for x in 'around_tour, isholiday, hot_p1m, ctr_p1m, order_p1m, gmv_p1m, unitgmv_p1m, comment_p, comment_pl2m, hot_pla1m, ctr_pla1m, order_pla1m, gmv_pla1m, unitgmv_pla1m, queryctr_pldk1m, new_p1m, season_p, basic_p, kwdcoeff_p, text_score, local_poi_distance, local_district_distance, poi_district_distance, businessstatus, dat, date_type, holiday_type, day_of_week, week_of_year, month, isheat, imquality_score, ishighqualitypoi, iscoverimage, hasticket, inchina, isfree'.split(',')]\n",
    "# deep_dense_features = [x.strip() for x in 'order_cnt_3m_p, order_cnt_1m_p, order_cnt_15d_p, order_cnt_7d_p, order_cnt_3d_p, gmv_3m_p, gmv_1m_p, gmv_15d_p, gmv_7d_p, gmv_3d_p, expos_uv_3m_p, expos_uv_1m_p, expos_uv_15d_p, expos_uv_7d_p, expos_uv_3d_p, click_uv_3m_p, click_uv_1m_p, click_uv_15d_p, click_uv_7d_p, click_uv_3d_p, ctr_3m_p, ctr_1m_p, ctr_15d_p, ctr_7d_p, ctr_3d_p, unit_decay_gmv_3m_p, unit_decay_gmv_1m_p, unit_decay_gmv_15d_p, unit_decay_gmv_7d_p, unit_decay_gmv_3d_p, ctcvr_3m_p, ctcvr_1m_p, ctcvr_15d_p, ctcvr_7d_p, ctcvr_3d_p, cvr_3m_p, cvr_1m_p, cvr_15d_p, cvr_7d_p, cvr_3d_p, detail_uv_3m_p, detail_uv_1m_p, detail_uv_15d_p, detail_uv_7d_p, detail_uv_3d_p, order_cnt_3m_pl, order_cnt_1m_pl, order_cnt_15d_pl, order_cnt_7d_pl, order_cnt_3d_pl, gmv_3m_pl, gmv_1m_pl, gmv_15d_pl, gmv_7d_pl, gmv_3d_pl, expos_uv_3m_pl, expos_uv_1m_pl, expos_uv_15d_pl, expos_uv_7d_pl, expos_uv_3d_pl, click_uv_3m_pl, click_uv_1m_pl, click_uv_15d_pl, click_uv_7d_pl, click_uv_3d_pl, ctr_3m_pl, ctr_1m_pl, ctr_15d_pl, ctr_7d_pl, ctr_3d_pl, unit_decay_gmv_3m_pl, unit_decay_gmv_1m_pl, unit_decay_gmv_15d_pl, unit_decay_gmv_7d_pl, unit_decay_gmv_3d_pl, ctcvr_3m_pl, ctcvr_1m_pl, ctcvr_15d_pl, ctcvr_7d_pl, ctcvr_3d_pl, cvr_3m_pl, cvr_1m_pl, cvr_15d_pl, cvr_7d_pl, cvr_3d_pl, detail_uv_3m_pl, detail_uv_1m_pl, detail_uv_15d_pl, detail_uv_7d_pl, detail_uv_3d_pl, order_cnt_3m_pdk, order_cnt_1m_pdk, order_cnt_15d_pdk, order_cnt_7d_pdk, order_cnt_3d_pdk, gmv_3m_pdk, gmv_1m_pdk, gmv_15d_pdk, gmv_7d_pdk, gmv_3d_pdk, expos_uv_3m_pdk, expos_uv_1m_pdk, expos_uv_15d_pdk, expos_uv_7d_pdk, expos_uv_3d_pdk, click_uv_3m_pdk, click_uv_1m_pdk, click_uv_15d_pdk, click_uv_7d_pdk, click_uv_3d_pdk, ctr_3m_pdk, ctr_1m_pdk, ctr_15d_pdk, ctr_7d_pdk, ctr_3d_pdk, unit_decay_gmv_3m_pdk, unit_decay_gmv_1m_pdk, unit_decay_gmv_15d_pdk, unit_decay_gmv_7d_pdk, unit_decay_gmv_3d_pdk, ctcvr_3m_pdk, ctcvr_1m_pdk, ctcvr_15d_pdk, ctcvr_7d_pdk, ctcvr_3d_pdk, cvr_3m_pdk, cvr_1m_pdk, cvr_15d_pdk, cvr_7d_pdk, cvr_3d_pdk, order_cnt_3m_u, order_cnt_1m_u, order_cnt_15d_u, order_cnt_7d_u, order_cnt_3d_u, gmv_3m_u, gmv_1m_u, gmv_15d_u, gmv_7d_u, gmv_3d_u, expos_uv_3m_u, expos_uv_1m_u, expos_uv_15d_u, expos_uv_7d_u, expos_uv_3d_u, click_uv_3m_u, click_uv_1m_u, click_uv_15d_u, click_uv_7d_u, click_uv_3d_u, ctr_3m_u, ctr_1m_u, ctr_15d_u, ctr_7d_u, ctr_3d_u, unit_decay_gmv_3m_u, unit_decay_gmv_1m_u, unit_decay_gmv_15d_u, unit_decay_gmv_7d_u, unit_decay_gmv_3d_u, ctcvr_3m_u, ctcvr_1m_u, ctcvr_15d_u, ctcvr_7d_u, ctcvr_3d_u, cvr_3m_u, cvr_1m_u, cvr_15d_u, cvr_7d_u, cvr_3d_u, order_cnt_3m_uk, order_cnt_1m_uk, order_cnt_15d_uk, order_cnt_7d_uk, order_cnt_3d_uk, gmv_3m_uk, gmv_1m_uk, gmv_15d_uk, gmv_7d_uk, gmv_3d_uk, expos_uv_3m_uk, expos_uv_1m_uk, expos_uv_15d_uk, expos_uv_7d_uk, expos_uv_3d_uk, click_uv_3m_uk, click_uv_1m_uk, click_uv_15d_uk, click_uv_7d_uk, click_uv_3d_uk, ctr_3m_uk, ctr_1m_uk, ctr_15d_uk, ctr_7d_uk, ctr_3d_uk, unit_decay_gmv_3m_uk, unit_decay_gmv_1m_uk, unit_decay_gmv_15d_uk, unit_decay_gmv_7d_uk, unit_decay_gmv_3d_uk, ctcvr_3m_uk, ctcvr_1m_uk, ctcvr_15d_uk, ctcvr_7d_uk, ctcvr_3d_uk, cvr_3m_uk, cvr_1m_uk, cvr_15d_uk, cvr_7d_uk, cvr_3d_uk, order_cnt_3m_puk, order_cnt_1m_puk, order_cnt_15d_puk, order_cnt_7d_puk, order_cnt_3d_puk, gmv_3m_puk, gmv_1m_puk, gmv_15d_puk, gmv_7d_puk, gmv_3d_puk, expos_uv_3m_puk, expos_uv_1m_puk, expos_uv_15d_puk, expos_uv_7d_puk, expos_uv_3d_puk, click_uv_3m_puk, click_uv_1m_puk, click_uv_15d_puk, click_uv_7d_puk, click_uv_3d_puk, ctr_3m_puk, ctr_1m_puk, ctr_15d_puk, ctr_7d_puk, ctr_3d_puk, unit_decay_gmv_3m_puk, unit_decay_gmv_1m_puk, unit_decay_gmv_15d_puk, unit_decay_gmv_7d_puk, unit_decay_gmv_3d_puk, ctcvr_3m_puk, ctcvr_1m_puk, ctcvr_15d_puk, ctcvr_7d_puk, ctcvr_3d_puk, cvr_3m_puk, cvr_1m_puk, cvr_15d_puk, cvr_7d_puk, cvr_3d_puk, order_cnt_3m_k, order_cnt_1m_k, order_cnt_15d_k, order_cnt_7d_k, order_cnt_3d_k, gmv_3m_k, gmv_1m_k, gmv_15d_k, gmv_7d_k, gmv_3d_k, expos_uv_3m_k, expos_uv_1m_k, expos_uv_15d_k, expos_uv_7d_k, expos_uv_3d_k, click_uv_3m_k, click_uv_1m_k, click_uv_15d_k, click_uv_7d_k, click_uv_3d_k, ctr_3m_k, ctr_1m_k, ctr_15d_k, ctr_7d_k, ctr_3d_k, unit_decay_gmv_3m_k, unit_decay_gmv_1m_k, unit_decay_gmv_15d_k, unit_decay_gmv_7d_k, unit_decay_gmv_3d_k, ctcvr_3m_k, ctcvr_1m_k, ctcvr_15d_k, ctcvr_7d_k, ctcvr_3d_k, cvr_3m_k, cvr_1m_k, cvr_15d_k, cvr_7d_k, cvr_3d_k, order_cnt_3m_pu, order_cnt_1m_pu, order_cnt_15d_pu, order_cnt_7d_pu, order_cnt_3d_pu, gmv_3m_pu, gmv_1m_pu, gmv_15d_pu, gmv_7d_pu, gmv_3d_pu, expos_uv_3m_pu, expos_uv_1m_pu, expos_uv_15d_pu, expos_uv_7d_pu, expos_uv_3d_pu, click_uv_3m_pu, click_uv_1m_pu, click_uv_15d_pu, click_uv_7d_pu, click_uv_3d_pu, ctr_3m_pu, ctr_1m_pu, ctr_15d_pu, ctr_7d_pu, ctr_3d_pu, unit_decay_gmv_3m_pu, unit_decay_gmv_1m_pu, unit_decay_gmv_15d_pu, unit_decay_gmv_7d_pu, unit_decay_gmv_3d_pu, ctcvr_3m_pu, ctcvr_1m_pu, ctcvr_15d_pu, ctcvr_7d_pu, ctcvr_3d_pu, cvr_3m_pu, cvr_1m_pu, cvr_15d_pu, cvr_7d_pu, cvr_3d_pu'.split(',')]\n",
    "# deep_sparse_features = [x.strip() for x in 'districtid_enc_index, user_residgscityid_enc_index, localdistrictid_enc_index, userlocaltype_enc_index, district_userlocaltype_enc_index, age_enc_index, gender_enc_index, star_enc_index, member_level_enc_index, crown_enc_index, user_value_enc_index, themeid_enc_index'.split(',')]"
   ]
  },
  {
   "cell_type": "code",
   "execution_count": 46,
   "id": "45c7ecba-0eb0-4f5a-ba1d-4ba6d0ca75f4",
   "metadata": {},
   "outputs": [],
   "source": [
    "# holiday, 长时间周期暂时不加\n",
    "# 只用15d统计特征\n",
    "\n",
    "# wide_dense\n",
    "wide_dense_str = 'around_tour,isholiday,hot_p1m,ctr_p1m,order_p1m,gmv_p1m,unitgmv_p1m,comment_p,comment_pl2m,hot_pla1m,\\\n",
    "ctr_pla1m,order_pla1m,gmv_pla1m,unitgmv_pla1m,queryctr_pldk1m,new_p1m,season_p,basic_p,kwdcoeff_p,text_score,\\\n",
    "businessstatus,isheat,imquality_score,ishighqualitypoi,isfree'\n",
    "\n",
    "# wide_sparse\n",
    "wide_sparse_str = 'date_type'\n",
    "\n",
    "# deep_dense\n",
    "deep_dense_str = 'around_tour,isholiday,hot_p1m,ctr_p1m,order_p1m,gmv_p1m,unitgmv_p1m,comment_p,comment_pl2m,hot_pla1m,\\\n",
    "ctr_pla1m,order_pla1m,gmv_pla1m,unitgmv_pla1m,queryctr_pldk1m,new_p1m,season_p,basic_p,kwdcoeff_p,text_score,\\\n",
    "businessstatus,isheat,imquality_score,ishighqualitypoi,isfree,\\\n",
    "order_cnt_15d_p,gmv_15d_p,expos_uv_15d_p,click_uv_15d_p,ctr_15d_p,unit_decay_gmv_15d_p,ctcvr_15d_p,cvr_15d_p,\\\n",
    "detail_uv_15d_p,order_cnt_15d_pl,gmv_15d_pl,expos_uv_15d_pl,click_uv_15d_pl,ctr_15d_pl,unit_decay_gmv_15d_pl,\\\n",
    "ctcvr_15d_pl,cvr_15d_pl,detail_uv_15d_pl,order_cnt_15d_pdk,gmv_15d_pdk,expos_uv_15d_pdk,click_uv_15d_pdk,ctr_15d_pdk,\\\n",
    "unit_decay_gmv_15d_pdk,ctcvr_15d_pdk,cvr_15d_pdk,order_cnt_15d_u,gmv_15d_u,expos_uv_15d_u,click_uv_15d_u,ctr_15d_u,\\\n",
    "unit_decay_gmv_15d_u,ctcvr_15d_u,cvr_15d_u,order_cnt_15d_uk,gmv_15d_uk,expos_uv_15d_uk,click_uv_15d_uk,ctr_15d_uk,\\\n",
    "unit_decay_gmv_15d_uk,ctcvr_15d_uk,cvr_15d_uk,order_cnt_15d_puk,gmv_15d_puk,expos_uv_15d_puk,click_uv_15d_puk,ctr_15d_puk,\\\n",
    "unit_decay_gmv_15d_puk,ctcvr_15d_puk,cvr_15d_puk,order_cnt_15d_k,gmv_15d_k,expos_uv_15d_k,click_uv_15d_k,ctr_15d_k,\\\n",
    "unit_decay_gmv_15d_k,ctcvr_15d_k,cvr_15d_k,order_cnt_15d_pu,gmv_15d_pu,expos_uv_15d_pu,click_uv_15d_pu,ctr_15d_pu,\\\n",
    "unit_decay_gmv_15d_pu,ctcvr_15d_pu,cvr_15d_pu'\n",
    "\n",
    "# deep_sparse\n",
    "deep_sparse_str = 'date_type,\\\n",
    "userlocaltype_enc_index,district_userlocaltype_enc_index,age_enc_index,gender_enc_index,\\\n",
    "star_enc_index,member_level_enc_index,crown_enc_index,user_value_enc_index, \\\n",
    "viewspotid_enc_index'\n"
   ]
  },
  {
   "cell_type": "code",
   "execution_count": 47,
   "id": "8e4d0829-8d58-410d-afde-d749a899380f",
   "metadata": {},
   "outputs": [
    {
     "name": "stderr",
     "output_type": "stream",
     "text": [
      "/opt/app/conda/lib/python3.6/site-packages/IPython/core/interactiveshell.py:3072: DtypeWarning: Columns (50) have mixed types.Specify dtype option on import or set low_memory=False.\n",
      "  interactivity=interactivity, compiler=compiler, result=result)\n"
     ]
    },
    {
     "name": "stdout",
     "output_type": "stream",
     "text": [
      "train samples: 97995\n"
     ]
    }
   ],
   "source": [
    "# 只取前100,000的景点id\n",
    "viewspotid_enc_index_max = 100000\n",
    "sample = -1\n",
    "train_file = '../dataset/tkt_kwd_train_721_727.csv'\n",
    "data = pd.read_csv(train_file)\n",
    "data['viewspotid_enc_index'] = np.where(data['viewspotid_enc_index'] <= viewspotid_enc_index_max, data['viewspotid_enc_index'], 0)\n",
    "print('train samples:', len(data))"
   ]
  },
  {
   "cell_type": "code",
   "execution_count": 48,
   "id": "fd9c4335-1aed-4009-a01e-2d4f4f183f14",
   "metadata": {},
   "outputs": [
    {
     "name": "stdout",
     "output_type": "stream",
     "text": [
      "连续特征个数:  91\n",
      "离散特征个数:  10\n",
      "wide部分特征个数:  26\n",
      "deep部分特征个数:  101\n"
     ]
    }
   ],
   "source": [
    "# features\n",
    "wide_dense_features = [x.strip() for x in wide_dense_str.split(',')]\n",
    "wide_sparse_features = [x.strip() for x in wide_sparse_str.split(',')]\n",
    "deep_dense_features = [x.strip() for x in deep_dense_str.split(',')]\n",
    "deep_sparse_features = [x.strip() for x in deep_sparse_str.split(',')]\n",
    "# 所有dense和sparse\n",
    "dense_features = list(set(wide_dense_features + deep_dense_features))\n",
    "sparse_features = list(set(wide_sparse_features + deep_sparse_features))\n",
    "sparse_features_num = dict(data[sparse_features].max())\n",
    "print('连续特征个数: ', len(dense_features))\n",
    "print('离散特征个数: ', len(sparse_features))\n",
    "print('wide部分特征个数: ', len(wide_dense_features) + len(wide_sparse_features))\n",
    "print('deep部分特征个数: ', len(deep_dense_features) + len(deep_sparse_features))"
   ]
  },
  {
   "cell_type": "code",
   "execution_count": 49,
   "id": "f13e101f-eab7-4356-a90f-081e9d4cebf9",
   "metadata": {},
   "outputs": [
    {
     "name": "stdout",
     "output_type": "stream",
     "text": [
      "wide部分特征个数:  26\n",
      "deep部分特征个数:  101\n"
     ]
    }
   ],
   "source": [
    "embed_dim = 16\n",
    "\n",
    "dense_feature_list = [denseFeature(feat) for feat in dense_features] # 所有连续特征\n",
    "sparse_feature_list = [sparseFeature(feat, feat_num=sparse_features_num[feat], embed_dim=embed_dim) for feat in sparse_features] # 所有离散特征\n",
    "all_feature_list = dense_feature_list + sparse_feature_list # 所有特征list\n",
    "# 分别指定wide  deep侧特征\n",
    "wide_feature_list = [denseFeature(feat) for feat in wide_dense_features] + \\\n",
    "                    [sparseFeature(feat, feat_num=sparse_features_num[feat], embed_dim=embed_dim) for feat in wide_sparse_features]# 指定wide侧的特征，不指定则默认所有\n",
    "deep_feature_list = [denseFeature(feat) for feat in deep_dense_features] + \\\n",
    "                    [sparseFeature(feat, feat_num=sparse_features_num[feat], embed_dim=embed_dim) for feat in deep_sparse_features]# 指定deep侧的特征，不指定则默认所有\n",
    "print('wide部分特征个数: ', len(wide_feature_list))\n",
    "print('deep部分特征个数: ', len(deep_feature_list))"
   ]
  },
  {
   "cell_type": "markdown",
   "id": "d64ca05c-3a7b-454d-91f7-bdd032b854bb",
   "metadata": {},
   "source": [
    "## model"
   ]
  },
  {
   "cell_type": "code",
   "execution_count": 50,
   "id": "aae72980-bc9d-4c2d-bd46-08777822e5c3",
   "metadata": {
    "scrolled": true,
    "tags": []
   },
   "outputs": [
    {
     "name": "stdout",
     "output_type": "stream",
     "text": [
      "wide side featrues:  around_tour,isholiday,hot_p1m,ctr_p1m,order_p1m,gmv_p1m,unitgmv_p1m,comment_p,comment_pl2m,hot_pla1m,ctr_pla1m,order_pla1m,gmv_pla1m,unitgmv_pla1m,queryctr_pldk1m,new_p1m,season_p,basic_p,kwdcoeff_p,text_score,businessstatus,isheat,imquality_score,ishighqualitypoi,isfree,date_type\n",
      "deep side featrues:  around_tour,isholiday,hot_p1m,ctr_p1m,order_p1m,gmv_p1m,unitgmv_p1m,comment_p,comment_pl2m,hot_pla1m,ctr_pla1m,order_pla1m,gmv_pla1m,unitgmv_pla1m,queryctr_pldk1m,new_p1m,season_p,basic_p,kwdcoeff_p,text_score,businessstatus,isheat,imquality_score,ishighqualitypoi,isfree,order_cnt_15d_p,gmv_15d_p,expos_uv_15d_p,click_uv_15d_p,ctr_15d_p,unit_decay_gmv_15d_p,ctcvr_15d_p,cvr_15d_p,detail_uv_15d_p,order_cnt_15d_pl,gmv_15d_pl,expos_uv_15d_pl,click_uv_15d_pl,ctr_15d_pl,unit_decay_gmv_15d_pl,ctcvr_15d_pl,cvr_15d_pl,detail_uv_15d_pl,order_cnt_15d_pdk,gmv_15d_pdk,expos_uv_15d_pdk,click_uv_15d_pdk,ctr_15d_pdk,unit_decay_gmv_15d_pdk,ctcvr_15d_pdk,cvr_15d_pdk,order_cnt_15d_u,gmv_15d_u,expos_uv_15d_u,click_uv_15d_u,ctr_15d_u,unit_decay_gmv_15d_u,ctcvr_15d_u,cvr_15d_u,order_cnt_15d_uk,gmv_15d_uk,expos_uv_15d_uk,click_uv_15d_uk,ctr_15d_uk,unit_decay_gmv_15d_uk,ctcvr_15d_uk,cvr_15d_uk,order_cnt_15d_puk,gmv_15d_puk,expos_uv_15d_puk,click_uv_15d_puk,ctr_15d_puk,unit_decay_gmv_15d_puk,ctcvr_15d_puk,cvr_15d_puk,order_cnt_15d_k,gmv_15d_k,expos_uv_15d_k,click_uv_15d_k,ctr_15d_k,unit_decay_gmv_15d_k,ctcvr_15d_k,cvr_15d_k,order_cnt_15d_pu,gmv_15d_pu,expos_uv_15d_pu,click_uv_15d_pu,ctr_15d_pu,unit_decay_gmv_15d_pu,ctcvr_15d_pu,cvr_15d_pu,date_type,userlocaltype_enc_index,district_userlocaltype_enc_index,age_enc_index,gender_enc_index,star_enc_index,member_level_enc_index,crown_enc_index,user_value_enc_index,viewspotid_enc_index\n",
      "Model: \"model_5\"\n",
      "__________________________________________________________________________________________________\n",
      "Layer (type)                    Output Shape         Param #     Connected to                     \n",
      "==================================================================================================\n",
      "input_503 (InputLayer)          [(None, 1)]          0                                            \n",
      "__________________________________________________________________________________________________\n",
      "input_504 (InputLayer)          [(None, 1)]          0                                            \n",
      "__________________________________________________________________________________________________\n",
      "input_505 (InputLayer)          [(None, 1)]          0                                            \n",
      "__________________________________________________________________________________________________\n",
      "input_506 (InputLayer)          [(None, 1)]          0                                            \n",
      "__________________________________________________________________________________________________\n",
      "input_507 (InputLayer)          [(None, 1)]          0                                            \n",
      "__________________________________________________________________________________________________\n",
      "input_508 (InputLayer)          [(None, 1)]          0                                            \n",
      "__________________________________________________________________________________________________\n",
      "input_509 (InputLayer)          [(None, 1)]          0                                            \n",
      "__________________________________________________________________________________________________\n",
      "input_510 (InputLayer)          [(None, 1)]          0                                            \n",
      "__________________________________________________________________________________________________\n",
      "input_511 (InputLayer)          [(None, 1)]          0                                            \n",
      "__________________________________________________________________________________________________\n",
      "input_512 (InputLayer)          [(None, 1)]          0                                            \n",
      "__________________________________________________________________________________________________\n",
      "input_513 (InputLayer)          [(None, 1)]          0                                            \n",
      "__________________________________________________________________________________________________\n",
      "input_514 (InputLayer)          [(None, 1)]          0                                            \n",
      "__________________________________________________________________________________________________\n",
      "input_515 (InputLayer)          [(None, 1)]          0                                            \n",
      "__________________________________________________________________________________________________\n",
      "input_516 (InputLayer)          [(None, 1)]          0                                            \n",
      "__________________________________________________________________________________________________\n",
      "input_517 (InputLayer)          [(None, 1)]          0                                            \n",
      "__________________________________________________________________________________________________\n",
      "input_518 (InputLayer)          [(None, 1)]          0                                            \n",
      "__________________________________________________________________________________________________\n",
      "input_519 (InputLayer)          [(None, 1)]          0                                            \n",
      "__________________________________________________________________________________________________\n",
      "input_520 (InputLayer)          [(None, 1)]          0                                            \n",
      "__________________________________________________________________________________________________\n",
      "input_521 (InputLayer)          [(None, 1)]          0                                            \n",
      "__________________________________________________________________________________________________\n",
      "input_522 (InputLayer)          [(None, 1)]          0                                            \n",
      "__________________________________________________________________________________________________\n",
      "input_523 (InputLayer)          [(None, 1)]          0                                            \n",
      "__________________________________________________________________________________________________\n",
      "input_524 (InputLayer)          [(None, 1)]          0                                            \n",
      "__________________________________________________________________________________________________\n",
      "input_525 (InputLayer)          [(None, 1)]          0                                            \n",
      "__________________________________________________________________________________________________\n",
      "input_526 (InputLayer)          [(None, 1)]          0                                            \n",
      "__________________________________________________________________________________________________\n",
      "input_527 (InputLayer)          [(None, 1)]          0                                            \n",
      "__________________________________________________________________________________________________\n",
      "input_528 (InputLayer)          [(None, 1)]          0                                            \n",
      "__________________________________________________________________________________________________\n",
      "input_529 (InputLayer)          [(None, 1)]          0                                            \n",
      "__________________________________________________________________________________________________\n",
      "input_530 (InputLayer)          [(None, 1)]          0                                            \n",
      "__________________________________________________________________________________________________\n",
      "input_531 (InputLayer)          [(None, 1)]          0                                            \n",
      "__________________________________________________________________________________________________\n",
      "input_532 (InputLayer)          [(None, 1)]          0                                            \n",
      "__________________________________________________________________________________________________\n",
      "input_533 (InputLayer)          [(None, 1)]          0                                            \n",
      "__________________________________________________________________________________________________\n",
      "input_534 (InputLayer)          [(None, 1)]          0                                            \n",
      "__________________________________________________________________________________________________\n",
      "input_535 (InputLayer)          [(None, 1)]          0                                            \n",
      "__________________________________________________________________________________________________\n",
      "input_536 (InputLayer)          [(None, 1)]          0                                            \n",
      "__________________________________________________________________________________________________\n",
      "input_537 (InputLayer)          [(None, 1)]          0                                            \n",
      "__________________________________________________________________________________________________\n",
      "input_538 (InputLayer)          [(None, 1)]          0                                            \n",
      "__________________________________________________________________________________________________\n",
      "input_539 (InputLayer)          [(None, 1)]          0                                            \n",
      "__________________________________________________________________________________________________\n",
      "input_540 (InputLayer)          [(None, 1)]          0                                            \n",
      "__________________________________________________________________________________________________\n",
      "input_541 (InputLayer)          [(None, 1)]          0                                            \n",
      "__________________________________________________________________________________________________\n",
      "input_542 (InputLayer)          [(None, 1)]          0                                            \n",
      "__________________________________________________________________________________________________\n",
      "input_543 (InputLayer)          [(None, 1)]          0                                            \n",
      "__________________________________________________________________________________________________\n",
      "input_544 (InputLayer)          [(None, 1)]          0                                            \n",
      "__________________________________________________________________________________________________\n",
      "input_545 (InputLayer)          [(None, 1)]          0                                            \n",
      "__________________________________________________________________________________________________\n",
      "input_546 (InputLayer)          [(None, 1)]          0                                            \n",
      "__________________________________________________________________________________________________\n",
      "input_547 (InputLayer)          [(None, 1)]          0                                            \n",
      "__________________________________________________________________________________________________\n",
      "input_548 (InputLayer)          [(None, 1)]          0                                            \n",
      "__________________________________________________________________________________________________\n",
      "input_549 (InputLayer)          [(None, 1)]          0                                            \n",
      "__________________________________________________________________________________________________\n",
      "input_550 (InputLayer)          [(None, 1)]          0                                            \n",
      "__________________________________________________________________________________________________\n",
      "input_551 (InputLayer)          [(None, 1)]          0                                            \n",
      "__________________________________________________________________________________________________\n",
      "input_552 (InputLayer)          [(None, 1)]          0                                            \n",
      "__________________________________________________________________________________________________\n",
      "input_553 (InputLayer)          [(None, 1)]          0                                            \n",
      "__________________________________________________________________________________________________\n",
      "input_554 (InputLayer)          [(None, 1)]          0                                            \n",
      "__________________________________________________________________________________________________\n",
      "input_555 (InputLayer)          [(None, 1)]          0                                            \n",
      "__________________________________________________________________________________________________\n",
      "input_556 (InputLayer)          [(None, 1)]          0                                            \n",
      "__________________________________________________________________________________________________\n",
      "input_557 (InputLayer)          [(None, 1)]          0                                            \n",
      "__________________________________________________________________________________________________\n",
      "input_558 (InputLayer)          [(None, 1)]          0                                            \n",
      "__________________________________________________________________________________________________\n",
      "input_559 (InputLayer)          [(None, 1)]          0                                            \n",
      "__________________________________________________________________________________________________\n",
      "input_560 (InputLayer)          [(None, 1)]          0                                            \n",
      "__________________________________________________________________________________________________\n",
      "input_561 (InputLayer)          [(None, 1)]          0                                            \n",
      "__________________________________________________________________________________________________\n",
      "input_562 (InputLayer)          [(None, 1)]          0                                            \n",
      "__________________________________________________________________________________________________\n",
      "input_563 (InputLayer)          [(None, 1)]          0                                            \n",
      "__________________________________________________________________________________________________\n",
      "input_564 (InputLayer)          [(None, 1)]          0                                            \n",
      "__________________________________________________________________________________________________\n",
      "input_565 (InputLayer)          [(None, 1)]          0                                            \n",
      "__________________________________________________________________________________________________\n",
      "input_566 (InputLayer)          [(None, 1)]          0                                            \n",
      "__________________________________________________________________________________________________\n",
      "input_567 (InputLayer)          [(None, 1)]          0                                            \n",
      "__________________________________________________________________________________________________\n",
      "input_568 (InputLayer)          [(None, 1)]          0                                            \n",
      "__________________________________________________________________________________________________\n",
      "input_569 (InputLayer)          [(None, 1)]          0                                            \n",
      "__________________________________________________________________________________________________\n",
      "input_570 (InputLayer)          [(None, 1)]          0                                            \n",
      "__________________________________________________________________________________________________\n",
      "input_571 (InputLayer)          [(None, 1)]          0                                            \n",
      "__________________________________________________________________________________________________\n",
      "input_572 (InputLayer)          [(None, 1)]          0                                            \n",
      "__________________________________________________________________________________________________\n",
      "input_573 (InputLayer)          [(None, 1)]          0                                            \n",
      "__________________________________________________________________________________________________\n",
      "input_574 (InputLayer)          [(None, 1)]          0                                            \n",
      "__________________________________________________________________________________________________\n",
      "input_575 (InputLayer)          [(None, 1)]          0                                            \n",
      "__________________________________________________________________________________________________\n",
      "input_576 (InputLayer)          [(None, 1)]          0                                            \n",
      "__________________________________________________________________________________________________\n",
      "input_577 (InputLayer)          [(None, 1)]          0                                            \n",
      "__________________________________________________________________________________________________\n",
      "input_578 (InputLayer)          [(None, 1)]          0                                            \n",
      "__________________________________________________________________________________________________\n",
      "input_579 (InputLayer)          [(None, 1)]          0                                            \n",
      "__________________________________________________________________________________________________\n",
      "input_580 (InputLayer)          [(None, 1)]          0                                            \n",
      "__________________________________________________________________________________________________\n",
      "input_581 (InputLayer)          [(None, 1)]          0                                            \n",
      "__________________________________________________________________________________________________\n",
      "input_582 (InputLayer)          [(None, 1)]          0                                            \n",
      "__________________________________________________________________________________________________\n",
      "input_583 (InputLayer)          [(None, 1)]          0                                            \n",
      "__________________________________________________________________________________________________\n",
      "input_584 (InputLayer)          [(None, 1)]          0                                            \n",
      "__________________________________________________________________________________________________\n",
      "input_585 (InputLayer)          [(None, 1)]          0                                            \n",
      "__________________________________________________________________________________________________\n",
      "input_586 (InputLayer)          [(None, 1)]          0                                            \n",
      "__________________________________________________________________________________________________\n",
      "input_587 (InputLayer)          [(None, 1)]          0                                            \n",
      "__________________________________________________________________________________________________\n",
      "input_588 (InputLayer)          [(None, 1)]          0                                            \n",
      "__________________________________________________________________________________________________\n",
      "input_589 (InputLayer)          [(None, 1)]          0                                            \n",
      "__________________________________________________________________________________________________\n",
      "input_590 (InputLayer)          [(None, 1)]          0                                            \n",
      "__________________________________________________________________________________________________\n",
      "input_591 (InputLayer)          [(None, 1)]          0                                            \n",
      "__________________________________________________________________________________________________\n",
      "input_592 (InputLayer)          [(None, 1)]          0                                            \n",
      "__________________________________________________________________________________________________\n",
      "input_593 (InputLayer)          [(None, 1)]          0                                            \n",
      "__________________________________________________________________________________________________\n",
      "input_594 (InputLayer)          [(None, 1)]          0                                            \n",
      "__________________________________________________________________________________________________\n",
      "input_595 (InputLayer)          [(None, 1)]          0                                            \n",
      "__________________________________________________________________________________________________\n",
      "input_596 (InputLayer)          [(None, 1)]          0                                            \n",
      "__________________________________________________________________________________________________\n",
      "input_597 (InputLayer)          [(None, 1)]          0                                            \n",
      "__________________________________________________________________________________________________\n",
      "input_598 (InputLayer)          [(None, 1)]          0                                            \n",
      "__________________________________________________________________________________________________\n",
      "input_599 (InputLayer)          [(None, 1)]          0                                            \n",
      "__________________________________________________________________________________________________\n",
      "input_600 (InputLayer)          [(None, 1)]          0                                            \n",
      "__________________________________________________________________________________________________\n",
      "input_601 (InputLayer)          [(None, 1)]          0                                            \n",
      "__________________________________________________________________________________________________\n",
      "input_602 (InputLayer)          [(None, 1)]          0                                            \n",
      "__________________________________________________________________________________________________\n",
      "input_603 (InputLayer)          [(None, 1)]          0                                            \n",
      "__________________________________________________________________________________________________\n",
      "tf.concat_15 (TFOpLambda)       (None, 101)          0           input_503[0][0]                  \n",
      "                                                                 input_504[0][0]                  \n",
      "                                                                 input_505[0][0]                  \n",
      "                                                                 input_506[0][0]                  \n",
      "                                                                 input_507[0][0]                  \n",
      "                                                                 input_508[0][0]                  \n",
      "                                                                 input_509[0][0]                  \n",
      "                                                                 input_510[0][0]                  \n",
      "                                                                 input_511[0][0]                  \n",
      "                                                                 input_512[0][0]                  \n",
      "                                                                 input_513[0][0]                  \n",
      "                                                                 input_514[0][0]                  \n",
      "                                                                 input_515[0][0]                  \n",
      "                                                                 input_516[0][0]                  \n",
      "                                                                 input_517[0][0]                  \n",
      "                                                                 input_518[0][0]                  \n",
      "                                                                 input_519[0][0]                  \n",
      "                                                                 input_520[0][0]                  \n",
      "                                                                 input_521[0][0]                  \n",
      "                                                                 input_522[0][0]                  \n",
      "                                                                 input_523[0][0]                  \n",
      "                                                                 input_524[0][0]                  \n",
      "                                                                 input_525[0][0]                  \n",
      "                                                                 input_526[0][0]                  \n",
      "                                                                 input_527[0][0]                  \n",
      "                                                                 input_528[0][0]                  \n",
      "                                                                 input_529[0][0]                  \n",
      "                                                                 input_530[0][0]                  \n",
      "                                                                 input_531[0][0]                  \n",
      "                                                                 input_532[0][0]                  \n",
      "                                                                 input_533[0][0]                  \n",
      "                                                                 input_534[0][0]                  \n",
      "                                                                 input_535[0][0]                  \n",
      "                                                                 input_536[0][0]                  \n",
      "                                                                 input_537[0][0]                  \n",
      "                                                                 input_538[0][0]                  \n",
      "                                                                 input_539[0][0]                  \n",
      "                                                                 input_540[0][0]                  \n",
      "                                                                 input_541[0][0]                  \n",
      "                                                                 input_542[0][0]                  \n",
      "                                                                 input_543[0][0]                  \n",
      "                                                                 input_544[0][0]                  \n",
      "                                                                 input_545[0][0]                  \n",
      "                                                                 input_546[0][0]                  \n",
      "                                                                 input_547[0][0]                  \n",
      "                                                                 input_548[0][0]                  \n",
      "                                                                 input_549[0][0]                  \n",
      "                                                                 input_550[0][0]                  \n",
      "                                                                 input_551[0][0]                  \n",
      "                                                                 input_552[0][0]                  \n",
      "                                                                 input_553[0][0]                  \n",
      "                                                                 input_554[0][0]                  \n",
      "                                                                 input_555[0][0]                  \n",
      "                                                                 input_556[0][0]                  \n",
      "                                                                 input_557[0][0]                  \n",
      "                                                                 input_558[0][0]                  \n",
      "                                                                 input_559[0][0]                  \n",
      "                                                                 input_560[0][0]                  \n",
      "                                                                 input_561[0][0]                  \n",
      "                                                                 input_562[0][0]                  \n",
      "                                                                 input_563[0][0]                  \n",
      "                                                                 input_564[0][0]                  \n",
      "                                                                 input_565[0][0]                  \n",
      "                                                                 input_566[0][0]                  \n",
      "                                                                 input_567[0][0]                  \n",
      "                                                                 input_568[0][0]                  \n",
      "                                                                 input_569[0][0]                  \n",
      "                                                                 input_570[0][0]                  \n",
      "                                                                 input_571[0][0]                  \n",
      "                                                                 input_572[0][0]                  \n",
      "                                                                 input_573[0][0]                  \n",
      "                                                                 input_574[0][0]                  \n",
      "                                                                 input_575[0][0]                  \n",
      "                                                                 input_576[0][0]                  \n",
      "                                                                 input_577[0][0]                  \n",
      "                                                                 input_578[0][0]                  \n",
      "                                                                 input_579[0][0]                  \n",
      "                                                                 input_580[0][0]                  \n",
      "                                                                 input_581[0][0]                  \n",
      "                                                                 input_582[0][0]                  \n",
      "                                                                 input_583[0][0]                  \n",
      "                                                                 input_584[0][0]                  \n",
      "                                                                 input_585[0][0]                  \n",
      "                                                                 input_586[0][0]                  \n",
      "                                                                 input_587[0][0]                  \n",
      "                                                                 input_588[0][0]                  \n",
      "                                                                 input_589[0][0]                  \n",
      "                                                                 input_590[0][0]                  \n",
      "                                                                 input_591[0][0]                  \n",
      "                                                                 input_592[0][0]                  \n",
      "                                                                 input_593[0][0]                  \n",
      "                                                                 input_594[0][0]                  \n",
      "                                                                 input_595[0][0]                  \n",
      "                                                                 input_596[0][0]                  \n",
      "                                                                 input_597[0][0]                  \n",
      "                                                                 input_598[0][0]                  \n",
      "                                                                 input_599[0][0]                  \n",
      "                                                                 input_600[0][0]                  \n",
      "                                                                 input_601[0][0]                  \n",
      "                                                                 input_602[0][0]                  \n",
      "                                                                 input_603[0][0]                  \n",
      "__________________________________________________________________________________________________\n",
      "tf.compat.v1.gather_23 (TFOpLam (None, 10)           0           tf.concat_15[0][0]               \n",
      "__________________________________________________________________________________________________\n",
      "tf.cast_11 (TFOpLambda)         (None, 10)           0           tf.compat.v1.gather_23[0][0]     \n",
      "__________________________________________________________________________________________________\n",
      "tf.__operators__.getitem_47 (Sl (None,)              0           tf.cast_11[0][0]                 \n",
      "__________________________________________________________________________________________________\n",
      "tf.__operators__.getitem_48 (Sl (None,)              0           tf.cast_11[0][0]                 \n",
      "__________________________________________________________________________________________________\n",
      "tf.__operators__.getitem_49 (Sl (None,)              0           tf.cast_11[0][0]                 \n",
      "__________________________________________________________________________________________________\n",
      "tf.__operators__.getitem_50 (Sl (None,)              0           tf.cast_11[0][0]                 \n",
      "__________________________________________________________________________________________________\n",
      "tf.__operators__.getitem_51 (Sl (None,)              0           tf.cast_11[0][0]                 \n",
      "__________________________________________________________________________________________________\n",
      "tf.__operators__.getitem_52 (Sl (None,)              0           tf.cast_11[0][0]                 \n",
      "__________________________________________________________________________________________________\n",
      "tf.__operators__.getitem_53 (Sl (None,)              0           tf.cast_11[0][0]                 \n",
      "__________________________________________________________________________________________________\n",
      "tf.__operators__.getitem_54 (Sl (None,)              0           tf.cast_11[0][0]                 \n",
      "__________________________________________________________________________________________________\n",
      "tf.__operators__.getitem_55 (Sl (None,)              0           tf.cast_11[0][0]                 \n",
      "__________________________________________________________________________________________________\n",
      "tf.__operators__.getitem_56 (Sl (None,)              0           tf.cast_11[0][0]                 \n",
      "__________________________________________________________________________________________________\n",
      "embedding_47 (Embedding)        (None, 16)           32          tf.__operators__.getitem_47[0][0]\n",
      "__________________________________________________________________________________________________\n",
      "embedding_48 (Embedding)        (None, 16)           48          tf.__operators__.getitem_48[0][0]\n",
      "__________________________________________________________________________________________________\n",
      "embedding_49 (Embedding)        (None, 16)           48          tf.__operators__.getitem_49[0][0]\n",
      "__________________________________________________________________________________________________\n",
      "embedding_50 (Embedding)        (None, 16)           1360        tf.__operators__.getitem_50[0][0]\n",
      "__________________________________________________________________________________________________\n",
      "embedding_51 (Embedding)        (None, 16)           48          tf.__operators__.getitem_51[0][0]\n",
      "__________________________________________________________________________________________________\n",
      "embedding_52 (Embedding)        (None, 16)           128         tf.__operators__.getitem_52[0][0]\n",
      "__________________________________________________________________________________________________\n",
      "embedding_53 (Embedding)        (None, 16)           112         tf.__operators__.getitem_53[0][0]\n",
      "__________________________________________________________________________________________________\n",
      "embedding_54 (Embedding)        (None, 16)           48          tf.__operators__.getitem_54[0][0]\n",
      "__________________________________________________________________________________________________\n",
      "embedding_55 (Embedding)        (None, 16)           1616        tf.__operators__.getitem_55[0][0]\n",
      "__________________________________________________________________________________________________\n",
      "embedding_56 (Embedding)        (None, 16)           1599952     tf.__operators__.getitem_56[0][0]\n",
      "__________________________________________________________________________________________________\n",
      "tf.compat.v1.gather_21 (TFOpLam (None, 1)            0           tf.concat_15[0][0]               \n",
      "__________________________________________________________________________________________________\n",
      "tf.compat.v1.gather_22 (TFOpLam (None, 91)           0           tf.concat_15[0][0]               \n",
      "__________________________________________________________________________________________________\n",
      "tf.concat_16 (TFOpLambda)       (None, 160)          0           embedding_47[0][0]               \n",
      "                                                                 embedding_48[0][0]               \n",
      "                                                                 embedding_49[0][0]               \n",
      "                                                                 embedding_50[0][0]               \n",
      "                                                                 embedding_51[0][0]               \n",
      "                                                                 embedding_52[0][0]               \n",
      "                                                                 embedding_53[0][0]               \n",
      "                                                                 embedding_54[0][0]               \n",
      "                                                                 embedding_55[0][0]               \n",
      "                                                                 embedding_56[0][0]               \n",
      "__________________________________________________________________________________________________\n",
      "tf.cast_10 (TFOpLambda)         (None, 1)            0           tf.compat.v1.gather_21[0][0]     \n",
      "__________________________________________________________________________________________________\n",
      "tf.concat_17 (TFOpLambda)       (None, 251)          0           tf.compat.v1.gather_22[0][0]     \n",
      "                                                                 tf.concat_16[0][0]               \n",
      "__________________________________________________________________________________________________\n",
      "tf.compat.v1.gather_20 (TFOpLam (None, 25)           0           tf.concat_15[0][0]               \n",
      "__________________________________________________________________________________________________\n",
      "tf.__operators__.add_10 (TFOpLa (None, 1)            0           tf.cast_10[0][0]                 \n",
      "__________________________________________________________________________________________________\n",
      "dnn_5 (DNN)                     (None, 64)           81728       tf.concat_17[0][0]               \n",
      "__________________________________________________________________________________________________\n",
      "linear_5 (Linear)               (None, 1)            28          tf.compat.v1.gather_20[0][0]     \n",
      "                                                                 tf.__operators__.add_10[0][0]    \n",
      "__________________________________________________________________________________________________\n",
      "dense_25 (Dense)                (None, 1)            65          dnn_5[0][0]                      \n",
      "__________________________________________________________________________________________________\n",
      "tf.math.multiply_10 (TFOpLambda (None, 1)            0           linear_5[0][0]                   \n",
      "__________________________________________________________________________________________________\n",
      "tf.math.multiply_11 (TFOpLambda (None, 1)            0           dense_25[0][0]                   \n",
      "__________________________________________________________________________________________________\n",
      "tf.__operators__.add_11 (TFOpLa (None, 1)            0           tf.math.multiply_10[0][0]        \n",
      "                                                                 tf.math.multiply_11[0][0]        \n",
      "__________________________________________________________________________________________________\n",
      "tf.math.sigmoid_5 (TFOpLambda)  (None, 1)            0           tf.__operators__.add_11[0][0]    \n",
      "==================================================================================================\n",
      "Total params: 1,685,213\n",
      "Trainable params: 1,685,213\n",
      "Non-trainable params: 0\n",
      "__________________________________________________________________________________________________\n"
     ]
    }
   ],
   "source": [
    "model = WideDeep(dense_feature_list, sparse_feature_list, wide_feature_list, deep_feature_list,\n",
    "                hidden_units=[128, 256, 64], activation='relu',\n",
    "                 dnn_dropout=0.1, embed_reg=1e-3, w_reg=1e-3) \n",
    "model.summary()"
   ]
  },
  {
   "cell_type": "code",
   "execution_count": 51,
   "id": "9a102096-4ff8-4aaf-8aef-b3fe0d7f87d0",
   "metadata": {},
   "outputs": [
    {
     "name": "stdout",
     "output_type": "stream",
     "text": [
      "正样本个数: 51531, 负样本个数: 80818, 总样本数: 132349\n"
     ]
    }
   ],
   "source": [
    "train_X, train_y = get_model_input(data, all_feature_list=all_feature_list, target='isorder', over_sample_rate=3, task='train')\n",
    "print('正样本个数: {}, 负样本个数: {}, 总样本数: {}'.format(train_y.sum(), len(train_y) - train_y.sum(), len(train_y)))\n",
    "learning_rate = 0.001\n",
    "batch_size = 1024\n",
    "epochs = 30\n",
    "model.compile(loss=binary_crossentropy, optimizer=Adam(learning_rate=learning_rate),\n",
    "                      metrics=[AUC()]) # BinaryAccuracy(threshold=0.5)"
   ]
  },
  {
   "cell_type": "code",
   "execution_count": 52,
   "id": "77b1bf78-de3f-4474-ab9e-c4942ada10c1",
   "metadata": {
    "tags": []
   },
   "outputs": [
    {
     "name": "stdout",
     "output_type": "stream",
     "text": [
      "Epoch 1/30\n",
      "117/117 [==============================] - 7s 30ms/step - loss: 0.7031 - auc_4: 0.9316 - val_loss: 0.3654 - val_auc_4: 0.9560\n",
      "Epoch 2/30\n",
      "117/117 [==============================] - 2s 19ms/step - loss: 0.3300 - auc_4: 0.9593 - val_loss: 0.3046 - val_auc_4: 0.9645\n",
      "Epoch 3/30\n",
      "117/117 [==============================] - 2s 20ms/step - loss: 0.2967 - auc_4: 0.9652 - val_loss: 0.2861 - val_auc_4: 0.9673\n",
      "Epoch 4/30\n",
      "117/117 [==============================] - 2s 19ms/step - loss: 0.2804 - auc_4: 0.9685 - val_loss: 0.2770 - val_auc_4: 0.9688\n",
      "Epoch 5/30\n",
      "117/117 [==============================] - 2s 19ms/step - loss: 0.2720 - auc_4: 0.9702 - val_loss: 0.2725 - val_auc_4: 0.9705\n",
      "Epoch 6/30\n",
      "117/117 [==============================] - 2s 19ms/step - loss: 0.2672 - auc_4: 0.9710 - val_loss: 0.2667 - val_auc_4: 0.9713\n",
      "Epoch 7/30\n",
      "117/117 [==============================] - 2s 19ms/step - loss: 0.2621 - auc_4: 0.9722 - val_loss: 0.2645 - val_auc_4: 0.9717\n",
      "Epoch 8/30\n",
      "117/117 [==============================] - 2s 19ms/step - loss: 0.2588 - auc_4: 0.9730 - val_loss: 0.2599 - val_auc_4: 0.9727\n",
      "Epoch 9/30\n",
      "117/117 [==============================] - 2s 18ms/step - loss: 0.2569 - auc_4: 0.9733 - val_loss: 0.2594 - val_auc_4: 0.9727\n",
      "Epoch 10/30\n",
      "117/117 [==============================] - 2s 19ms/step - loss: 0.2559 - auc_4: 0.9735 - val_loss: 0.2588 - val_auc_4: 0.9726\n",
      "Epoch 11/30\n",
      "117/117 [==============================] - 2s 19ms/step - loss: 0.2529 - auc_4: 0.9742 - val_loss: 0.2594 - val_auc_4: 0.9725\n",
      "Epoch 12/30\n",
      "117/117 [==============================] - 2s 20ms/step - loss: 0.2521 - auc_4: 0.9743 - val_loss: 0.2559 - val_auc_4: 0.9735\n",
      "Epoch 13/30\n",
      "117/117 [==============================] - 2s 19ms/step - loss: 0.2510 - auc_4: 0.9746 - val_loss: 0.2604 - val_auc_4: 0.9736\n",
      "Epoch 14/30\n",
      "117/117 [==============================] - 2s 19ms/step - loss: 0.2495 - auc_4: 0.9749 - val_loss: 0.2544 - val_auc_4: 0.9738\n",
      "Epoch 15/30\n",
      "117/117 [==============================] - 2s 19ms/step - loss: 0.2487 - auc_4: 0.9751 - val_loss: 0.2560 - val_auc_4: 0.9735\n",
      "Epoch 16/30\n",
      "117/117 [==============================] - 2s 19ms/step - loss: 0.2494 - auc_4: 0.9749 - val_loss: 0.2543 - val_auc_4: 0.9739\n",
      "Epoch 17/30\n",
      "117/117 [==============================] - 2s 19ms/step - loss: 0.2488 - auc_4: 0.9751 - val_loss: 0.2525 - val_auc_4: 0.9743\n",
      "Epoch 18/30\n",
      "117/117 [==============================] - 2s 18ms/step - loss: 0.2477 - auc_4: 0.9755 - val_loss: 0.2534 - val_auc_4: 0.9738\n",
      "Epoch 19/30\n",
      "117/117 [==============================] - 2s 19ms/step - loss: 0.2460 - auc_4: 0.9762 - val_loss: 0.2518 - val_auc_4: 0.9747\n",
      "Epoch 20/30\n",
      "117/117 [==============================] - 2s 19ms/step - loss: 0.2446 - auc_4: 0.9768 - val_loss: 0.2504 - val_auc_4: 0.9755\n",
      "Epoch 21/30\n",
      "117/117 [==============================] - 2s 19ms/step - loss: 0.2446 - auc_4: 0.9770 - val_loss: 0.2519 - val_auc_4: 0.9753\n",
      "Epoch 22/30\n",
      "117/117 [==============================] - 2s 19ms/step - loss: 0.2444 - auc_4: 0.9771 - val_loss: 0.2503 - val_auc_4: 0.9756\n",
      "Epoch 23/30\n",
      "117/117 [==============================] - 2s 19ms/step - loss: 0.2433 - auc_4: 0.9777 - val_loss: 0.2520 - val_auc_4: 0.9755\n",
      "Epoch 24/30\n",
      "117/117 [==============================] - 2s 19ms/step - loss: 0.2448 - auc_4: 0.9773 - val_loss: 0.2594 - val_auc_4: 0.9758\n",
      "Epoch 25/30\n",
      "117/117 [==============================] - 2s 18ms/step - loss: 0.2444 - auc_4: 0.9775 - val_loss: 0.2535 - val_auc_4: 0.9762\n"
     ]
    },
    {
     "data": {
      "text/plain": [
       "<keras.callbacks.History at 0x7f96441ceb70>"
      ]
     },
     "execution_count": 52,
     "metadata": {},
     "output_type": "execute_result"
    }
   ],
   "source": [
    "model.fit(\n",
    "    train_X,\n",
    "    train_y,\n",
    "    epochs=epochs,\n",
    "    callbacks=[EarlyStopping(monitor='val_loss', patience=3, restore_best_weights=True)],  # checkpoint\n",
    "    batch_size=batch_size,\n",
    "    validation_split=0.1\n",
    ")"
   ]
  },
  {
   "cell_type": "markdown",
   "id": "15fad0fb-61cc-4933-859b-390c588cce50",
   "metadata": {},
   "source": [
    "## 测试集"
   ]
  },
  {
   "cell_type": "code",
   "execution_count": 13,
   "id": "cbaa64f8-5117-4e25-8cf9-1bc02c28b1e5",
   "metadata": {},
   "outputs": [
    {
     "name": "stderr",
     "output_type": "stream",
     "text": [
      "/opt/app/conda/lib/python3.6/site-packages/IPython/core/interactiveshell.py:3072: DtypeWarning: Columns (50) have mixed types.Specify dtype option on import or set low_memory=False.\n",
      "  interactivity=interactivity, compiler=compiler, result=result)\n"
     ]
    },
    {
     "name": "stdout",
     "output_type": "stream",
     "text": [
      "test samples: 53358\n"
     ]
    }
   ],
   "source": [
    "test_file = '../dataset/tkt_kwd_test_728_730.csv'\n",
    "test_data = pd.read_csv(test_file)\n",
    "test_data['viewspotid_enc_index'] = np.where(test_data['viewspotid_enc_index'] <= viewspotid_enc_index_max, test_data['viewspotid_enc_index'], 0)\n",
    "print('test samples:', len(test_data))"
   ]
  },
  {
   "cell_type": "code",
   "execution_count": 53,
   "id": "f82f76d3-a5cb-4808-a87c-7da86bdd69ad",
   "metadata": {},
   "outputs": [
    {
     "name": "stdout",
     "output_type": "stream",
     "text": [
      "53/53 [==============================] - 3s 27ms/step - loss: 0.2512 - auc_4: 0.9623\n",
      "test loss: 0.251159\n",
      "test AUC: 0.962349\n"
     ]
    }
   ],
   "source": [
    "test_X, test_y = get_model_input(test_data, all_feature_list=all_feature_list, target='isorder', task='test')\n",
    "loss = model.evaluate(test_X, test_y, batch_size=batch_size)\n",
    "print('test loss: %f' % loss[0])\n",
    "print('test AUC: %f' % loss[1])\n",
    "# print('test accuracy: %f' % loss[2])"
   ]
  },
  {
   "cell_type": "code",
   "execution_count": 26,
   "id": "1c911484-ba45-44ae-b995-155253004be4",
   "metadata": {},
   "outputs": [],
   "source": [
    "# df_metric = test_data[['traceid', 'fine_rank', 'isorder']].copy()\n",
    "# df_metric['pred_score'] = 1 / df_metric['fine_rank']\n",
    "\n",
    "# gauc = get_gauc(df_metric,qid_col='traceid',label_col='isorder',y_pred_col='pred_score')\n",
    "# print('gauc: {}'.format(np.round(gauc, 4)))\n",
    "# n_list = [1,3,5,10,20,30]\n",
    "# for n in n_list:\n",
    "#     m = get_topn(df_metric,label_col='isorder',rank_col='fine_rank',n=n)\n",
    "#     print('top{}: {}'.format(n, np.round(m, 4)))"
   ]
  },
  {
   "cell_type": "code",
   "execution_count": 54,
   "id": "38c622c8-ebc2-487d-af14-c941f5ce049b",
   "metadata": {},
   "outputs": [],
   "source": [
    "pred = model.predict(test_X, batch_size=512)\n",
    "df_metric = test_data[['traceid', 'fine_rank', 'isorder']].copy()\n",
    "# df_metric['pred_score'] = 1 / df_metric['fine_rank']\n",
    "df_metric['pred_score_deep_model'] = pred\n",
    "df_metric['fine_rank_deep_model'] = df_metric.groupby(['traceid'])['pred_score_deep_model'].rank('dense', ascending=False).astype('int32')"
   ]
  },
  {
   "cell_type": "code",
   "execution_count": 55,
   "id": "c1800199-9283-4fd0-8ca6-84adff53aca3",
   "metadata": {},
   "outputs": [
    {
     "name": "stdout",
     "output_type": "stream",
     "text": [
      "gauc: 0.9081\n",
      "top1: 0.8325\n",
      "top3: 0.9463\n",
      "top5: 0.9759\n",
      "top10: 0.9928\n",
      "top20: 0.9991\n",
      "top30: 0.9996\n"
     ]
    }
   ],
   "source": [
    "gauc = get_gauc(df_metric,qid_col='traceid',label_col='isorder',y_pred_col='pred_score_deep_model')\n",
    "print('gauc: {}'.format(np.round(gauc, 4)))\n",
    "n_list = [1,3,5,10,20,30]\n",
    "for n in n_list:\n",
    "    m = get_topn(df_metric,label_col='isorder',rank_col='fine_rank_deep_model',n=n)\n",
    "    print('top{}: {}'.format(n, np.round(m, 4)))"
   ]
  },
  {
   "cell_type": "code",
   "execution_count": 49,
   "id": "e7cec482-1187-499f-91bf-b347b9796c33",
   "metadata": {},
   "outputs": [],
   "source": [
    "model.save_weights('./checkpoints/widedeep_v1_6432_relu_dim8_drop02_lr0001_epoch15')"
   ]
  },
  {
   "cell_type": "code",
   "execution_count": 51,
   "id": "67ff2fcb-df11-482d-a322-7fc60bda475f",
   "metadata": {},
   "outputs": [
    {
     "name": "stderr",
     "output_type": "stream",
     "text": [
      "WARNING:absl:Found untraced functions such as dropout_layer_call_and_return_conditional_losses, dropout_layer_call_fn, dense_2_layer_call_and_return_conditional_losses, dense_2_layer_call_fn, dense_layer_call_and_return_conditional_losses while saving (showing 5 of 20). These functions will not be directly callable after loading.\n"
     ]
    },
    {
     "name": "stdout",
     "output_type": "stream",
     "text": [
      "INFO:tensorflow:Assets written to: saved_model/widedeep_v1_6432_relu_dim8_drop02_lr0001_epoch15/assets\n"
     ]
    },
    {
     "name": "stderr",
     "output_type": "stream",
     "text": [
      "INFO:tensorflow:Assets written to: saved_model/widedeep_v1_6432_relu_dim8_drop02_lr0001_epoch15/assets\n"
     ]
    }
   ],
   "source": [
    "model.save('saved_model/widedeep_v1_6432_relu_dim8_drop02_lr0001_epoch15')"
   ]
  },
  {
   "cell_type": "code",
   "execution_count": 6,
   "id": "dee8a3bc-42fb-44c7-9a59-7204c35e0d5e",
   "metadata": {},
   "outputs": [],
   "source": [
    "# # example\n",
    "# # 两个 dense feature\n",
    "# dense_f1 = denseFeature('dense_feature_1')\n",
    "# dense_f2 = denseFeature('dense_feature_2')\n",
    "# # 两个 sparse feature\n",
    "# sparse_f1 = sparseFeature('sparse_feature_1', feat_num=2, embed_dim=8) \n",
    "# sparse_f2 = sparseFeature('sparse_feature_2', feat_num=5, embed_dim=8)\n",
    "# # \n",
    "# dense_feature_list = [dense_f1, dense_f2] # 所有连续特征\n",
    "# sparse_feature_list = [sparse_f1, sparse_f2] # 所有离散特征\n",
    "# # 分别指定wide  deep侧特征\n",
    "# wide_feature_list = [dense_f1, dense_f2] # 指定wide侧的特征，不指定则默认所有\n",
    "# deep_feature_list = [dense_f2, sparse_f1] # 指定deep侧的特征，不指定则默认所有\n",
    "\n",
    "\n",
    "# model = WideDeep(dense_feature_list, sparse_feature_list, wide_feature_list, deep_feature_list) \n",
    "# model.summary()\n",
    "\n",
    "# batch = 128\n",
    "# d_f1 = tf.constant(np.random.rand(batch, 1))\n",
    "# d_f2 = tf.constant(np.random.rand(batch, 1))\n",
    "# s_f1 = tf.constant(np.random.randint(2, size=(batch, 1)), dtype=tf.float32)\n",
    "# s_f2 = tf.constant(np.random.randint(5, size=(batch, 1)), dtype=tf.float32)\n",
    "# inputs = [d_f1, d_f2, s_f1, s_f2]\n",
    "# outputs = model(inputs)\n",
    "# print(outputs.shape)"
   ]
  },
  {
   "cell_type": "code",
   "execution_count": null,
   "id": "b50110ae-eed7-4f86-b55c-37146156d644",
   "metadata": {},
   "outputs": [],
   "source": []
  },
  {
   "cell_type": "code",
   "execution_count": 63,
   "id": "036a2d86-2fb1-4314-bc62-80d4b14c31f7",
   "metadata": {},
   "outputs": [],
   "source": [
    "# features = pd.DataFrame({'feature': wide_dense + deep_dense + sparse, \n",
    "#               'side': ['wide'] * len(wide_dense) + ['deep'] * len(deep_dense) + ['sparse'] * len(sparse)})\n",
    "\n",
    "# pd.merge(features, f_info, how='left', on=['feature']).to_csv('../dataset/model_feature_info.csv', index=False, encoding='utf-8')"
   ]
  },
  {
   "cell_type": "code",
   "execution_count": 9,
   "id": "2b3f7371-a1b8-492d-8b8a-c7ee2e1b6cdf",
   "metadata": {},
   "outputs": [],
   "source": [
    "sql = \"SELECT traceid, fine_rank,\\\n",
    "    viewspotid_enc_index, districtid_enc_index, user_residgscityid_enc_index, localdistrictid_enc_index, userlocaltype_enc_index\\\n",
    "    , around_tour, isholiday, isclick, isorder, is_unexposed_product\\\n",
    "    , district_userlocaltype_enc_index, age_enc_index, gender_enc_index, star_enc_index, member_level_enc_index\\\n",
    "    , crown_enc_index, user_value_enc_index, hot_p1m, ctr_p1m, order_p1m\\\n",
    "    , gmv_p1m, unitgmv_p1m, comment_p, comment_pl2m, hot_pla1m\\\n",
    "    , ctr_pla1m, order_pla1m, gmv_pla1m, unitgmv_pla1m, themeid_enc_index\\\n",
    "    , queryctr_pldk1m, new_p1m, season_p, basic_p, kwdcoeff_p\\\n",
    "    , text_score, local_poi_distance, local_district_distance, poi_district_distance, businessstatus\\\n",
    "    , dat, date_type, holiday_type, day_of_week, week_of_year\\\n",
    "    , month, pkgid_enc_index_click_pkgid_list_uk, click_seq_mask_uk, pkgid_enc_index_order_pkgid_list_uk, order_seq_mask_uk\\\n",
    "    , pkgid_enc_index_click_pkgid_list_u, click_seq_mask_u, pkgid_enc_index_order_pkgid_list_u, order_seq_mask_u, order_cnt_3m_p\\\n",
    "    , order_cnt_1m_p, order_cnt_15d_p, order_cnt_7d_p, order_cnt_3d_p, gmv_3m_p\\\n",
    "    , gmv_1m_p, gmv_15d_p, gmv_7d_p, gmv_3d_p, expos_uv_3m_p\\\n",
    "    , expos_uv_1m_p, expos_uv_15d_p, expos_uv_7d_p, expos_uv_3d_p, click_uv_3m_p\\\n",
    "    , click_uv_1m_p, click_uv_15d_p, click_uv_7d_p, click_uv_3d_p, ctr_3m_p\\\n",
    "    , ctr_1m_p, ctr_15d_p, ctr_7d_p, ctr_3d_p, unit_decay_gmv_3m_p\\\n",
    "    , unit_decay_gmv_1m_p, unit_decay_gmv_15d_p, unit_decay_gmv_7d_p, unit_decay_gmv_3d_p, ctcvr_3m_p\\\n",
    "    , ctcvr_1m_p, ctcvr_15d_p, ctcvr_7d_p, ctcvr_3d_p, cvr_3m_p\\\n",
    "    , cvr_1m_p, cvr_15d_p, cvr_7d_p, cvr_3d_p, detail_uv_3m_p\\\n",
    "    , detail_uv_1m_p, detail_uv_15d_p, detail_uv_7d_p, detail_uv_3d_p, isheat\\\n",
    "    , imquality_score, ishighqualitypoi, iscoverimage, hasticket, inchina\\\n",
    "    , isfree, order_cnt_3m_pl, order_cnt_1m_pl, order_cnt_15d_pl, order_cnt_7d_pl\\\n",
    "    , order_cnt_3d_pl, gmv_3m_pl, gmv_1m_pl, gmv_15d_pl, gmv_7d_pl\\\n",
    "    , gmv_3d_pl, expos_uv_3m_pl, expos_uv_1m_pl, expos_uv_15d_pl, expos_uv_7d_pl\\\n",
    "    , expos_uv_3d_pl, click_uv_3m_pl, click_uv_1m_pl, click_uv_15d_pl, click_uv_7d_pl\\\n",
    "    , click_uv_3d_pl, ctr_3m_pl, ctr_1m_pl, ctr_15d_pl, ctr_7d_pl\\\n",
    "    , ctr_3d_pl, unit_decay_gmv_3m_pl, unit_decay_gmv_1m_pl, unit_decay_gmv_15d_pl, unit_decay_gmv_7d_pl\\\n",
    "    , unit_decay_gmv_3d_pl, ctcvr_3m_pl, ctcvr_1m_pl, ctcvr_15d_pl, ctcvr_7d_pl\\\n",
    "    , ctcvr_3d_pl, cvr_3m_pl, cvr_1m_pl, cvr_15d_pl, cvr_7d_pl\\\n",
    "    , cvr_3d_pl, detail_uv_3m_pl, detail_uv_1m_pl, detail_uv_15d_pl, detail_uv_7d_pl\\\n",
    "    , detail_uv_3d_pl, order_cnt_3m_pdk, order_cnt_1m_pdk, order_cnt_15d_pdk, order_cnt_7d_pdk\\\n",
    "    , order_cnt_3d_pdk, gmv_3m_pdk, gmv_1m_pdk, gmv_15d_pdk, gmv_7d_pdk\\\n",
    "    , gmv_3d_pdk, expos_uv_3m_pdk, expos_uv_1m_pdk, expos_uv_15d_pdk, expos_uv_7d_pdk\\\n",
    "    , expos_uv_3d_pdk, click_uv_3m_pdk, click_uv_1m_pdk, click_uv_15d_pdk, click_uv_7d_pdk\\\n",
    "    , click_uv_3d_pdk, ctr_3m_pdk, ctr_1m_pdk, ctr_15d_pdk, ctr_7d_pdk\\\n",
    "    , ctr_3d_pdk, unit_decay_gmv_3m_pdk, unit_decay_gmv_1m_pdk, unit_decay_gmv_15d_pdk, unit_decay_gmv_7d_pdk\\\n",
    "    , unit_decay_gmv_3d_pdk, ctcvr_3m_pdk, ctcvr_1m_pdk, ctcvr_15d_pdk, ctcvr_7d_pdk\\\n",
    "    , ctcvr_3d_pdk, cvr_3m_pdk, cvr_1m_pdk, cvr_15d_pdk, cvr_7d_pdk\\\n",
    "    , cvr_3d_pdk, order_cnt_3m_u, order_cnt_1m_u, order_cnt_15d_u, order_cnt_7d_u\\\n",
    "    , order_cnt_3d_u, gmv_3m_u, gmv_1m_u, gmv_15d_u, gmv_7d_u\\\n",
    "    , gmv_3d_u, expos_uv_3m_u, expos_uv_1m_u, expos_uv_15d_u, expos_uv_7d_u\\\n",
    "    , expos_uv_3d_u, click_uv_3m_u, click_uv_1m_u, click_uv_15d_u, click_uv_7d_u\\\n",
    "    , click_uv_3d_u, ctr_3m_u, ctr_1m_u, ctr_15d_u, ctr_7d_u\\\n",
    "    , ctr_3d_u, unit_decay_gmv_3m_u, unit_decay_gmv_1m_u, unit_decay_gmv_15d_u, unit_decay_gmv_7d_u\\\n",
    "    , unit_decay_gmv_3d_u, ctcvr_3m_u, ctcvr_1m_u, ctcvr_15d_u, ctcvr_7d_u\\\n",
    "    , ctcvr_3d_u, cvr_3m_u, cvr_1m_u, cvr_15d_u, cvr_7d_u\\\n",
    "    , cvr_3d_u, order_cnt_3m_uk, order_cnt_1m_uk, order_cnt_15d_uk, order_cnt_7d_uk\\\n",
    "    , order_cnt_3d_uk, gmv_3m_uk, gmv_1m_uk, gmv_15d_uk, gmv_7d_uk\\\n",
    "    , gmv_3d_uk, expos_uv_3m_uk, expos_uv_1m_uk, expos_uv_15d_uk, expos_uv_7d_uk\\\n",
    "    , expos_uv_3d_uk, click_uv_3m_uk, click_uv_1m_uk, click_uv_15d_uk, click_uv_7d_uk\\\n",
    "    , click_uv_3d_uk, ctr_3m_uk, ctr_1m_uk, ctr_15d_uk, ctr_7d_uk\\\n",
    "    , ctr_3d_uk, unit_decay_gmv_3m_uk, unit_decay_gmv_1m_uk, unit_decay_gmv_15d_uk, unit_decay_gmv_7d_uk\\\n",
    "    , unit_decay_gmv_3d_uk, ctcvr_3m_uk, ctcvr_1m_uk, ctcvr_15d_uk, ctcvr_7d_uk\\\n",
    "    , ctcvr_3d_uk, cvr_3m_uk, cvr_1m_uk, cvr_15d_uk, cvr_7d_uk\\\n",
    "    , cvr_3d_uk, order_cnt_3m_puk, order_cnt_1m_puk, order_cnt_15d_puk, order_cnt_7d_puk\\\n",
    "    , order_cnt_3d_puk, gmv_3m_puk, gmv_1m_puk, gmv_15d_puk, gmv_7d_puk\\\n",
    "    , gmv_3d_puk, expos_uv_3m_puk, expos_uv_1m_puk, expos_uv_15d_puk, expos_uv_7d_puk\\\n",
    "    , expos_uv_3d_puk, click_uv_3m_puk, click_uv_1m_puk, click_uv_15d_puk, click_uv_7d_puk\\\n",
    "    , click_uv_3d_puk, ctr_3m_puk, ctr_1m_puk, ctr_15d_puk, ctr_7d_puk\\\n",
    "    , ctr_3d_puk, unit_decay_gmv_3m_puk, unit_decay_gmv_1m_puk, unit_decay_gmv_15d_puk, unit_decay_gmv_7d_puk\\\n",
    "    , unit_decay_gmv_3d_puk, ctcvr_3m_puk, ctcvr_1m_puk, ctcvr_15d_puk, ctcvr_7d_puk\\\n",
    "    , ctcvr_3d_puk, cvr_3m_puk, cvr_1m_puk, cvr_15d_puk, cvr_7d_puk\\\n",
    "    , cvr_3d_puk, order_cnt_3m_k, order_cnt_1m_k, order_cnt_15d_k, order_cnt_7d_k\\\n",
    "    , order_cnt_3d_k, gmv_3m_k, gmv_1m_k, gmv_15d_k, gmv_7d_k\\\n",
    "    , gmv_3d_k, expos_uv_3m_k, expos_uv_1m_k, expos_uv_15d_k, expos_uv_7d_k\\\n",
    "    , expos_uv_3d_k, click_uv_3m_k, click_uv_1m_k, click_uv_15d_k, click_uv_7d_k\\\n",
    "    , click_uv_3d_k, ctr_3m_k, ctr_1m_k, ctr_15d_k, ctr_7d_k\\\n",
    "    , ctr_3d_k, unit_decay_gmv_3m_k, unit_decay_gmv_1m_k, unit_decay_gmv_15d_k, unit_decay_gmv_7d_k\\\n",
    "    , unit_decay_gmv_3d_k, ctcvr_3m_k, ctcvr_1m_k, ctcvr_15d_k, ctcvr_7d_k\\\n",
    "    , ctcvr_3d_k, cvr_3m_k, cvr_1m_k, cvr_15d_k, cvr_7d_k\\\n",
    "    , cvr_3d_k, order_cnt_3m_pu, order_cnt_1m_pu, order_cnt_15d_pu, order_cnt_7d_pu\\\n",
    "    , order_cnt_3d_pu, gmv_3m_pu, gmv_1m_pu, gmv_15d_pu, gmv_7d_pu\\\n",
    "    , gmv_3d_pu, expos_uv_3m_pu, expos_uv_1m_pu, expos_uv_15d_pu, expos_uv_7d_pu\\\n",
    "    , expos_uv_3d_pu, click_uv_3m_pu, click_uv_1m_pu, click_uv_15d_pu, click_uv_7d_pu\\\n",
    "    , click_uv_3d_pu, ctr_3m_pu, ctr_1m_pu, ctr_15d_pu, ctr_7d_pu\\\n",
    "    , ctr_3d_pu, unit_decay_gmv_3m_pu, unit_decay_gmv_1m_pu, unit_decay_gmv_15d_pu, unit_decay_gmv_7d_pu\\\n",
    "    , unit_decay_gmv_3d_pu, ctcvr_3m_pu, ctcvr_1m_pu, ctcvr_15d_pu, ctcvr_7d_pu\\\n",
    "    , ctcvr_3d_pu, cvr_3m_pu, cvr_1m_pu, cvr_15d_pu, cvr_7d_pu\\\n",
    "    , cvr_3d_pu\\\n",
    "    , CASE WHEN order_cnts > 0 THEN 1 ELSE 0 END AS target \\\n",
    "FROM ods_actttdsearchdb.adm_srh_algo_ctrip_tkt_blackbox_ranking_sample_detail \\\n",
    "WHERE d BETWEEN '2022-07-28' AND '2022-07-30' \\\n",
    "    AND is_unexposed_product = 0 \\\n",
    "    AND order_in_trace > 0\""
   ]
  },
  {
   "cell_type": "code",
   "execution_count": 10,
   "id": "2d77c7b6-f758-46e7-8ec9-b64bb8003c14",
   "metadata": {},
   "outputs": [],
   "source": [
    "spark_df = spark.sql(sql)\n",
    "data = spark_df.toPandas()"
   ]
  },
  {
   "cell_type": "code",
   "execution_count": 11,
   "id": "e88a1693-a0c7-470e-acf3-f0029d126b03",
   "metadata": {},
   "outputs": [
    {
     "data": {
      "text/plain": [
       "(53358, 394)"
      ]
     },
     "execution_count": 11,
     "metadata": {},
     "output_type": "execute_result"
    }
   ],
   "source": [
    "data.shape"
   ]
  },
  {
   "cell_type": "code",
   "execution_count": 12,
   "id": "c2c1ec20-1123-45e4-ae54-72ad827057f6",
   "metadata": {},
   "outputs": [],
   "source": [
    "data.to_csv('../dataset/tkt_kwd_test_728_730.csv', index=False)"
   ]
  },
  {
   "cell_type": "code",
   "execution_count": null,
   "id": "bcc270ed-0d5c-4c20-bf19-a4709bb6decd",
   "metadata": {},
   "outputs": [],
   "source": []
  }
 ],
 "metadata": {
  "kernelspec": {
   "display_name": "Python 3",
   "language": "python",
   "name": "python3"
  },
  "language_info": {
   "codemirror_mode": {
    "name": "ipython",
    "version": 3
   },
   "file_extension": ".py",
   "mimetype": "text/x-python",
   "name": "python",
   "nbconvert_exporter": "python",
   "pygments_lexer": "ipython3",
   "version": "3.6.5"
  }
 },
 "nbformat": 4,
 "nbformat_minor": 5
}
